{
 "metadata": {
  "name": ""
 },
 "nbformat": 3,
 "nbformat_minor": 0,
 "worksheets": [
  {
   "cells": [
    {
     "cell_type": "heading",
     "level": 1,
     "metadata": {},
     "source": [
      "Calculating and visualising the Arnold cat map"
     ]
    },
    {
     "cell_type": "code",
     "collapsed": false,
     "input": [
      "%install_ext https://raw.github.com/minrk/ipython_extensions/master/nbtoc.py"
     ],
     "language": "python",
     "metadata": {},
     "outputs": [
      {
       "ename": "IOError",
       "evalue": "[Errno socket error] [Errno 8] nodename nor servname provided, or not known",
       "output_type": "pyerr",
       "traceback": [
        "\u001b[0;31m---------------------------------------------------------------------------\u001b[0m\n\u001b[0;31mIOError\u001b[0m                                   Traceback (most recent call last)",
        "\u001b[0;32m<ipython-input-1-5c1581d81133>\u001b[0m in \u001b[0;36m<module>\u001b[0;34m()\u001b[0m\n\u001b[0;32m----> 1\u001b[0;31m \u001b[0mget_ipython\u001b[0m\u001b[0;34m(\u001b[0m\u001b[0;34m)\u001b[0m\u001b[0;34m.\u001b[0m\u001b[0mmagic\u001b[0m\u001b[0;34m(\u001b[0m\u001b[0;34mu'install_ext https://raw.github.com/minrk/ipython_extensions/master/nbtoc.py'\u001b[0m\u001b[0;34m)\u001b[0m\u001b[0;34m\u001b[0m\u001b[0m\n\u001b[0m",
        "\u001b[0;32m/Users/dsanders/development/ipython/IPython/core/interactiveshell.pyc\u001b[0m in \u001b[0;36mmagic\u001b[0;34m(self, arg_s)\u001b[0m\n\u001b[1;32m   2158\u001b[0m         \u001b[0mmagic_name\u001b[0m\u001b[0;34m,\u001b[0m \u001b[0m_\u001b[0m\u001b[0;34m,\u001b[0m \u001b[0mmagic_arg_s\u001b[0m \u001b[0;34m=\u001b[0m \u001b[0marg_s\u001b[0m\u001b[0;34m.\u001b[0m\u001b[0mpartition\u001b[0m\u001b[0;34m(\u001b[0m\u001b[0;34m' '\u001b[0m\u001b[0;34m)\u001b[0m\u001b[0;34m\u001b[0m\u001b[0m\n\u001b[1;32m   2159\u001b[0m         \u001b[0mmagic_name\u001b[0m \u001b[0;34m=\u001b[0m \u001b[0mmagic_name\u001b[0m\u001b[0;34m.\u001b[0m\u001b[0mlstrip\u001b[0m\u001b[0;34m(\u001b[0m\u001b[0mprefilter\u001b[0m\u001b[0;34m.\u001b[0m\u001b[0mESC_MAGIC\u001b[0m\u001b[0;34m)\u001b[0m\u001b[0;34m\u001b[0m\u001b[0m\n\u001b[0;32m-> 2160\u001b[0;31m         \u001b[0;32mreturn\u001b[0m \u001b[0mself\u001b[0m\u001b[0;34m.\u001b[0m\u001b[0mrun_line_magic\u001b[0m\u001b[0;34m(\u001b[0m\u001b[0mmagic_name\u001b[0m\u001b[0;34m,\u001b[0m \u001b[0mmagic_arg_s\u001b[0m\u001b[0;34m)\u001b[0m\u001b[0;34m\u001b[0m\u001b[0m\n\u001b[0m\u001b[1;32m   2161\u001b[0m \u001b[0;34m\u001b[0m\u001b[0m\n\u001b[1;32m   2162\u001b[0m     \u001b[0;31m#-------------------------------------------------------------------------\u001b[0m\u001b[0;34m\u001b[0m\u001b[0;34m\u001b[0m\u001b[0m\n",
        "\u001b[0;32m/Users/dsanders/development/ipython/IPython/core/interactiveshell.pyc\u001b[0m in \u001b[0;36mrun_line_magic\u001b[0;34m(self, magic_name, line)\u001b[0m\n\u001b[1;32m   2079\u001b[0m                 \u001b[0mkwargs\u001b[0m\u001b[0;34m[\u001b[0m\u001b[0;34m'local_ns'\u001b[0m\u001b[0;34m]\u001b[0m \u001b[0;34m=\u001b[0m \u001b[0msys\u001b[0m\u001b[0;34m.\u001b[0m\u001b[0m_getframe\u001b[0m\u001b[0;34m(\u001b[0m\u001b[0mstack_depth\u001b[0m\u001b[0;34m)\u001b[0m\u001b[0;34m.\u001b[0m\u001b[0mf_locals\u001b[0m\u001b[0;34m\u001b[0m\u001b[0m\n\u001b[1;32m   2080\u001b[0m             \u001b[0;32mwith\u001b[0m \u001b[0mself\u001b[0m\u001b[0;34m.\u001b[0m\u001b[0mbuiltin_trap\u001b[0m\u001b[0;34m:\u001b[0m\u001b[0;34m\u001b[0m\u001b[0m\n\u001b[0;32m-> 2081\u001b[0;31m                 \u001b[0mresult\u001b[0m \u001b[0;34m=\u001b[0m \u001b[0mfn\u001b[0m\u001b[0;34m(\u001b[0m\u001b[0;34m*\u001b[0m\u001b[0margs\u001b[0m\u001b[0;34m,\u001b[0m\u001b[0;34m**\u001b[0m\u001b[0mkwargs\u001b[0m\u001b[0;34m)\u001b[0m\u001b[0;34m\u001b[0m\u001b[0m\n\u001b[0m\u001b[1;32m   2082\u001b[0m             \u001b[0;32mreturn\u001b[0m \u001b[0mresult\u001b[0m\u001b[0;34m\u001b[0m\u001b[0m\n\u001b[1;32m   2083\u001b[0m \u001b[0;34m\u001b[0m\u001b[0m\n",
        "\u001b[0;32m/Users/dsanders/development/ipython/IPython/core/magics/extension.pyc\u001b[0m in \u001b[0;36minstall_ext\u001b[0;34m(self, parameter_s)\u001b[0m\n",
        "\u001b[0;32m/Users/dsanders/development/ipython/IPython/core/magic.pyc\u001b[0m in \u001b[0;36m<lambda>\u001b[0;34m(f, *a, **k)\u001b[0m\n\u001b[1;32m    189\u001b[0m     \u001b[0;31m# but it's overkill for just that one bit of state.\u001b[0m\u001b[0;34m\u001b[0m\u001b[0;34m\u001b[0m\u001b[0m\n\u001b[1;32m    190\u001b[0m     \u001b[0;32mdef\u001b[0m \u001b[0mmagic_deco\u001b[0m\u001b[0;34m(\u001b[0m\u001b[0marg\u001b[0m\u001b[0;34m)\u001b[0m\u001b[0;34m:\u001b[0m\u001b[0;34m\u001b[0m\u001b[0m\n\u001b[0;32m--> 191\u001b[0;31m         \u001b[0mcall\u001b[0m \u001b[0;34m=\u001b[0m \u001b[0;32mlambda\u001b[0m \u001b[0mf\u001b[0m\u001b[0;34m,\u001b[0m \u001b[0;34m*\u001b[0m\u001b[0ma\u001b[0m\u001b[0;34m,\u001b[0m \u001b[0;34m**\u001b[0m\u001b[0mk\u001b[0m\u001b[0;34m:\u001b[0m \u001b[0mf\u001b[0m\u001b[0;34m(\u001b[0m\u001b[0;34m*\u001b[0m\u001b[0ma\u001b[0m\u001b[0;34m,\u001b[0m \u001b[0;34m**\u001b[0m\u001b[0mk\u001b[0m\u001b[0;34m)\u001b[0m\u001b[0;34m\u001b[0m\u001b[0m\n\u001b[0m\u001b[1;32m    192\u001b[0m \u001b[0;34m\u001b[0m\u001b[0m\n\u001b[1;32m    193\u001b[0m         \u001b[0;32mif\u001b[0m \u001b[0mcallable\u001b[0m\u001b[0;34m(\u001b[0m\u001b[0marg\u001b[0m\u001b[0;34m)\u001b[0m\u001b[0;34m:\u001b[0m\u001b[0;34m\u001b[0m\u001b[0m\n",
        "\u001b[0;32m/Users/dsanders/development/ipython/IPython/core/magics/extension.pyc\u001b[0m in \u001b[0;36minstall_ext\u001b[0;34m(self, parameter_s)\u001b[0m\n\u001b[1;32m     45\u001b[0m         \u001b[0;32mtry\u001b[0m\u001b[0;34m:\u001b[0m\u001b[0;34m\u001b[0m\u001b[0m\n\u001b[1;32m     46\u001b[0m             filename = self.shell.extension_manager.install_extension(args,\n\u001b[0;32m---> 47\u001b[0;31m                                                                  opts.get('n'))\n\u001b[0m\u001b[1;32m     48\u001b[0m         \u001b[0;32mexcept\u001b[0m \u001b[0mValueError\u001b[0m \u001b[0;32mas\u001b[0m \u001b[0me\u001b[0m\u001b[0;34m:\u001b[0m\u001b[0;34m\u001b[0m\u001b[0m\n\u001b[1;32m     49\u001b[0m             \u001b[0;32mprint\u001b[0m \u001b[0me\u001b[0m\u001b[0;34m\u001b[0m\u001b[0m\n",
        "\u001b[0;32m/Users/dsanders/development/ipython/IPython/core/extensions.pyc\u001b[0m in \u001b[0;36minstall_extension\u001b[0;34m(self, url, filename)\u001b[0m\n\u001b[1;32m    181\u001b[0m \u001b[0;34m\u001b[0m\u001b[0m\n\u001b[1;32m    182\u001b[0m         \u001b[0mfilename\u001b[0m \u001b[0;34m=\u001b[0m \u001b[0mos\u001b[0m\u001b[0;34m.\u001b[0m\u001b[0mpath\u001b[0m\u001b[0;34m.\u001b[0m\u001b[0mjoin\u001b[0m\u001b[0;34m(\u001b[0m\u001b[0mself\u001b[0m\u001b[0;34m.\u001b[0m\u001b[0mipython_extension_dir\u001b[0m\u001b[0;34m,\u001b[0m \u001b[0mfilename\u001b[0m\u001b[0;34m)\u001b[0m\u001b[0;34m\u001b[0m\u001b[0m\n\u001b[0;32m--> 183\u001b[0;31m         \u001b[0mcopy\u001b[0m\u001b[0;34m(\u001b[0m\u001b[0murl\u001b[0m\u001b[0;34m,\u001b[0m \u001b[0mfilename\u001b[0m\u001b[0;34m)\u001b[0m\u001b[0;34m\u001b[0m\u001b[0m\n\u001b[0m\u001b[1;32m    184\u001b[0m         \u001b[0;32mreturn\u001b[0m \u001b[0mfilename\u001b[0m\u001b[0;34m\u001b[0m\u001b[0m\n",
        "\u001b[0;32m/usr/local/Cellar/python/2.7.5/Frameworks/Python.framework/Versions/2.7/lib/python2.7/urllib.pyc\u001b[0m in \u001b[0;36murlretrieve\u001b[0;34m(url, filename, reporthook, data)\u001b[0m\n\u001b[1;32m     92\u001b[0m     \u001b[0;32mif\u001b[0m \u001b[0;32mnot\u001b[0m \u001b[0m_urlopener\u001b[0m\u001b[0;34m:\u001b[0m\u001b[0;34m\u001b[0m\u001b[0m\n\u001b[1;32m     93\u001b[0m         \u001b[0m_urlopener\u001b[0m \u001b[0;34m=\u001b[0m \u001b[0mFancyURLopener\u001b[0m\u001b[0;34m(\u001b[0m\u001b[0;34m)\u001b[0m\u001b[0;34m\u001b[0m\u001b[0m\n\u001b[0;32m---> 94\u001b[0;31m     \u001b[0;32mreturn\u001b[0m \u001b[0m_urlopener\u001b[0m\u001b[0;34m.\u001b[0m\u001b[0mretrieve\u001b[0m\u001b[0;34m(\u001b[0m\u001b[0murl\u001b[0m\u001b[0;34m,\u001b[0m \u001b[0mfilename\u001b[0m\u001b[0;34m,\u001b[0m \u001b[0mreporthook\u001b[0m\u001b[0;34m,\u001b[0m \u001b[0mdata\u001b[0m\u001b[0;34m)\u001b[0m\u001b[0;34m\u001b[0m\u001b[0m\n\u001b[0m\u001b[1;32m     95\u001b[0m \u001b[0;32mdef\u001b[0m \u001b[0murlcleanup\u001b[0m\u001b[0;34m(\u001b[0m\u001b[0;34m)\u001b[0m\u001b[0;34m:\u001b[0m\u001b[0;34m\u001b[0m\u001b[0m\n\u001b[1;32m     96\u001b[0m     \u001b[0;32mif\u001b[0m \u001b[0m_urlopener\u001b[0m\u001b[0;34m:\u001b[0m\u001b[0;34m\u001b[0m\u001b[0m\n",
        "\u001b[0;32m/usr/local/Cellar/python/2.7.5/Frameworks/Python.framework/Versions/2.7/lib/python2.7/urllib.pyc\u001b[0m in \u001b[0;36mretrieve\u001b[0;34m(self, url, filename, reporthook, data)\u001b[0m\n\u001b[1;32m    238\u001b[0m             \u001b[0;32mexcept\u001b[0m \u001b[0mIOError\u001b[0m\u001b[0;34m:\u001b[0m\u001b[0;34m\u001b[0m\u001b[0m\n\u001b[1;32m    239\u001b[0m                 \u001b[0;32mpass\u001b[0m\u001b[0;34m\u001b[0m\u001b[0m\n\u001b[0;32m--> 240\u001b[0;31m         \u001b[0mfp\u001b[0m \u001b[0;34m=\u001b[0m \u001b[0mself\u001b[0m\u001b[0;34m.\u001b[0m\u001b[0mopen\u001b[0m\u001b[0;34m(\u001b[0m\u001b[0murl\u001b[0m\u001b[0;34m,\u001b[0m \u001b[0mdata\u001b[0m\u001b[0;34m)\u001b[0m\u001b[0;34m\u001b[0m\u001b[0m\n\u001b[0m\u001b[1;32m    241\u001b[0m         \u001b[0;32mtry\u001b[0m\u001b[0;34m:\u001b[0m\u001b[0;34m\u001b[0m\u001b[0m\n\u001b[1;32m    242\u001b[0m             \u001b[0mheaders\u001b[0m \u001b[0;34m=\u001b[0m \u001b[0mfp\u001b[0m\u001b[0;34m.\u001b[0m\u001b[0minfo\u001b[0m\u001b[0;34m(\u001b[0m\u001b[0;34m)\u001b[0m\u001b[0;34m\u001b[0m\u001b[0m\n",
        "\u001b[0;32m/usr/local/Cellar/python/2.7.5/Frameworks/Python.framework/Versions/2.7/lib/python2.7/urllib.pyc\u001b[0m in \u001b[0;36mopen\u001b[0;34m(self, fullurl, data)\u001b[0m\n\u001b[1;32m    206\u001b[0m         \u001b[0;32mtry\u001b[0m\u001b[0;34m:\u001b[0m\u001b[0;34m\u001b[0m\u001b[0m\n\u001b[1;32m    207\u001b[0m             \u001b[0;32mif\u001b[0m \u001b[0mdata\u001b[0m \u001b[0;32mis\u001b[0m \u001b[0mNone\u001b[0m\u001b[0;34m:\u001b[0m\u001b[0;34m\u001b[0m\u001b[0m\n\u001b[0;32m--> 208\u001b[0;31m                 \u001b[0;32mreturn\u001b[0m \u001b[0mgetattr\u001b[0m\u001b[0;34m(\u001b[0m\u001b[0mself\u001b[0m\u001b[0;34m,\u001b[0m \u001b[0mname\u001b[0m\u001b[0;34m)\u001b[0m\u001b[0;34m(\u001b[0m\u001b[0murl\u001b[0m\u001b[0;34m)\u001b[0m\u001b[0;34m\u001b[0m\u001b[0m\n\u001b[0m\u001b[1;32m    209\u001b[0m             \u001b[0;32melse\u001b[0m\u001b[0;34m:\u001b[0m\u001b[0;34m\u001b[0m\u001b[0m\n\u001b[1;32m    210\u001b[0m                 \u001b[0;32mreturn\u001b[0m \u001b[0mgetattr\u001b[0m\u001b[0;34m(\u001b[0m\u001b[0mself\u001b[0m\u001b[0;34m,\u001b[0m \u001b[0mname\u001b[0m\u001b[0;34m)\u001b[0m\u001b[0;34m(\u001b[0m\u001b[0murl\u001b[0m\u001b[0;34m,\u001b[0m \u001b[0mdata\u001b[0m\u001b[0;34m)\u001b[0m\u001b[0;34m\u001b[0m\u001b[0m\n",
        "\u001b[0;32m/usr/local/Cellar/python/2.7.5/Frameworks/Python.framework/Versions/2.7/lib/python2.7/urllib.pyc\u001b[0m in \u001b[0;36mopen_https\u001b[0;34m(self, url, data)\u001b[0m\n\u001b[1;32m    435\u001b[0m             \u001b[0;32mif\u001b[0m \u001b[0mrealhost\u001b[0m\u001b[0;34m:\u001b[0m \u001b[0mh\u001b[0m\u001b[0;34m.\u001b[0m\u001b[0mputheader\u001b[0m\u001b[0;34m(\u001b[0m\u001b[0;34m'Host'\u001b[0m\u001b[0;34m,\u001b[0m \u001b[0mrealhost\u001b[0m\u001b[0;34m)\u001b[0m\u001b[0;34m\u001b[0m\u001b[0m\n\u001b[1;32m    436\u001b[0m             \u001b[0;32mfor\u001b[0m \u001b[0margs\u001b[0m \u001b[0;32min\u001b[0m \u001b[0mself\u001b[0m\u001b[0;34m.\u001b[0m\u001b[0maddheaders\u001b[0m\u001b[0;34m:\u001b[0m \u001b[0mh\u001b[0m\u001b[0;34m.\u001b[0m\u001b[0mputheader\u001b[0m\u001b[0;34m(\u001b[0m\u001b[0;34m*\u001b[0m\u001b[0margs\u001b[0m\u001b[0;34m)\u001b[0m\u001b[0;34m\u001b[0m\u001b[0m\n\u001b[0;32m--> 437\u001b[0;31m             \u001b[0mh\u001b[0m\u001b[0;34m.\u001b[0m\u001b[0mendheaders\u001b[0m\u001b[0;34m(\u001b[0m\u001b[0mdata\u001b[0m\u001b[0;34m)\u001b[0m\u001b[0;34m\u001b[0m\u001b[0m\n\u001b[0m\u001b[1;32m    438\u001b[0m             \u001b[0merrcode\u001b[0m\u001b[0;34m,\u001b[0m \u001b[0merrmsg\u001b[0m\u001b[0;34m,\u001b[0m \u001b[0mheaders\u001b[0m \u001b[0;34m=\u001b[0m \u001b[0mh\u001b[0m\u001b[0;34m.\u001b[0m\u001b[0mgetreply\u001b[0m\u001b[0;34m(\u001b[0m\u001b[0;34m)\u001b[0m\u001b[0;34m\u001b[0m\u001b[0m\n\u001b[1;32m    439\u001b[0m             \u001b[0mfp\u001b[0m \u001b[0;34m=\u001b[0m \u001b[0mh\u001b[0m\u001b[0;34m.\u001b[0m\u001b[0mgetfile\u001b[0m\u001b[0;34m(\u001b[0m\u001b[0;34m)\u001b[0m\u001b[0;34m\u001b[0m\u001b[0m\n",
        "\u001b[0;32m/usr/local/Cellar/python/2.7.5/Frameworks/Python.framework/Versions/2.7/lib/python2.7/httplib.pyc\u001b[0m in \u001b[0;36mendheaders\u001b[0;34m(self, message_body)\u001b[0m\n\u001b[1;32m    967\u001b[0m         \u001b[0;32melse\u001b[0m\u001b[0;34m:\u001b[0m\u001b[0;34m\u001b[0m\u001b[0m\n\u001b[1;32m    968\u001b[0m             \u001b[0;32mraise\u001b[0m \u001b[0mCannotSendHeader\u001b[0m\u001b[0;34m(\u001b[0m\u001b[0;34m)\u001b[0m\u001b[0;34m\u001b[0m\u001b[0m\n\u001b[0;32m--> 969\u001b[0;31m         \u001b[0mself\u001b[0m\u001b[0;34m.\u001b[0m\u001b[0m_send_output\u001b[0m\u001b[0;34m(\u001b[0m\u001b[0mmessage_body\u001b[0m\u001b[0;34m)\u001b[0m\u001b[0;34m\u001b[0m\u001b[0m\n\u001b[0m\u001b[1;32m    970\u001b[0m \u001b[0;34m\u001b[0m\u001b[0m\n\u001b[1;32m    971\u001b[0m     \u001b[0;32mdef\u001b[0m \u001b[0mrequest\u001b[0m\u001b[0;34m(\u001b[0m\u001b[0mself\u001b[0m\u001b[0;34m,\u001b[0m \u001b[0mmethod\u001b[0m\u001b[0;34m,\u001b[0m \u001b[0murl\u001b[0m\u001b[0;34m,\u001b[0m \u001b[0mbody\u001b[0m\u001b[0;34m=\u001b[0m\u001b[0mNone\u001b[0m\u001b[0;34m,\u001b[0m \u001b[0mheaders\u001b[0m\u001b[0;34m=\u001b[0m\u001b[0;34m{\u001b[0m\u001b[0;34m}\u001b[0m\u001b[0;34m)\u001b[0m\u001b[0;34m:\u001b[0m\u001b[0;34m\u001b[0m\u001b[0m\n",
        "\u001b[0;32m/usr/local/Cellar/python/2.7.5/Frameworks/Python.framework/Versions/2.7/lib/python2.7/httplib.pyc\u001b[0m in \u001b[0;36m_send_output\u001b[0;34m(self, message_body)\u001b[0m\n\u001b[1;32m    827\u001b[0m             \u001b[0mmsg\u001b[0m \u001b[0;34m+=\u001b[0m \u001b[0mmessage_body\u001b[0m\u001b[0;34m\u001b[0m\u001b[0m\n\u001b[1;32m    828\u001b[0m             \u001b[0mmessage_body\u001b[0m \u001b[0;34m=\u001b[0m \u001b[0mNone\u001b[0m\u001b[0;34m\u001b[0m\u001b[0m\n\u001b[0;32m--> 829\u001b[0;31m         \u001b[0mself\u001b[0m\u001b[0;34m.\u001b[0m\u001b[0msend\u001b[0m\u001b[0;34m(\u001b[0m\u001b[0mmsg\u001b[0m\u001b[0;34m)\u001b[0m\u001b[0;34m\u001b[0m\u001b[0m\n\u001b[0m\u001b[1;32m    830\u001b[0m         \u001b[0;32mif\u001b[0m \u001b[0mmessage_body\u001b[0m \u001b[0;32mis\u001b[0m \u001b[0;32mnot\u001b[0m \u001b[0mNone\u001b[0m\u001b[0;34m:\u001b[0m\u001b[0;34m\u001b[0m\u001b[0m\n\u001b[1;32m    831\u001b[0m             \u001b[0;31m#message_body was not a string (i.e. it is a file) and\u001b[0m\u001b[0;34m\u001b[0m\u001b[0;34m\u001b[0m\u001b[0m\n",
        "\u001b[0;32m/usr/local/Cellar/python/2.7.5/Frameworks/Python.framework/Versions/2.7/lib/python2.7/httplib.pyc\u001b[0m in \u001b[0;36msend\u001b[0;34m(self, data)\u001b[0m\n\u001b[1;32m    789\u001b[0m         \u001b[0;32mif\u001b[0m \u001b[0mself\u001b[0m\u001b[0;34m.\u001b[0m\u001b[0msock\u001b[0m \u001b[0;32mis\u001b[0m \u001b[0mNone\u001b[0m\u001b[0;34m:\u001b[0m\u001b[0;34m\u001b[0m\u001b[0m\n\u001b[1;32m    790\u001b[0m             \u001b[0;32mif\u001b[0m \u001b[0mself\u001b[0m\u001b[0;34m.\u001b[0m\u001b[0mauto_open\u001b[0m\u001b[0;34m:\u001b[0m\u001b[0;34m\u001b[0m\u001b[0m\n\u001b[0;32m--> 791\u001b[0;31m                 \u001b[0mself\u001b[0m\u001b[0;34m.\u001b[0m\u001b[0mconnect\u001b[0m\u001b[0;34m(\u001b[0m\u001b[0;34m)\u001b[0m\u001b[0;34m\u001b[0m\u001b[0m\n\u001b[0m\u001b[1;32m    792\u001b[0m             \u001b[0;32melse\u001b[0m\u001b[0;34m:\u001b[0m\u001b[0;34m\u001b[0m\u001b[0m\n\u001b[1;32m    793\u001b[0m                 \u001b[0;32mraise\u001b[0m \u001b[0mNotConnected\u001b[0m\u001b[0;34m(\u001b[0m\u001b[0;34m)\u001b[0m\u001b[0;34m\u001b[0m\u001b[0m\n",
        "\u001b[0;32m/usr/local/Cellar/python/2.7.5/Frameworks/Python.framework/Versions/2.7/lib/python2.7/httplib.pyc\u001b[0m in \u001b[0;36mconnect\u001b[0;34m(self)\u001b[0m\n\u001b[1;32m   1170\u001b[0m \u001b[0;34m\u001b[0m\u001b[0m\n\u001b[1;32m   1171\u001b[0m             sock = socket.create_connection((self.host, self.port),\n\u001b[0;32m-> 1172\u001b[0;31m                                             self.timeout, self.source_address)\n\u001b[0m\u001b[1;32m   1173\u001b[0m             \u001b[0;32mif\u001b[0m \u001b[0mself\u001b[0m\u001b[0;34m.\u001b[0m\u001b[0m_tunnel_host\u001b[0m\u001b[0;34m:\u001b[0m\u001b[0;34m\u001b[0m\u001b[0m\n\u001b[1;32m   1174\u001b[0m                 \u001b[0mself\u001b[0m\u001b[0;34m.\u001b[0m\u001b[0msock\u001b[0m \u001b[0;34m=\u001b[0m \u001b[0msock\u001b[0m\u001b[0;34m\u001b[0m\u001b[0m\n",
        "\u001b[0;32m/usr/local/Cellar/python/2.7.5/Frameworks/Python.framework/Versions/2.7/lib/python2.7/socket.pyc\u001b[0m in \u001b[0;36mcreate_connection\u001b[0;34m(address, timeout, source_address)\u001b[0m\n\u001b[1;32m    551\u001b[0m     \u001b[0mhost\u001b[0m\u001b[0;34m,\u001b[0m \u001b[0mport\u001b[0m \u001b[0;34m=\u001b[0m \u001b[0maddress\u001b[0m\u001b[0;34m\u001b[0m\u001b[0m\n\u001b[1;32m    552\u001b[0m     \u001b[0merr\u001b[0m \u001b[0;34m=\u001b[0m \u001b[0mNone\u001b[0m\u001b[0;34m\u001b[0m\u001b[0m\n\u001b[0;32m--> 553\u001b[0;31m     \u001b[0;32mfor\u001b[0m \u001b[0mres\u001b[0m \u001b[0;32min\u001b[0m \u001b[0mgetaddrinfo\u001b[0m\u001b[0;34m(\u001b[0m\u001b[0mhost\u001b[0m\u001b[0;34m,\u001b[0m \u001b[0mport\u001b[0m\u001b[0;34m,\u001b[0m \u001b[0;36m0\u001b[0m\u001b[0;34m,\u001b[0m \u001b[0mSOCK_STREAM\u001b[0m\u001b[0;34m)\u001b[0m\u001b[0;34m:\u001b[0m\u001b[0;34m\u001b[0m\u001b[0m\n\u001b[0m\u001b[1;32m    554\u001b[0m         \u001b[0maf\u001b[0m\u001b[0;34m,\u001b[0m \u001b[0msocktype\u001b[0m\u001b[0;34m,\u001b[0m \u001b[0mproto\u001b[0m\u001b[0;34m,\u001b[0m \u001b[0mcanonname\u001b[0m\u001b[0;34m,\u001b[0m \u001b[0msa\u001b[0m \u001b[0;34m=\u001b[0m \u001b[0mres\u001b[0m\u001b[0;34m\u001b[0m\u001b[0m\n\u001b[1;32m    555\u001b[0m         \u001b[0msock\u001b[0m \u001b[0;34m=\u001b[0m \u001b[0mNone\u001b[0m\u001b[0;34m\u001b[0m\u001b[0m\n",
        "\u001b[0;31mIOError\u001b[0m: [Errno socket error] [Errno 8] nodename nor servname provided, or not known"
       ]
      }
     ],
     "prompt_number": 1
    },
    {
     "cell_type": "code",
     "collapsed": false,
     "input": [
      "%load_ext nbtoc\n",
      "%nbtoc"
     ],
     "language": "python",
     "metadata": {},
     "outputs": []
    },
    {
     "cell_type": "markdown",
     "metadata": {},
     "source": [
      "The Arnold cat map is a canonical example of a (uniformly) *hyperbolic* (\"*chaotic*\") area-preserving, or \"Hamiltonian\", dynamical system.\n",
      "In this notebook, we will construct figures showing the action of this map. To do so, we will use some computational geometry to manipulate\n",
      "line segments and polygons; in particular, it will be necessary to find their intersections."
     ]
    },
    {
     "cell_type": "code",
     "collapsed": false,
     "input": [
      "%matplotlib inline\n",
      "%config InlineBackend.figure_format = \"svg\""
     ],
     "language": "python",
     "metadata": {},
     "outputs": [],
     "prompt_number": 53
    },
    {
     "cell_type": "code",
     "collapsed": false,
     "input": [
      "import numpy as np\n",
      "from Polygon_class import *\n",
      "\n",
      "from matplotlib import pyplot as plt"
     ],
     "language": "python",
     "metadata": {},
     "outputs": [],
     "prompt_number": 54
    },
    {
     "cell_type": "code",
     "collapsed": false,
     "input": [
      "def norm(v):\n",
      "    return np.sqrt(np.dot(v, v))"
     ],
     "language": "python",
     "metadata": {},
     "outputs": [],
     "prompt_number": 55
    },
    {
     "cell_type": "heading",
     "level": 2,
     "metadata": {},
     "source": [
      "Simple computational geometry"
     ]
    },
    {
     "cell_type": "markdown",
     "metadata": {},
     "source": [
      "It is first necessary to do define some simple concepts and functions from computational geometry."
     ]
    },
    {
     "cell_type": "heading",
     "level": 3,
     "metadata": {},
     "source": [
      "Line segments"
     ]
    },
    {
     "cell_type": "markdown",
     "metadata": {},
     "source": [
      "We first define an object to represent a\n",
      "directed line segment joining two points $\\mathbf{p}_0$ and $\\mathbf{p}_1$."
     ]
    },
    {
     "cell_type": "heading",
     "level": 2,
     "metadata": {},
     "source": [
      "Mapping vertices and polygons"
     ]
    },
    {
     "cell_type": "markdown",
     "metadata": {},
     "source": [
      "A *map* is a function\n",
      "$f : \\mathbb{R}^2 \\to \\mathbb{R}^2.$ \n",
      "Our first example is the map $\\mathbf{x} \\overset{f}{\\mapsto} \\mathsf{M} \\cdot \\mathbf{x}$, where\n",
      "\n",
      "$$\\mathsf{M} := \\begin{pmatrix} 2 & 1 \\\\ 1 & 1 \\end{pmatrix}:$$"
     ]
    },
    {
     "cell_type": "code",
     "collapsed": false,
     "input": [
      "M = np.array([[2, 1], [1, 1]])\n",
      "\n",
      "f = lambda x: np.dot(M, x)\n",
      "\n",
      "print M"
     ],
     "language": "python",
     "metadata": {},
     "outputs": [
      {
       "output_type": "stream",
       "stream": "stdout",
       "text": [
        "[[2 1]\n",
        " [1 1]]\n"
       ]
      }
     ],
     "prompt_number": 4
    },
    {
     "cell_type": "markdown",
     "metadata": {},
     "source": [
      "`f` applies the map to a single vertex. Now we need something to apply it to all the vertices of a polygon, creating a new \n",
      "polygon:"
     ]
    },
    {
     "cell_type": "code",
     "collapsed": false,
     "input": [
      "def map_poly(f, poly):\n",
      "    \"\"\"Apply the map f to each vertex of the Poygon poly, returning a new Polygon\"\"\"\n",
      "    \n",
      "    vertices = poly.vertices\n",
      "    new_vertices = [f(vertex) for vertex in vertices]\n",
      "    \n",
      "    return DirectedPolygon(new_vertices)"
     ],
     "language": "python",
     "metadata": {},
     "outputs": [],
     "prompt_number": 5
    },
    {
     "cell_type": "markdown",
     "metadata": {},
     "source": [
      "Let's apply our map `f` to the unit square, and then apply it again to get the second iterate $f^{(2)} := f \\circ f$:"
     ]
    },
    {
     "cell_type": "code",
     "collapsed": false,
     "input": [
      "unit_square = DirectedPolygon([(0.,0.), (1.,0.), (1.,1.), (0.,1.)])\n",
      "\n",
      "iterates = [unit_square]"
     ],
     "language": "python",
     "metadata": {},
     "outputs": [],
     "prompt_number": 6
    },
    {
     "cell_type": "code",
     "collapsed": false,
     "input": [
      "iterates\n"
     ],
     "language": "python",
     "metadata": {},
     "outputs": [
      {
       "metadata": {},
       "output_type": "pyout",
       "prompt_number": 7,
       "text": [
        "[array([[ 0.,  0.],\n",
        "       [ 1.,  0.],\n",
        "       [ 1.,  1.],\n",
        "       [ 0.,  1.]])]"
       ]
      }
     ],
     "prompt_number": 7
    },
    {
     "cell_type": "markdown",
     "metadata": {},
     "source": [
      "Let us draw the original unit square and its first iterate:"
     ]
    },
    {
     "cell_type": "code",
     "collapsed": false,
     "input": [
      "def draw_polygon(poly):\n",
      "    plt.fill(poly.vertices[:,0], poly.vertices[:,1], alpha=0.5)"
     ],
     "language": "python",
     "metadata": {},
     "outputs": [],
     "prompt_number": 8
    },
    {
     "cell_type": "code",
     "collapsed": false,
     "input": [
      "draw_polygon(unit_square)\n",
      "\n",
      "\n",
      "plt.axis('scaled')\n",
      "plt.xlim(-0.2, 1.2)\n",
      "plt.ylim(-0.2, 1.2)\n",
      "\n",
      "plt.grid()\n",
      "\n",
      "plt.axis?"
     ],
     "language": "python",
     "metadata": {},
     "outputs": [],
     "prompt_number": 9
    },
    {
     "cell_type": "markdown",
     "metadata": {},
     "source": [
      "Let's make a function to calculate (if they are not already available)\n",
      "and draw higher iterates:"
     ]
    },
    {
     "cell_type": "code",
     "collapsed": false,
     "input": [
      "def draw_iterates(n):\n",
      "    \"\"\"Draw iterates up to and including the nth\"\"\"\n",
      "    \n",
      "    while len(iterates) < n+1:\n",
      "        iterates.append(map_poly(f, iterates[-1]))\n",
      "        \n",
      "    plt.grid(True)\n",
      "    plt.axis('scaled')\n",
      "    \n",
      "    for iterate in iterates[0:n+1]:\n",
      "        draw_polygon(iterate)\n",
      "    \n",
      "    plt.grid(True)\n",
      "    plt.axis('scaled')\n",
      "   \n",
      "    \n",
      "    plt.show()"
     ],
     "language": "python",
     "metadata": {},
     "outputs": [],
     "prompt_number": 10
    },
    {
     "cell_type": "markdown",
     "metadata": {},
     "source": [
      "The first iterate:"
     ]
    },
    {
     "cell_type": "code",
     "collapsed": false,
     "input": [
      "draw_iterates(1)"
     ],
     "language": "python",
     "metadata": {},
     "outputs": [],
     "prompt_number": 11
    },
    {
     "cell_type": "markdown",
     "metadata": {},
     "source": [
      "We can add the second iterate to the mix:"
     ]
    },
    {
     "cell_type": "code",
     "collapsed": false,
     "input": [
      "draw_iterates(2)"
     ],
     "language": "python",
     "metadata": {},
     "outputs": [],
     "prompt_number": 12
    },
    {
     "cell_type": "markdown",
     "metadata": {},
     "source": [
      "And why not add the next as well, just for fun:"
     ]
    },
    {
     "cell_type": "code",
     "collapsed": false,
     "input": [
      "draw_iterates(3)"
     ],
     "language": "python",
     "metadata": {},
     "outputs": [],
     "prompt_number": 13
    },
    {
     "cell_type": "markdown",
     "metadata": {},
     "source": [
      "It's clear that the resulting parallelogram is stretching itself more and\n",
      "more along a line. This line is the *unstable manifold* of the\n",
      "origin. Since the map is *linear*, the unstable manifold is equal to the unstable *subspace* of the linearization (which\n",
      "is just the map itself, since it is linear).\n",
      "\n",
      "The unstable subspace is given by the eigenvector whose eigenvalue is larger than $1$. Let's calculate these:"
     ]
    },
    {
     "cell_type": "code",
     "collapsed": false,
     "input": [
      "from numpy import linalg"
     ],
     "language": "python",
     "metadata": {},
     "outputs": [],
     "prompt_number": 14
    },
    {
     "cell_type": "code",
     "collapsed": false,
     "input": [
      "lamb, v = linalg.eig(M)\n",
      "lamb, v"
     ],
     "language": "python",
     "metadata": {},
     "outputs": [
      {
       "metadata": {},
       "output_type": "pyout",
       "prompt_number": 15,
       "text": [
        "(array([ 2.61803399,  0.38196601]),\n",
        " array([[ 0.85065081, -0.52573111],\n",
        "       [ 0.52573111,  0.85065081]]))"
       ]
      }
     ],
     "prompt_number": 15
    },
    {
     "cell_type": "markdown",
     "metadata": {},
     "source": [
      "Note that the eigenvectores are returned in the *columns* of the matrix. We can now add the eigenvector to our plot:"
     ]
    },
    {
     "cell_type": "code",
     "collapsed": false,
     "input": [
      "fig, (ax1) = plt.subplots()\n",
      "\n",
      "plt.plot([0, v[0,0]*8], [0, v[1,0]*8], 'k--', lw=0.5)\n",
      "plt.arrow(0, 0, v[0,0]*6, v[1, 0]*6, axes=ax1, head_width=0.2, head_length=0.1, fc=\"g\", ec=\"w\", width=0.05)\n",
      "\n",
      "draw_iterates(2)"
     ],
     "language": "python",
     "metadata": {},
     "outputs": [],
     "prompt_number": 16
    },
    {
     "cell_type": "code",
     "collapsed": false,
     "input": [
      "plt.plot([0, v[0,0]*15], [0, v[1,0]*15], 'k--', lw=0.5)\n",
      "plt.arrow(0, 0, v[0,0]*20, v[1, 0]*20, axes=ax1, head_width=0.2, head_length=0.1, fc=\"g\", ec=\"w\", width=0.05)\n",
      "\n",
      "draw_iterates(3)"
     ],
     "language": "python",
     "metadata": {},
     "outputs": [],
     "prompt_number": 17
    },
    {
     "cell_type": "heading",
     "level": 3,
     "metadata": {},
     "source": [
      "Interpolating the Arnold cat map"
     ]
    },
    {
     "cell_type": "markdown",
     "metadata": {},
     "source": [
      "To visualise the stretching action of the map in a more intuitive way, we could think about interpolating between the identity and the cat map. To look at that, we would like to do some symbolic computations, so we import the `sympy` package:"
     ]
    },
    {
     "cell_type": "code",
     "collapsed": false,
     "input": [
      "import sympy"
     ],
     "language": "python",
     "metadata": {},
     "outputs": [],
     "prompt_number": 18
    },
    {
     "cell_type": "code",
     "collapsed": false,
     "input": [
      "from sympy import init_printing\n",
      "init_printing()  # turn on pretty printing in the notebook"
     ],
     "language": "python",
     "metadata": {},
     "outputs": [],
     "prompt_number": 19
    },
    {
     "cell_type": "markdown",
     "metadata": {},
     "source": [
      "Let's define the identity matrix $\\mathsf{I}$ and the cat map matrix $\\mathsf{M}$:"
     ]
    },
    {
     "cell_type": "code",
     "collapsed": false,
     "input": [
      "Identity = sympy.Matrix([[1, 0], [0, 1]])\n",
      "MM = sympy.Matrix([[2, 1], [1, 1]])\n",
      "\n",
      "Identity, MM"
     ],
     "language": "python",
     "metadata": {},
     "outputs": [
      {
       "latex": [
        "$$\\begin{pmatrix}\\left[\\begin{matrix}1 & 0\\\\0 & 1\\end{matrix}\\right], & \\left[\\begin{matrix}2 & 1\\\\1 & 1\\end{matrix}\\right]\\end{pmatrix}$$"
       ],
       "metadata": {},
       "output_type": "pyout",
       "png": "[encoded data removed]",
       "prompt_number": 20,
       "text": [
        "\u239b\u23a11  0\u23a4, \u23a12  1\u23a4\u239e\n",
        "\u239c\u23a2    \u23a5  \u23a2    \u23a5\u239f\n",
        "\u239d\u23a30  1\u23a6  \u23a31  1\u23a6\u23a0"
       ]
      }
     ],
     "prompt_number": 20
    },
    {
     "cell_type": "markdown",
     "metadata": {},
     "source": [
      "Let's try a linear interpolation with a parameter $\\alpha$:"
     ]
    },
    {
     "cell_type": "code",
     "collapsed": false,
     "input": [
      "alpha = sympy.symbols('alpha')\n",
      "alpha"
     ],
     "language": "python",
     "metadata": {},
     "outputs": [
      {
       "latex": [
        "$$\\alpha$$"
       ],
       "metadata": {},
       "output_type": "pyout",
       "png": "[encoded data removed]",
       "prompt_number": 21,
       "text": [
        "\u03b1"
       ]
      }
     ],
     "prompt_number": 21
    },
    {
     "cell_type": "markdown",
     "metadata": {},
     "source": [
      "Let's define the linearly interpolated matrix $\\mathsf{M}_\\alpha := (1-\\alpha) \\mathsf{I} + \\alpha \\mathsf{M}$:"
     ]
    },
    {
     "cell_type": "code",
     "collapsed": false,
     "input": [
      "M = lambda alpha: (1-alpha)*Identity + alpha*MM\n",
      "M(alpha)"
     ],
     "language": "python",
     "metadata": {},
     "outputs": [
      {
       "latex": [
        "$$\\left[\\begin{matrix}\\alpha + 1 & \\alpha\\\\\\alpha & 1\\end{matrix}\\right]$$"
       ],
       "metadata": {},
       "output_type": "pyout",
       "png": "[encoded data removed]",
       "prompt_number": 22,
       "text": [
        "\u23a1\u03b1 + 1  \u03b1\u23a4\n",
        "\u23a2        \u23a5\n",
        "\u23a3  \u03b1    1\u23a6"
       ]
      }
     ],
     "prompt_number": 22
    },
    {
     "cell_type": "markdown",
     "metadata": {},
     "source": [
      "It's determinant is:"
     ]
    },
    {
     "cell_type": "code",
     "collapsed": false,
     "input": [
      "det = M(alpha).det()\n",
      "det"
     ],
     "language": "python",
     "metadata": {},
     "outputs": [
      {
       "latex": [
        "$$- \\alpha^{2} + \\alpha + 1$$"
       ],
       "metadata": {},
       "output_type": "pyout",
       "png": "[encoded data removed]",
       "prompt_number": 23,
       "text": [
        "   2        \n",
        "- \u03b1  + \u03b1 + 1"
       ]
      }
     ],
     "prompt_number": 23
    },
    {
     "cell_type": "markdown",
     "metadata": {},
     "source": [
      "Let's linearly interpolate the  of the vertices, for example the furthest one, $(1, 1)$:"
     ]
    },
    {
     "cell_type": "markdown",
     "metadata": {},
     "source": [
      "$$\\mathbf{z}_\\alpha = \n",
      "\\mathsf{M}_\\alpha \\left[\\begin{pmatrix} 1 \\\\ 1 \\end{pmatrix} \\right]:$$"
     ]
    },
    {
     "cell_type": "code",
     "collapsed": false,
     "input": [
      "z = lambda alpha: M(alpha) * sympy.Matrix([1,1])\n",
      "z(alpha)"
     ],
     "language": "python",
     "metadata": {},
     "outputs": [
      {
       "latex": [
        "$$\\left[\\begin{matrix}2 \\alpha + 1\\\\\\alpha + 1\\end{matrix}\\right]$$"
       ],
       "metadata": {},
       "output_type": "pyout",
       "png": "[encoded data removed]",
       "prompt_number": 24,
       "text": [
        "\u23a12\u22c5\u03b1 + 1\u23a4\n",
        "\u23a2       \u23a5\n",
        "\u23a3 \u03b1 + 1 \u23a6"
       ]
      }
     ],
     "prompt_number": 24
    },
    {
     "cell_type": "markdown",
     "metadata": {},
     "source": [
      "and now do the same with the other two vertices:"
     ]
    },
    {
     "cell_type": "code",
     "collapsed": false,
     "input": [
      "x = lambda alpha: M(alpha) * sympy.Matrix([1,0])\n",
      "y = lambda alpha: M(alpha) * sympy.Matrix([0,1])\n",
      "\n",
      "origin = sympy.Matrix([0, 0])\n",
      "\n",
      "vertices = lambda alpha: (origin, x(alpha), z(alpha), y(alpha))\n",
      "\n",
      "[vertices(0), vertices(1)]\n",
      "                          \n",
      "                          "
     ],
     "language": "python",
     "metadata": {},
     "outputs": [
      {
       "latex": [
        "$$\\begin{bmatrix}\\begin{pmatrix}\\left[\\begin{matrix}0\\\\0\\end{matrix}\\right], & \\left[\\begin{matrix}1\\\\0\\end{matrix}\\right], & \\left[\\begin{matrix}1\\\\1\\end{matrix}\\right], & \\left[\\begin{matrix}0\\\\1\\end{matrix}\\right]\\end{pmatrix}, & \\begin{pmatrix}\\left[\\begin{matrix}0\\\\0\\end{matrix}\\right], & \\left[\\begin{matrix}2\\\\1\\end{matrix}\\right], & \\left[\\begin{matrix}3\\\\2\\end{matrix}\\right], & \\left[\\begin{matrix}1\\\\1\\end{matrix}\\right]\\end{pmatrix}\\end{bmatrix}$$"
       ],
       "metadata": {},
       "output_type": "pyout",
       "png": "[encoded data removed]",
       "prompt_number": 25,
       "text": [
        "\u23a1\u239b\u23a10\u23a4, \u23a11\u23a4, \u23a11\u23a4, \u23a10\u23a4\u239e, \u239b\u23a10\u23a4, \u23a12\u23a4, \u23a13\u23a4, \u23a11\u23a4\u239e\u23a4\n",
        "\u23a2\u239c\u23a2 \u23a5  \u23a2 \u23a5  \u23a2 \u23a5  \u23a2 \u23a5\u239f  \u239c\u23a2 \u23a5  \u23a2 \u23a5  \u23a2 \u23a5  \u23a2 \u23a5\u239f\u23a5\n",
        "\u23a3\u239d\u23a30\u23a6  \u23a30\u23a6  \u23a31\u23a6  \u23a31\u23a6\u23a0  \u239d\u23a30\u23a6  \u23a31\u23a6  \u23a32\u23a6  \u23a31\u23a6\u23a0\u23a6"
       ]
      }
     ],
     "prompt_number": 25
    },
    {
     "cell_type": "markdown",
     "metadata": {},
     "source": [
      "Let's calculate the area of the resulting parallelogram; note that the shape is *not*  a parallelogram, but rather an arbitrary quadrilateral. This is given in terms of the vectors describing the diagonals (lines joining opposite vertices) of the qualidrateral, $\\mathbf{d}_1$ and $\\mathbf{d}_2$, by\n",
      "\n",
      "$$A = \\frac{1}{2} \\left| \\mathbf{d}_1 \\times \\mathbf{d}_2 \\right|; $$\n",
      "see [here (Wikipedia)](http://en.wikipedia.org/wiki/Quadrilateral#Vector_formulas)."
     ]
    },
    {
     "cell_type": "code",
     "collapsed": false,
     "input": [
      "diag1 = lambda alpha: z(alpha) - origin\n",
      "diag2 = lambda alpha: y(alpha) - x(alpha)\n",
      "\n",
      "diag1(alpha), diag2(alpha)"
     ],
     "language": "python",
     "metadata": {},
     "outputs": [
      {
       "latex": [
        "$$\\begin{pmatrix}\\left[\\begin{matrix}2 \\alpha + 1\\\\\\alpha + 1\\end{matrix}\\right], & \\left[\\begin{matrix}-1\\\\- \\alpha + 1\\end{matrix}\\right]\\end{pmatrix}$$"
       ],
       "metadata": {},
       "output_type": "pyout",
       "png": "[encoded data removed]",
       "prompt_number": 26,
       "text": [
        "\u239b\u23a12\u22c5\u03b1 + 1\u23a4, \u23a1  -1  \u23a4\u239e\n",
        "\u239c\u23a2       \u23a5  \u23a2      \u23a5\u239f\n",
        "\u239d\u23a3 \u03b1 + 1 \u23a6  \u23a3-\u03b1 + 1\u23a6\u23a0"
       ]
      }
     ],
     "prompt_number": 26
    },
    {
     "cell_type": "code",
     "collapsed": false,
     "input": [
      "def cross(v1, v2):\n",
      "    return v1[0]*v2[1] - v1[1]*v2[0]"
     ],
     "language": "python",
     "metadata": {},
     "outputs": [],
     "prompt_number": 27
    },
    {
     "cell_type": "code",
     "collapsed": false,
     "input": [
      "A = lambda alpha: cross(diag1(alpha), diag2(alpha)) / 2\n",
      "A(alpha)"
     ],
     "language": "python",
     "metadata": {},
     "outputs": [
      {
       "latex": [
        "$$\\frac{\\alpha}{2} + \\frac{1}{2} \\left(- \\alpha + 1\\right) \\left(2 \\alpha + 1\\right) + \\frac{1}{2}$$"
       ],
       "metadata": {},
       "output_type": "pyout",
       "png": "[encoded data removed]",
       "prompt_number": 28,
       "text": [
        "\u03b1   (-\u03b1 + 1)\u22c5(2\u22c5\u03b1 + 1)   1\n",
        "\u2500 + \u2500\u2500\u2500\u2500\u2500\u2500\u2500\u2500\u2500\u2500\u2500\u2500\u2500\u2500\u2500\u2500\u2500\u2500 + \u2500\n",
        "2           2            2"
       ]
      }
     ],
     "prompt_number": 28
    },
    {
     "cell_type": "code",
     "collapsed": false,
     "input": [
      "sympy.simplify(_)"
     ],
     "language": "python",
     "metadata": {},
     "outputs": [
      {
       "latex": [
        "$$- \\alpha^{2} + \\alpha + 1$$"
       ],
       "metadata": {},
       "output_type": "pyout",
       "png": "[encoded data removed]",
       "prompt_number": 29,
       "text": [
        "   2        \n",
        "- \u03b1  + \u03b1 + 1"
       ]
      }
     ],
     "prompt_number": 29
    },
    {
     "cell_type": "markdown",
     "metadata": {},
     "source": [
      "We wish this to be $1$ to have an area-preserving (*nonlinear*!) map, so we solve for $\\beta$ to satisfy\n",
      "this constraint:"
     ]
    },
    {
     "cell_type": "code",
     "collapsed": false,
     "input": [
      "sympy.solve(A(alpha)-1, alpha)"
     ],
     "language": "python",
     "metadata": {},
     "outputs": [
      {
       "latex": [
        "$$\\begin{bmatrix}0, & 1\\end{bmatrix}$$"
       ],
       "metadata": {},
       "output_type": "pyout",
       "png": "[encoded data removed]",
       "prompt_number": 30,
       "text": [
        "[0, 1]"
       ]
      }
     ],
     "prompt_number": 30
    },
    {
     "cell_type": "markdown",
     "metadata": {},
     "source": [
      "Thus this does *not* give an area-preserving map"
     ]
    },
    {
     "cell_type": "markdown",
     "metadata": {},
     "source": [
      "So the new interpolating *nonlinear* map would be as follows:"
     ]
    },
    {
     "cell_type": "markdown",
     "metadata": {},
     "source": [
      "We now have the coordinates of the 4 vertices of the new quadrilateral, given by $(0,0)$, $\\mathbf{y}(\\beta)$, $\\mathbf{z}(\\beta)$ and $\\mathbf{x}(\\alpha)$."
     ]
    },
    {
     "cell_type": "code",
     "collapsed": false,
     "input": [
      "y(beta).subs({alpha:0.5})"
     ],
     "language": "python",
     "metadata": {},
     "outputs": [
      {
       "ename": "NameError",
       "evalue": "name 'beta' is not defined",
       "output_type": "pyerr",
       "traceback": [
        "\u001b[0;31m---------------------------------------------------------------------------\u001b[0m\n\u001b[0;31mNameError\u001b[0m                                 Traceback (most recent call last)",
        "\u001b[0;32m<ipython-input-31-c073fa6f6b8b>\u001b[0m in \u001b[0;36m<module>\u001b[0;34m()\u001b[0m\n\u001b[0;32m----> 1\u001b[0;31m \u001b[0my\u001b[0m\u001b[0;34m(\u001b[0m\u001b[0mbeta\u001b[0m\u001b[0;34m)\u001b[0m\u001b[0;34m.\u001b[0m\u001b[0msubs\u001b[0m\u001b[0;34m(\u001b[0m\u001b[0;34m{\u001b[0m\u001b[0malpha\u001b[0m\u001b[0;34m:\u001b[0m\u001b[0;36m0.5\u001b[0m\u001b[0;34m}\u001b[0m\u001b[0;34m)\u001b[0m\u001b[0;34m\u001b[0m\u001b[0m\n\u001b[0m",
        "\u001b[0;31mNameError\u001b[0m: name 'beta' is not defined"
       ]
      }
     ],
     "prompt_number": 31
    },
    {
     "cell_type": "code",
     "collapsed": false,
     "input": [
      "origin = sympy.Matrix([0, 0])\n",
      "origin"
     ],
     "language": "python",
     "metadata": {},
     "outputs": []
    },
    {
     "cell_type": "code",
     "collapsed": false,
     "input": [
      "new_vertices = lambda alpha, beta: [origin, y(beta), x(alpha), z(beta)]"
     ],
     "language": "python",
     "metadata": {},
     "outputs": []
    },
    {
     "cell_type": "code",
     "collapsed": false,
     "input": [
      "new_vertices_float = np.array([vertex.subs({alpha:0.5}).evalf() for vertex in new_vertices(alpha, beta)]) \n",
      "new_vertices_float"
     ],
     "language": "python",
     "metadata": {},
     "outputs": []
    },
    {
     "cell_type": "heading",
     "level": 3,
     "metadata": {},
     "source": [
      "Correct attempt"
     ]
    },
    {
     "cell_type": "markdown",
     "metadata": {},
     "source": [
      "Rather, we must recognise that if we stretch out the farthest corner, the other corners must be pulled *in*\n",
      "towards the diagonal $y=x$ in order to maintain the area-preserving property. To obtain a parallelogram, we must have a certain symmetry, as follows."
     ]
    },
    {
     "cell_type": "markdown",
     "metadata": {},
     "source": [
      "Let $\\mathbf{z}_\\alpha$ be obtained by linearly interpolating between the top right corner of the original square and that of the first iterate: "
     ]
    },
    {
     "cell_type": "code",
     "collapsed": false,
     "input": [
      "sympy.Lambda?"
     ],
     "language": "python",
     "metadata": {},
     "outputs": []
    },
    {
     "cell_type": "code",
     "collapsed": false,
     "input": [
      "interp_cat = sympy.Lambda((alpha, x), (1-alpha) * x + \\\n",
      "                          alpha * CatMap * x)"
     ],
     "language": "python",
     "metadata": {},
     "outputs": []
    },
    {
     "cell_type": "code",
     "collapsed": false,
     "input": [
      "z = sympy.Lambda(alpha, (1-alpha) * sympy.Matrix([1,1]) + \\\n",
      "alpha * CatMap * sympy.Matrix([1,1]))\n",
      "\n",
      "z(alpha)"
     ],
     "language": "python",
     "metadata": {},
     "outputs": []
    },
    {
     "cell_type": "code",
     "collapsed": false,
     "input": [
      "print z(0), z(1)"
     ],
     "language": "python",
     "metadata": {},
     "outputs": []
    },
    {
     "cell_type": "code",
     "collapsed": false,
     "input": [
      "y = sympy.Lambda(alpha, (1-alpha) * sympy.Matrix([0,1]) + \\\n",
      "alpha * CatMap * sympy.Matrix([0,1]))\n",
      "\n",
      "y(alpha)"
     ],
     "language": "python",
     "metadata": {},
     "outputs": []
    },
    {
     "cell_type": "code",
     "collapsed": false,
     "input": [
      "x = sympy.Lambda(alpha, (1-alpha) * sympy.Matrix([0,1]) + \\\n",
      "alpha * CatMap * sympy.Matrix([1,1]))\n",
      "\n",
      "z(alpha)"
     ],
     "language": "python",
     "metadata": {},
     "outputs": []
    },
    {
     "cell_type": "markdown",
     "metadata": {},
     "source": [
      "To specify a parallelogram, we must now specify a vector $\\mathbf{v}$ leaving from $\\mathbf{z}_\\alpha$ (or, equivalently, from the origin); specifying one of these\n",
      "two vectors specifies the other *uniquely* by the requirement (constraint) of being a parallelogram (opposite sides are equal vectors). The set of such vectors is two-dimensional.\n",
      "\n",
      "If we now impose the requirement (constraint) that the area of the parallelogram is equal to $1$, then we should have a manifold of *dimension $1$* as the possible set of vectors $\\mathbf{v}$. In other words, we have the freedom to choose one parameter of the vector $\\mathbf{v}$ -- say, either the angle or the length of the vector."
     ]
    },
    {
     "cell_type": "markdown",
     "metadata": {},
     "source": [
      "One reaosonable choice is for the point $\\mathbf{y}_\\alpha$, the top left corner, to itself linearly interpolate between *its* own starting and finishing points."
     ]
    },
    {
     "cell_type": "code",
     "collapsed": false,
     "input": [
      "from sympy import Symbol\n",
      "from sympy import Lambda\n",
      "x= Symbol('x')\n",
      "f = Lambda(x, x**2)\n",
      "f"
     ],
     "language": "python",
     "metadata": {},
     "outputs": []
    },
    {
     "cell_type": "code",
     "collapsed": false,
     "input": [
      "unit_square"
     ],
     "language": "python",
     "metadata": {},
     "outputs": [
      {
       "metadata": {},
       "output_type": "pyout",
       "prompt_number": 32,
       "text": [
        "array([[ 0.,  0.],\n",
        "       [ 1.,  0.],\n",
        "       [ 1.,  1.],\n",
        "       [ 0.,  1.]])"
       ]
      }
     ],
     "prompt_number": 32
    },
    {
     "cell_type": "code",
     "collapsed": false,
     "input": [
      "expand_contract = lambda factor: sympy.Matrix([[factor, 0], [0, 1./factor]])\n",
      "expand_contract(np.sqrt(5))"
     ],
     "language": "python",
     "metadata": {},
     "outputs": [
      {
       "latex": [
        "$$\\left[\\begin{matrix}2 & 0\\\\0 & 0.5\\end{matrix}\\right]$$"
       ],
       "metadata": {},
       "output_type": "pyout",
       "png": "[encoded data removed]",
       "prompt_number": 56,
       "text": [
        "\u23a12   0 \u23a4\n",
        "\u23a2      \u23a5\n",
        "\u23a30  0.5\u23a6"
       ]
      }
     ],
     "prompt_number": 56
    },
    {
     "cell_type": "code",
     "collapsed": false,
     "input": [
      "M1 = np.array(expand_contract(np.sqrt(5))).astype(float)"
     ],
     "language": "python",
     "metadata": {},
     "outputs": [],
     "prompt_number": 99
    },
    {
     "cell_type": "code",
     "collapsed": false,
     "input": [
      "R = lambda theta: np.array([[np.cos(theta), -np.sin(theta)], [np.sin(theta), np.cos(theta)]])"
     ],
     "language": "python",
     "metadata": {},
     "outputs": [],
     "prompt_number": 100
    },
    {
     "cell_type": "code",
     "collapsed": false,
     "input": [
      "shear = lambda d: np.array([[1, d], [0, 1]])"
     ],
     "language": "python",
     "metadata": {},
     "outputs": [],
     "prompt_number": 101
    },
    {
     "cell_type": "code",
     "collapsed": false,
     "input": [
      "np.ar"
     ],
     "language": "python",
     "metadata": {},
     "outputs": [
      {
       "ename": "AttributeError",
       "evalue": "'module' object has no attribute 'ar'",
       "output_type": "pyerr",
       "traceback": [
        "\u001b[0;31m---------------------------------------------------------------------------\u001b[0m\n\u001b[0;31mAttributeError\u001b[0m                            Traceback (most recent call last)",
        "\u001b[0;32m<ipython-input-102-4dcec8b5eefc>\u001b[0m in \u001b[0;36m<module>\u001b[0;34m()\u001b[0m\n\u001b[0;32m----> 1\u001b[0;31m \u001b[0mnp\u001b[0m\u001b[0;34m.\u001b[0m\u001b[0mar\u001b[0m\u001b[0;34m\u001b[0m\u001b[0m\n\u001b[0m",
        "\u001b[0;31mAttributeError\u001b[0m: 'module' object has no attribute 'ar'"
       ]
      }
     ],
     "prompt_number": 102
    },
    {
     "cell_type": "code",
     "collapsed": false,
     "input": [
      "np.arctan2?"
     ],
     "language": "python",
     "metadata": {},
     "outputs": [],
     "prompt_number": 107
    },
    {
     "cell_type": "code",
     "collapsed": false,
     "input": [
      "transf = np.dot(M1, shear(1./np.sqrt(5.)))\n",
      "#transf = np.dot(shear(0.5), transf)\n",
      "transf = np.dot(R(np.arctan2(1., 2.)), transf)"
     ],
     "language": "python",
     "metadata": {},
     "outputs": [],
     "prompt_number": 116
    },
    {
     "cell_type": "code",
     "collapsed": false,
     "input": [
      "draw_polygon(unit_square)\n",
      "draw_polygon(map_poly(lambda x: np.dot(transf,x), unit_square))\n",
      "plt.axis('scaled')"
     ],
     "language": "python",
     "metadata": {},
     "outputs": [
      {
       "latex": [
        "$$\\begin{pmatrix}0.0, & 3.0, & 0.0, & 2.0\\end{pmatrix}$$"
       ],
       "metadata": {},
       "output_type": "pyout",
       "png": "[encoded data removed]",
       "prompt_number": 117,
       "text": [
        "(0.0, 3.0, 0.0, 2.0)"
       ]
      },
      {
       "metadata": {},
       "output_type": "display_data",
       "svg": [
        "<?xml version=\"1.0\" encoding=\"utf-8\" standalone=\"no\"?>\n",
        "<!DOCTYPE svg PUBLIC \"-//W3C//DTD SVG 1.1//EN\"\n",
        "  \"http://www.w3.org/Graphics/SVG/1.1/DTD/svg11.dtd\">\n",
        "<!-- Created with matplotlib (http://matplotlib.org/) -->\n",
        "<svg height=\"256pt\" version=\"1.1\" viewBox=\"0 0 375 256\" width=\"375pt\" xmlns=\"http://www.w3.org/2000/svg\" xmlns:xlink=\"http://www.w3.org/1999/xlink\">\n",
        " <defs>\n",
        "  <style type=\"text/css\">\n",
        "*{stroke-linecap:butt;stroke-linejoin:round;}\n",
        "  </style>\n",
        " </defs>\n",
        " <g id=\"figure_1\">\n",
        "  <g id=\"patch_1\">\n",
        "   <path d=\"\n",
        "M0 256.117\n",
        "L375.018 256.117\n",
        "L375.018 0\n",
        "L0 0\n",
        "z\n",
        "\" style=\"fill:#ffffff;\"/>\n",
        "  </g>\n",
        "  <g id=\"axes_1\">\n",
        "   <g id=\"patch_2\">\n",
        "    <path d=\"\n",
        "M25.7797 235.239\n",
        "L360.58 235.239\n",
        "L360.58 12.0391\n",
        "L25.7797 12.0391\n",
        "z\n",
        "\" style=\"fill:#ffffff;\"/>\n",
        "   </g>\n",
        "   <g id=\"patch_3\">\n",
        "    <path clip-path=\"url(#p16b034cec5)\" d=\"\n",
        "M25.7797 235.239\n",
        "L137.38 235.239\n",
        "L137.38 123.639\n",
        "L25.7797 123.639\n",
        "z\n",
        "\" style=\"fill:#0000ff;opacity:0.5;stroke:#000000;\"/>\n",
        "   </g>\n",
        "   <g id=\"patch_4\">\n",
        "    <path clip-path=\"url(#p16b034cec5)\" d=\"\n",
        "M25.7797 235.239\n",
        "L248.98 123.639\n",
        "L326.478 29.09\n",
        "L103.278 140.69\n",
        "z\n",
        "\" style=\"fill:#008000;opacity:0.5;stroke:#000000;\"/>\n",
        "   </g>\n",
        "   <g id=\"matplotlib.axis_1\">\n",
        "    <g id=\"xtick_1\">\n",
        "     <g id=\"line2d_1\">\n",
        "      <defs>\n",
        "       <path d=\"\n",
        "M0 0\n",
        "L0 -4\" id=\"m93b0483c22\" style=\"stroke:#000000;stroke-width:0.5;\"/>\n",
        "      </defs>\n",
        "      <g>\n",
        "       <use style=\"stroke:#000000;stroke-width:0.5;\" x=\"25.7796875\" xlink:href=\"#m93b0483c22\" y=\"235.2390625\"/>\n",
        "      </g>\n",
        "     </g>\n",
        "     <g id=\"line2d_2\">\n",
        "      <defs>\n",
        "       <path d=\"\n",
        "M0 0\n",
        "L0 4\" id=\"m741efc42ff\" style=\"stroke:#000000;stroke-width:0.5;\"/>\n",
        "      </defs>\n",
        "      <g>\n",
        "       <use style=\"stroke:#000000;stroke-width:0.5;\" x=\"25.7796875\" xlink:href=\"#m741efc42ff\" y=\"12.0390625\"/>\n",
        "      </g>\n",
        "     </g>\n",
        "     <g id=\"text_1\">\n",
        "      <!-- 0.0 -->\n",
        "      <defs>\n",
        "       <path d=\"\n",
        "M31.7812 66.4062\n",
        "Q24.1719 66.4062 20.3281 58.9062\n",
        "Q16.5 51.4219 16.5 36.375\n",
        "Q16.5 21.3906 20.3281 13.8906\n",
        "Q24.1719 6.39062 31.7812 6.39062\n",
        "Q39.4531 6.39062 43.2812 13.8906\n",
        "Q47.125 21.3906 47.125 36.375\n",
        "Q47.125 51.4219 43.2812 58.9062\n",
        "Q39.4531 66.4062 31.7812 66.4062\n",
        "M31.7812 74.2188\n",
        "Q44.0469 74.2188 50.5156 64.5156\n",
        "Q56.9844 54.8281 56.9844 36.375\n",
        "Q56.9844 17.9688 50.5156 8.26562\n",
        "Q44.0469 -1.42188 31.7812 -1.42188\n",
        "Q19.5312 -1.42188 13.0625 8.26562\n",
        "Q6.59375 17.9688 6.59375 36.375\n",
        "Q6.59375 54.8281 13.0625 64.5156\n",
        "Q19.5312 74.2188 31.7812 74.2188\" id=\"BitstreamVeraSans-Roman-30\"/>\n",
        "       <path d=\"\n",
        "M10.6875 12.4062\n",
        "L21 12.4062\n",
        "L21 0\n",
        "L10.6875 0\n",
        "z\n",
        "\" id=\"BitstreamVeraSans-Roman-2e\"/>\n",
        "      </defs>\n",
        "      <g transform=\"translate(18.48984375 246.8375)scale(0.1 -0.1)\">\n",
        "       <use xlink:href=\"#BitstreamVeraSans-Roman-30\"/>\n",
        "       <use x=\"63.623046875\" xlink:href=\"#BitstreamVeraSans-Roman-2e\"/>\n",
        "       <use x=\"95.41015625\" xlink:href=\"#BitstreamVeraSans-Roman-30\"/>\n",
        "      </g>\n",
        "     </g>\n",
        "    </g>\n",
        "    <g id=\"xtick_2\">\n",
        "     <g id=\"line2d_3\">\n",
        "      <g>\n",
        "       <use style=\"stroke:#000000;stroke-width:0.5;\" x=\"81.5796875\" xlink:href=\"#m93b0483c22\" y=\"235.2390625\"/>\n",
        "      </g>\n",
        "     </g>\n",
        "     <g id=\"line2d_4\">\n",
        "      <g>\n",
        "       <use style=\"stroke:#000000;stroke-width:0.5;\" x=\"81.5796875\" xlink:href=\"#m741efc42ff\" y=\"12.0390625\"/>\n",
        "      </g>\n",
        "     </g>\n",
        "     <g id=\"text_2\">\n",
        "      <!-- 0.5 -->\n",
        "      <defs>\n",
        "       <path d=\"\n",
        "M10.7969 72.9062\n",
        "L49.5156 72.9062\n",
        "L49.5156 64.5938\n",
        "L19.8281 64.5938\n",
        "L19.8281 46.7344\n",
        "Q21.9688 47.4688 24.1094 47.8281\n",
        "Q26.2656 48.1875 28.4219 48.1875\n",
        "Q40.625 48.1875 47.75 41.5\n",
        "Q54.8906 34.8125 54.8906 23.3906\n",
        "Q54.8906 11.625 47.5625 5.09375\n",
        "Q40.2344 -1.42188 26.9062 -1.42188\n",
        "Q22.3125 -1.42188 17.5469 -0.640625\n",
        "Q12.7969 0.140625 7.71875 1.70312\n",
        "L7.71875 11.625\n",
        "Q12.1094 9.23438 16.7969 8.0625\n",
        "Q21.4844 6.89062 26.7031 6.89062\n",
        "Q35.1562 6.89062 40.0781 11.3281\n",
        "Q45.0156 15.7656 45.0156 23.3906\n",
        "Q45.0156 31 40.0781 35.4375\n",
        "Q35.1562 39.8906 26.7031 39.8906\n",
        "Q22.75 39.8906 18.8125 39.0156\n",
        "Q14.8906 38.1406 10.7969 36.2812\n",
        "z\n",
        "\" id=\"BitstreamVeraSans-Roman-35\"/>\n",
        "      </defs>\n",
        "      <g transform=\"translate(74.39453125 246.8375)scale(0.1 -0.1)\">\n",
        "       <use xlink:href=\"#BitstreamVeraSans-Roman-30\"/>\n",
        "       <use x=\"63.623046875\" xlink:href=\"#BitstreamVeraSans-Roman-2e\"/>\n",
        "       <use x=\"95.41015625\" xlink:href=\"#BitstreamVeraSans-Roman-35\"/>\n",
        "      </g>\n",
        "     </g>\n",
        "    </g>\n",
        "    <g id=\"xtick_3\">\n",
        "     <g id=\"line2d_5\">\n",
        "      <g>\n",
        "       <use style=\"stroke:#000000;stroke-width:0.5;\" x=\"137.3796875\" xlink:href=\"#m93b0483c22\" y=\"235.2390625\"/>\n",
        "      </g>\n",
        "     </g>\n",
        "     <g id=\"line2d_6\">\n",
        "      <g>\n",
        "       <use style=\"stroke:#000000;stroke-width:0.5;\" x=\"137.3796875\" xlink:href=\"#m741efc42ff\" y=\"12.0390625\"/>\n",
        "      </g>\n",
        "     </g>\n",
        "     <g id=\"text_3\">\n",
        "      <!-- 1.0 -->\n",
        "      <defs>\n",
        "       <path d=\"\n",
        "M12.4062 8.29688\n",
        "L28.5156 8.29688\n",
        "L28.5156 63.9219\n",
        "L10.9844 60.4062\n",
        "L10.9844 69.3906\n",
        "L28.4219 72.9062\n",
        "L38.2812 72.9062\n",
        "L38.2812 8.29688\n",
        "L54.3906 8.29688\n",
        "L54.3906 0\n",
        "L12.4062 0\n",
        "z\n",
        "\" id=\"BitstreamVeraSans-Roman-31\"/>\n",
        "      </defs>\n",
        "      <g transform=\"translate(130.309375 246.8375)scale(0.1 -0.1)\">\n",
        "       <use xlink:href=\"#BitstreamVeraSans-Roman-31\"/>\n",
        "       <use x=\"63.623046875\" xlink:href=\"#BitstreamVeraSans-Roman-2e\"/>\n",
        "       <use x=\"95.41015625\" xlink:href=\"#BitstreamVeraSans-Roman-30\"/>\n",
        "      </g>\n",
        "     </g>\n",
        "    </g>\n",
        "    <g id=\"xtick_4\">\n",
        "     <g id=\"line2d_7\">\n",
        "      <g>\n",
        "       <use style=\"stroke:#000000;stroke-width:0.5;\" x=\"193.1796875\" xlink:href=\"#m93b0483c22\" y=\"235.2390625\"/>\n",
        "      </g>\n",
        "     </g>\n",
        "     <g id=\"line2d_8\">\n",
        "      <g>\n",
        "       <use style=\"stroke:#000000;stroke-width:0.5;\" x=\"193.1796875\" xlink:href=\"#m741efc42ff\" y=\"12.0390625\"/>\n",
        "      </g>\n",
        "     </g>\n",
        "     <g id=\"text_4\">\n",
        "      <!-- 1.5 -->\n",
        "      <g transform=\"translate(186.2140625 246.8375)scale(0.1 -0.1)\">\n",
        "       <use xlink:href=\"#BitstreamVeraSans-Roman-31\"/>\n",
        "       <use x=\"63.623046875\" xlink:href=\"#BitstreamVeraSans-Roman-2e\"/>\n",
        "       <use x=\"95.41015625\" xlink:href=\"#BitstreamVeraSans-Roman-35\"/>\n",
        "      </g>\n",
        "     </g>\n",
        "    </g>\n",
        "    <g id=\"xtick_5\">\n",
        "     <g id=\"line2d_9\">\n",
        "      <g>\n",
        "       <use style=\"stroke:#000000;stroke-width:0.5;\" x=\"248.9796875\" xlink:href=\"#m93b0483c22\" y=\"235.2390625\"/>\n",
        "      </g>\n",
        "     </g>\n",
        "     <g id=\"line2d_10\">\n",
        "      <g>\n",
        "       <use style=\"stroke:#000000;stroke-width:0.5;\" x=\"248.9796875\" xlink:href=\"#m741efc42ff\" y=\"12.0390625\"/>\n",
        "      </g>\n",
        "     </g>\n",
        "     <g id=\"text_5\">\n",
        "      <!-- 2.0 -->\n",
        "      <defs>\n",
        "       <path d=\"\n",
        "M19.1875 8.29688\n",
        "L53.6094 8.29688\n",
        "L53.6094 0\n",
        "L7.32812 0\n",
        "L7.32812 8.29688\n",
        "Q12.9375 14.1094 22.625 23.8906\n",
        "Q32.3281 33.6875 34.8125 36.5312\n",
        "Q39.5469 41.8438 41.4219 45.5312\n",
        "Q43.3125 49.2188 43.3125 52.7812\n",
        "Q43.3125 58.5938 39.2344 62.25\n",
        "Q35.1562 65.9219 28.6094 65.9219\n",
        "Q23.9688 65.9219 18.8125 64.3125\n",
        "Q13.6719 62.7031 7.8125 59.4219\n",
        "L7.8125 69.3906\n",
        "Q13.7656 71.7812 18.9375 73\n",
        "Q24.125 74.2188 28.4219 74.2188\n",
        "Q39.75 74.2188 46.4844 68.5469\n",
        "Q53.2188 62.8906 53.2188 53.4219\n",
        "Q53.2188 48.9219 51.5312 44.8906\n",
        "Q49.8594 40.875 45.4062 35.4062\n",
        "Q44.1875 33.9844 37.6406 27.2188\n",
        "Q31.1094 20.4531 19.1875 8.29688\" id=\"BitstreamVeraSans-Roman-32\"/>\n",
        "      </defs>\n",
        "      <g transform=\"translate(241.7265625 246.8375)scale(0.1 -0.1)\">\n",
        "       <use xlink:href=\"#BitstreamVeraSans-Roman-32\"/>\n",
        "       <use x=\"63.623046875\" xlink:href=\"#BitstreamVeraSans-Roman-2e\"/>\n",
        "       <use x=\"95.41015625\" xlink:href=\"#BitstreamVeraSans-Roman-30\"/>\n",
        "      </g>\n",
        "     </g>\n",
        "    </g>\n",
        "    <g id=\"xtick_6\">\n",
        "     <g id=\"line2d_11\">\n",
        "      <g>\n",
        "       <use style=\"stroke:#000000;stroke-width:0.5;\" x=\"304.7796875\" xlink:href=\"#m93b0483c22\" y=\"235.2390625\"/>\n",
        "      </g>\n",
        "     </g>\n",
        "     <g id=\"line2d_12\">\n",
        "      <g>\n",
        "       <use style=\"stroke:#000000;stroke-width:0.5;\" x=\"304.7796875\" xlink:href=\"#m741efc42ff\" y=\"12.0390625\"/>\n",
        "      </g>\n",
        "     </g>\n",
        "     <g id=\"text_6\">\n",
        "      <!-- 2.5 -->\n",
        "      <g transform=\"translate(297.63125 246.8375)scale(0.1 -0.1)\">\n",
        "       <use xlink:href=\"#BitstreamVeraSans-Roman-32\"/>\n",
        "       <use x=\"63.623046875\" xlink:href=\"#BitstreamVeraSans-Roman-2e\"/>\n",
        "       <use x=\"95.41015625\" xlink:href=\"#BitstreamVeraSans-Roman-35\"/>\n",
        "      </g>\n",
        "     </g>\n",
        "    </g>\n",
        "    <g id=\"xtick_7\">\n",
        "     <g id=\"line2d_13\">\n",
        "      <g>\n",
        "       <use style=\"stroke:#000000;stroke-width:0.5;\" x=\"360.5796875\" xlink:href=\"#m93b0483c22\" y=\"235.2390625\"/>\n",
        "      </g>\n",
        "     </g>\n",
        "     <g id=\"line2d_14\">\n",
        "      <g>\n",
        "       <use style=\"stroke:#000000;stroke-width:0.5;\" x=\"360.5796875\" xlink:href=\"#m741efc42ff\" y=\"12.0390625\"/>\n",
        "      </g>\n",
        "     </g>\n",
        "     <g id=\"text_7\">\n",
        "      <!-- 3.0 -->\n",
        "      <defs>\n",
        "       <path d=\"\n",
        "M40.5781 39.3125\n",
        "Q47.6562 37.7969 51.625 33\n",
        "Q55.6094 28.2188 55.6094 21.1875\n",
        "Q55.6094 10.4062 48.1875 4.48438\n",
        "Q40.7656 -1.42188 27.0938 -1.42188\n",
        "Q22.5156 -1.42188 17.6562 -0.515625\n",
        "Q12.7969 0.390625 7.625 2.20312\n",
        "L7.625 11.7188\n",
        "Q11.7188 9.32812 16.5938 8.10938\n",
        "Q21.4844 6.89062 26.8125 6.89062\n",
        "Q36.0781 6.89062 40.9375 10.5469\n",
        "Q45.7969 14.2031 45.7969 21.1875\n",
        "Q45.7969 27.6406 41.2812 31.2656\n",
        "Q36.7656 34.9062 28.7188 34.9062\n",
        "L20.2188 34.9062\n",
        "L20.2188 43.0156\n",
        "L29.1094 43.0156\n",
        "Q36.375 43.0156 40.2344 45.9219\n",
        "Q44.0938 48.8281 44.0938 54.2969\n",
        "Q44.0938 59.9062 40.1094 62.9062\n",
        "Q36.1406 65.9219 28.7188 65.9219\n",
        "Q24.6562 65.9219 20.0156 65.0312\n",
        "Q15.375 64.1562 9.8125 62.3125\n",
        "L9.8125 71.0938\n",
        "Q15.4375 72.6562 20.3438 73.4375\n",
        "Q25.25 74.2188 29.5938 74.2188\n",
        "Q40.8281 74.2188 47.3594 69.1094\n",
        "Q53.9062 64.0156 53.9062 55.3281\n",
        "Q53.9062 49.2656 50.4375 45.0938\n",
        "Q46.9688 40.9219 40.5781 39.3125\" id=\"BitstreamVeraSans-Roman-33\"/>\n",
        "      </defs>\n",
        "      <g transform=\"translate(353.34140625 246.8375)scale(0.1 -0.1)\">\n",
        "       <use xlink:href=\"#BitstreamVeraSans-Roman-33\"/>\n",
        "       <use x=\"63.623046875\" xlink:href=\"#BitstreamVeraSans-Roman-2e\"/>\n",
        "       <use x=\"95.41015625\" xlink:href=\"#BitstreamVeraSans-Roman-30\"/>\n",
        "      </g>\n",
        "     </g>\n",
        "    </g>\n",
        "   </g>\n",
        "   <g id=\"matplotlib.axis_2\">\n",
        "    <g id=\"ytick_1\">\n",
        "     <g id=\"line2d_15\">\n",
        "      <defs>\n",
        "       <path d=\"\n",
        "M0 0\n",
        "L4 0\" id=\"m728421d6d4\" style=\"stroke:#000000;stroke-width:0.5;\"/>\n",
        "      </defs>\n",
        "      <g>\n",
        "       <use style=\"stroke:#000000;stroke-width:0.5;\" x=\"25.7796875\" xlink:href=\"#m728421d6d4\" y=\"235.2390625\"/>\n",
        "      </g>\n",
        "     </g>\n",
        "     <g id=\"line2d_16\">\n",
        "      <defs>\n",
        "       <path d=\"\n",
        "M0 0\n",
        "L-4 0\" id=\"mcb0005524f\" style=\"stroke:#000000;stroke-width:0.5;\"/>\n",
        "      </defs>\n",
        "      <g>\n",
        "       <use style=\"stroke:#000000;stroke-width:0.5;\" x=\"360.5796875\" xlink:href=\"#mcb0005524f\" y=\"235.2390625\"/>\n",
        "      </g>\n",
        "     </g>\n",
        "     <g id=\"text_8\">\n",
        "      <!-- 0.0 -->\n",
        "      <g transform=\"translate(7.2 237.9984375)scale(0.1 -0.1)\">\n",
        "       <use xlink:href=\"#BitstreamVeraSans-Roman-30\"/>\n",
        "       <use x=\"63.623046875\" xlink:href=\"#BitstreamVeraSans-Roman-2e\"/>\n",
        "       <use x=\"95.41015625\" xlink:href=\"#BitstreamVeraSans-Roman-30\"/>\n",
        "      </g>\n",
        "     </g>\n",
        "    </g>\n",
        "    <g id=\"ytick_2\">\n",
        "     <g id=\"line2d_17\">\n",
        "      <g>\n",
        "       <use style=\"stroke:#000000;stroke-width:0.5;\" x=\"25.7796875\" xlink:href=\"#m728421d6d4\" y=\"179.4390625\"/>\n",
        "      </g>\n",
        "     </g>\n",
        "     <g id=\"line2d_18\">\n",
        "      <g>\n",
        "       <use style=\"stroke:#000000;stroke-width:0.5;\" x=\"360.5796875\" xlink:href=\"#mcb0005524f\" y=\"179.4390625\"/>\n",
        "      </g>\n",
        "     </g>\n",
        "     <g id=\"text_9\">\n",
        "      <!-- 0.5 -->\n",
        "      <g transform=\"translate(7.409375 182.1984375)scale(0.1 -0.1)\">\n",
        "       <use xlink:href=\"#BitstreamVeraSans-Roman-30\"/>\n",
        "       <use x=\"63.623046875\" xlink:href=\"#BitstreamVeraSans-Roman-2e\"/>\n",
        "       <use x=\"95.41015625\" xlink:href=\"#BitstreamVeraSans-Roman-35\"/>\n",
        "      </g>\n",
        "     </g>\n",
        "    </g>\n",
        "    <g id=\"ytick_3\">\n",
        "     <g id=\"line2d_19\">\n",
        "      <g>\n",
        "       <use style=\"stroke:#000000;stroke-width:0.5;\" x=\"25.7796875\" xlink:href=\"#m728421d6d4\" y=\"123.6390625\"/>\n",
        "      </g>\n",
        "     </g>\n",
        "     <g id=\"line2d_20\">\n",
        "      <g>\n",
        "       <use style=\"stroke:#000000;stroke-width:0.5;\" x=\"360.5796875\" xlink:href=\"#mcb0005524f\" y=\"123.6390625\"/>\n",
        "      </g>\n",
        "     </g>\n",
        "     <g id=\"text_10\">\n",
        "      <!-- 1.0 -->\n",
        "      <g transform=\"translate(7.6390625 126.3984375)scale(0.1 -0.1)\">\n",
        "       <use xlink:href=\"#BitstreamVeraSans-Roman-31\"/>\n",
        "       <use x=\"63.623046875\" xlink:href=\"#BitstreamVeraSans-Roman-2e\"/>\n",
        "       <use x=\"95.41015625\" xlink:href=\"#BitstreamVeraSans-Roman-30\"/>\n",
        "      </g>\n",
        "     </g>\n",
        "    </g>\n",
        "    <g id=\"ytick_4\">\n",
        "     <g id=\"line2d_21\">\n",
        "      <g>\n",
        "       <use style=\"stroke:#000000;stroke-width:0.5;\" x=\"25.7796875\" xlink:href=\"#m728421d6d4\" y=\"67.8390625\"/>\n",
        "      </g>\n",
        "     </g>\n",
        "     <g id=\"line2d_22\">\n",
        "      <g>\n",
        "       <use style=\"stroke:#000000;stroke-width:0.5;\" x=\"360.5796875\" xlink:href=\"#mcb0005524f\" y=\"67.8390625\"/>\n",
        "      </g>\n",
        "     </g>\n",
        "     <g id=\"text_11\">\n",
        "      <!-- 1.5 -->\n",
        "      <g transform=\"translate(7.8484375 70.5984375)scale(0.1 -0.1)\">\n",
        "       <use xlink:href=\"#BitstreamVeraSans-Roman-31\"/>\n",
        "       <use x=\"63.623046875\" xlink:href=\"#BitstreamVeraSans-Roman-2e\"/>\n",
        "       <use x=\"95.41015625\" xlink:href=\"#BitstreamVeraSans-Roman-35\"/>\n",
        "      </g>\n",
        "     </g>\n",
        "    </g>\n",
        "    <g id=\"ytick_5\">\n",
        "     <g id=\"line2d_23\">\n",
        "      <g>\n",
        "       <use style=\"stroke:#000000;stroke-width:0.5;\" x=\"25.7796875\" xlink:href=\"#m728421d6d4\" y=\"12.0390625\"/>\n",
        "      </g>\n",
        "     </g>\n",
        "     <g id=\"line2d_24\">\n",
        "      <g>\n",
        "       <use style=\"stroke:#000000;stroke-width:0.5;\" x=\"360.5796875\" xlink:href=\"#mcb0005524f\" y=\"12.0390625\"/>\n",
        "      </g>\n",
        "     </g>\n",
        "     <g id=\"text_12\">\n",
        "      <!-- 2.0 -->\n",
        "      <g transform=\"translate(7.2734375 14.7984375)scale(0.1 -0.1)\">\n",
        "       <use xlink:href=\"#BitstreamVeraSans-Roman-32\"/>\n",
        "       <use x=\"63.623046875\" xlink:href=\"#BitstreamVeraSans-Roman-2e\"/>\n",
        "       <use x=\"95.41015625\" xlink:href=\"#BitstreamVeraSans-Roman-30\"/>\n",
        "      </g>\n",
        "     </g>\n",
        "    </g>\n",
        "   </g>\n",
        "   <g id=\"patch_5\">\n",
        "    <path d=\"\n",
        "M25.7797 12.0391\n",
        "L360.58 12.0391\" style=\"fill:none;stroke:#000000;\"/>\n",
        "   </g>\n",
        "   <g id=\"patch_6\">\n",
        "    <path d=\"\n",
        "M360.58 235.239\n",
        "L360.58 12.0391\" style=\"fill:none;stroke:#000000;\"/>\n",
        "   </g>\n",
        "   <g id=\"patch_7\">\n",
        "    <path d=\"\n",
        "M25.7797 235.239\n",
        "L360.58 235.239\" style=\"fill:none;stroke:#000000;\"/>\n",
        "   </g>\n",
        "   <g id=\"patch_8\">\n",
        "    <path d=\"\n",
        "M25.7797 235.239\n",
        "L25.7797 12.0391\" style=\"fill:none;stroke:#000000;\"/>\n",
        "   </g>\n",
        "  </g>\n",
        " </g>\n",
        " <defs>\n",
        "  <clipPath id=\"p16b034cec5\">\n",
        "   <rect height=\"223.2\" width=\"334.8\" x=\"25.7796875\" y=\"12.0390625\"/>\n",
        "  </clipPath>\n",
        " </defs>\n",
        "</svg>\n"
       ],
       "text": [
        "<matplotlib.figure.Figure at 0x11d563a90>"
       ]
      }
     ],
     "prompt_number": 117
    },
    {
     "cell_type": "code",
     "collapsed": false,
     "input": [
      "sympy.cos(sympy.atan("
     ],
     "language": "python",
     "metadata": {},
     "outputs": []
    },
    {
     "cell_type": "code",
     "collapsed": false,
     "input": [
      "sympy.atan(sympy.Rational(1,2))"
     ],
     "language": "python",
     "metadata": {},
     "outputs": [
      {
       "latex": [
        "$$\\operatorname{atan}{\\left (\\frac{1}{2} \\right )}$$"
       ],
       "metadata": {},
       "output_type": "pyout",
       "png": "[encoded data removed]",
       "prompt_number": 120,
       "text": [
        "atan(1/2)"
       ]
      }
     ],
     "prompt_number": 120
    },
    {
     "cell_type": "code",
     "collapsed": false,
     "input": [
      "sympy.cos(_)"
     ],
     "language": "python",
     "metadata": {},
     "outputs": [
      {
       "latex": [
        "$$\\frac{2 \\sqrt{5}}{5}$$"
       ],
       "metadata": {},
       "output_type": "pyout",
       "png": "[encoded data removed]",
       "prompt_number": 121,
       "text": [
        "    ___\n",
        "2\u22c5\u2572\u2571 5 \n",
        "\u2500\u2500\u2500\u2500\u2500\u2500\u2500\n",
        "   5   "
       ]
      }
     ],
     "prompt_number": 121
    },
    {
     "cell_type": "heading",
     "level": 1,
     "metadata": {},
     "source": [
      "The real Arnold cat map"
     ]
    },
    {
     "cell_type": "code",
     "collapsed": false,
     "input": [
      "new_square_vertices = [vertex + np.array([10., 0.]) for vertex in unit_square.vertices]\n",
      "new_square = DirectedPolygon(new_square_vertices)\n",
      "find_starting_point(unit_square, new_square)"
     ],
     "language": "python",
     "metadata": {},
     "outputs": []
    }
   ],
   "metadata": {}
  }
 ]
}