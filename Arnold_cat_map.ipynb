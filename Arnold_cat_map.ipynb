{
 "metadata": {
  "name": ""
 },
 "nbformat": 3,
 "nbformat_minor": 0,
 "worksheets": [
  {
   "cells": [
    {
     "cell_type": "heading",
     "level": 1,
     "metadata": {},
     "source": [
      "The Arnold cat map"
     ]
    },
    {
     "cell_type": "markdown",
     "metadata": {},
     "source": [
      "The Arnold cat map is a canonical example of a (uniformly) *hyperbolic* (\"*chaotic*\") dynamical system.\n",
      "In this notebook, we will use computational geometry to construct figures showing the action of the cat\n",
      "map.\n"
     ]
    },
    {
     "cell_type": "code",
     "collapsed": false,
     "input": [
      "import numpy as np"
     ],
     "language": "python",
     "metadata": {},
     "outputs": [],
     "prompt_number": 1
    },
    {
     "cell_type": "code",
     "collapsed": false,
     "input": [
      "def norm(v):\n",
      "    return np.sqrt(np.dot(v, v))"
     ],
     "language": "python",
     "metadata": {},
     "outputs": [],
     "prompt_number": 2
    },
    {
     "cell_type": "code",
     "collapsed": false,
     "input": [
      "%load_ext nbtoc"
     ],
     "language": "python",
     "metadata": {},
     "outputs": [],
     "prompt_number": 3
    },
    {
     "cell_type": "code",
     "collapsed": false,
     "input": [
      "%nbtoc"
     ],
     "language": "python",
     "metadata": {},
     "outputs": [
      {
       "html": [
        "<!-- extracted from https://gist.github.com/magican/5574556 -->\n",
        "<div id=\"toc-wrapper\">\n",
        "    <div class=\"header\">Contents <a href=\"#\" class=\"hide-btn\">[hide]</a></div>\n",
        "    <div id=\"toc\"></div>\n",
        "</div>\n",
        " \n",
        "<style>\n",
        "  #toc {\n",
        "    overflow-y: scroll;\n",
        "    max-height: 300px;\n",
        "  }\n",
        "  #toc-wrapper {\n",
        "    position: fixed; top: 113px; max-width:430px; right: 28px;\n",
        "    border: thin solid rgba(0, 0, 0, 0.38); opacity: .8;\n",
        "    border-radius: 5px; background-color: #fff; padding:10px;\n",
        "    z-index: 100;\n",
        "  }\n",
        "  #toc-wrapper.closed {\n",
        "      min-width: 100px;\n",
        "      width: auto;\n",
        "      transition: width;\n",
        "  }\n",
        "  #toc-wrapper:hover{\n",
        "      opacity:1;\n",
        "  }\n",
        "  #toc-wrapper .header {\n",
        "      font-size:18px; font-weight: bold;\n",
        "  }\n",
        "  #toc-wrapper .hide-btn {\n",
        "      font-size: 14px;\n",
        "  }\n",
        " \n",
        "</style>\n",
        "\n",
        "<style>\n",
        "  ol.nested {\n",
        "    counter-reset: item;\n",
        "    list-style: none;\n",
        "  }\n",
        "  li.nested {\n",
        "        display: block;\n",
        "    }\n",
        "  li.nested:before {\n",
        "        counter-increment: item;\n",
        "        content: counters(item, \".\")\" \";\n",
        "    }\n",
        "</style>\n"
       ],
       "metadata": {},
       "output_type": "display_data"
      },
      {
       "javascript": [
        "// adapted from https://gist.github.com/magican/5574556\n",
        "\n",
        "function clone_anchor(h) {\n",
        "  // clone link\n",
        "  var a = $(h).find('a').clone();\n",
        "  a.attr('href', '#' + a.attr('id'));\n",
        "  a.attr('id', '');\n",
        "  return a;\n",
        "}\n",
        "\n",
        "function ol_depth(element) {\n",
        "  // get depth of nested ol\n",
        "  var d = 0;\n",
        "  while (element.prop(\"tagName\").toLowerCase() == 'ol') {\n",
        "    d += 1;\n",
        "    element = element.parent();\n",
        "  }\n",
        "  return d;\n",
        "}\n",
        "\n",
        "function table_of_contents(threshold) {\n",
        "  if (threshold === undefined) {\n",
        "    threshold = 4;\n",
        "  }\n",
        "  var cells = IPython.notebook.get_cells();\n",
        "  \n",
        "  var ol = $(\"<ol/>\").addClass(\"nested\");\n",
        "  $(\"#toc\").empty().append(ol);\n",
        "  \n",
        "  for (var i=0; i < cells.length; i++) {\n",
        "    var cell = cells[i];\n",
        "    \n",
        "    if (cell.cell_type !== 'heading') continue;\n",
        "    \n",
        "    var level = cell.level;\n",
        "    if (level > threshold) continue;\n",
        "    \n",
        "    var depth = ol_depth(ol);\n",
        "\n",
        "    // walk down levels\n",
        "    for (; depth < level; depth++) {\n",
        "      var new_ol = $(\"<ol/>\").addClass(\"nested\");\n",
        "      ol.append(new_ol);\n",
        "      ol = new_ol;\n",
        "    }\n",
        "    // walk up levels\n",
        "    for (; depth > level; depth--) {\n",
        "      ol = ol.parent();\n",
        "    }\n",
        "    //\n",
        "    ol.append(\n",
        "      $(\"<li/>\").addClass(\"nested\").append(clone_anchor(cell.element))\n",
        "    );\n",
        "  }\n",
        "\n",
        "  $('#toc-wrapper .header').click(function(){\n",
        "    $('#toc').slideToggle();\n",
        "    $('#toc-wrapper').toggleClass('closed');\n",
        "    if ($('#toc-wrapper').hasClass('closed')){\n",
        "      $('#toc-wrapper .hide-btn').text('[show]');\n",
        "    } else {\n",
        "      $('#toc-wrapper .hide-btn').text('[hide]');\n",
        "    }\n",
        "    return false;\n",
        "  })\n",
        "\n",
        "  $(window).resize(function(){\n",
        "    $('#toc').css({maxHeight: $(window).height() - 200})\n",
        "  })\n",
        "\n",
        "  $(window).trigger('resize')\n",
        "}\n",
        "\n",
        "table_of_contents();\n",
        "\n",
        "\n"
       ],
       "metadata": {},
       "output_type": "display_data"
      }
     ],
     "prompt_number": 4
    },
    {
     "cell_type": "heading",
     "level": 2,
     "metadata": {},
     "source": [
      "Simple computational geometry"
     ]
    },
    {
     "cell_type": "markdown",
     "metadata": {},
     "source": [
      "It is first necessary to do define some simple concepts and functions from computational geometry."
     ]
    },
    {
     "cell_type": "heading",
     "level": 3,
     "metadata": {},
     "source": [
      "Line segments"
     ]
    },
    {
     "cell_type": "markdown",
     "metadata": {},
     "source": [
      "We first define an object to represent a\n",
      "directed line segment joining two points $\\mathbf{p}_0$ and $\\mathbf{p}_1$."
     ]
    },
    {
     "cell_type": "code",
     "collapsed": false,
     "input": [
      "class DirectedLineSegment:\n",
      "    \"\"\"A directed line segment from `p0` to `p1`\n",
      "    v is the *non-normalized* vector p1-p0\n",
      "    It is non-normalized so that the segment is parametrized by p0 + t*v, \n",
      "    where t=0 gives p0 and t=1 gives p1\n",
      "    \n",
      "    The normal vector n is normalized.\n",
      "    \"\"\"\n",
      "\n",
      "    def __init__(self, p0, p1):\n",
      "        self.p0, self.p1 = np.asarray(p0, dtype=float), np.asarray(p1, dtype=float)\n",
      "        self.v = self.p1 - self.p0\n",
      "        \n",
      "        self.n = np.array([-self.v[1], self.v[0]])\n",
      "        self.n /= norm(self.n)\n",
      "        \n",
      "    def __repr__(self):\n",
      "        return \"DirectedLineSegment\" + self.__str__()\n",
      "    def __str__(self):\n",
      "        return \"([%g, %g], [%g, %g])\" % (self.p0[0], self.p0[1], self.p1[0], self.p1[1])"
     ],
     "language": "python",
     "metadata": {},
     "outputs": [],
     "prompt_number": 5
    },
    {
     "cell_type": "code",
     "collapsed": false,
     "input": [
      "def find_intersection_segments(segment1, segment2):\n",
      "    \"\"\"Find intersection of two line segments\n",
      "    \n",
      "    Returns the value of t corresponding to the parametrization of segment1 at the intersection point,\n",
      "    or None if they do not intersect within the segment ends\n",
      "    \n",
      "    Use representation with normal of ls2 for simplicity\n",
      "    \n",
      "    Parametrize segment1  as  p1 + t.v\n",
      "    Use representation of segment2 as {x:(x-c).n = 0}\n",
      "    \"\"\"\n",
      "    \n",
      "    n = segment2.n\n",
      "    c = segment2.p0\n",
      "    \n",
      "    x = segment1.p0\n",
      "    v = segment1.v\n",
      "    \n",
      "    # print \"dot(v,n) = \",  np.dot(v,n)\n",
      "    \n",
      "    \n",
      "    threshold = 1.e-15\n",
      "    \n",
      "    if abs(np.dot(v,n)) < threshold:  # 0: lines are parallel\n",
      "        return None\n",
      "    \n",
      "    \n",
      "    t_star = np.dot(c - x, n) / np.dot(v, n)  # intersection time\n",
      "    \n",
      "    if 0.0 <= t_star <= 1.0:\n",
      "        return (t_star, x + t_star * v)\n",
      "    \n",
      "    else:\n",
      "        return None"
     ],
     "language": "python",
     "metadata": {},
     "outputs": [],
     "prompt_number": 6
    },
    {
     "cell_type": "code",
     "collapsed": false,
     "input": [
      "segment = DirectedLineSegment(np.r_[0, 0], np.r_[2, 2])    "
     ],
     "language": "python",
     "metadata": {},
     "outputs": [],
     "prompt_number": 7
    },
    {
     "cell_type": "code",
     "collapsed": false,
     "input": [
      "segment"
     ],
     "language": "python",
     "metadata": {},
     "outputs": [
      {
       "metadata": {},
       "output_type": "pyout",
       "prompt_number": 8,
       "text": [
        "DirectedLineSegment([0, 0], [2, 2])"
       ]
      }
     ],
     "prompt_number": 8
    },
    {
     "cell_type": "code",
     "collapsed": false,
     "input": [
      "segment.v"
     ],
     "language": "python",
     "metadata": {},
     "outputs": [
      {
       "metadata": {},
       "output_type": "pyout",
       "prompt_number": 9,
       "text": [
        "array([ 2.,  2.])"
       ]
      }
     ],
     "prompt_number": 9
    },
    {
     "cell_type": "code",
     "collapsed": false,
     "input": [
      "segment1 = DirectedLineSegment([0, 0], [1, 1])\n",
      "segment2 = DirectedLineSegment([3, 3], [4, 4])\n",
      "\n",
      "print find_intersection_segments(segment1, segment2)"
     ],
     "language": "python",
     "metadata": {},
     "outputs": [
      {
       "output_type": "stream",
       "stream": "stdout",
       "text": [
        "None\n"
       ]
      }
     ],
     "prompt_number": 10
    },
    {
     "cell_type": "code",
     "collapsed": false,
     "input": [],
     "language": "python",
     "metadata": {},
     "outputs": [],
     "prompt_number": 10
    },
    {
     "cell_type": "code",
     "collapsed": false,
     "input": [
      "segment1 = DirectedLineSegment([0, 0], [1, 1])\n",
      "segment2 = DirectedLineSegment([1, 0], [0, 2])\n",
      "\n",
      "print find_intersection_segments(segment1, segment2)"
     ],
     "language": "python",
     "metadata": {},
     "outputs": [
      {
       "output_type": "stream",
       "stream": "stdout",
       "text": [
        "(0.66666666666666663, array([ 0.66666667,  0.66666667]))\n"
       ]
      }
     ],
     "prompt_number": 11
    },
    {
     "cell_type": "code",
     "collapsed": false,
     "input": [
      "def test_find_intersection_segments():\n",
      "\n",
      "    segment1 = DirectedLineSegment([0, 0], [1, 1])\n",
      "    segment2 = DirectedLineSegment([0, 1], [1, 0])\n",
      "    \n",
      "    t_star, intersection_point = find_intersection_segments(segment1, segment2)\n",
      "    assert t_star == 0.5\n",
      "    assert all(intersection_point == np.array([0.5, 0.5]))\n",
      "    \n",
      "    \n",
      "    # parallel lines:\n",
      "    segment1 = DirectedLineSegment([0, 0], [1, 1])\n",
      "    segment2 = DirectedLineSegment([3, 3], [4, 4])\n",
      "\n",
      "    assert find_intersection_segments(segment1, segment2) == None\n",
      "    \n",
      "    \n",
      "    segment1 = DirectedLineSegment([0, 0], [1, 1])\n",
      "    segment2 = DirectedLineSegment([1, 1], [1, 2])\n",
      "    \n",
      "    t_star, intersection_point = find_intersection_segments(segment1, segment2)\n",
      "    assert t_star == 1.0\n",
      "    assert all(intersection_point == np.array([1.0, 1.0]))\n",
      "    "
     ],
     "language": "python",
     "metadata": {},
     "outputs": [],
     "prompt_number": 12
    },
    {
     "cell_type": "heading",
     "level": 3,
     "metadata": {},
     "source": [
      "Polygons"
     ]
    },
    {
     "cell_type": "markdown",
     "metadata": {},
     "source": [
      "Next we join line segments up into directed polygons. Here we are assuming that the polygons are closed loops, i.e. that there is a link from the last vertex back to the first. "
     ]
    },
    {
     "cell_type": "code",
     "collapsed": false,
     "input": [
      "class DirectedPolygon:\n",
      "    \"\"\"A directed polygon\n",
      "    \n",
      "    Parameters\n",
      "    ==========\n",
      "    vertices:\n",
      "        a list of vertices\n",
      "    \"\"\"\n",
      "        \n",
      "    \n",
      "    def __init__(self, vertices):\n",
      "        self.vertices = np.asarray(vertices)\n",
      "        \n",
      "        self.segments = []\n",
      "        \n",
      "        for i in range(len(self.vertices)-1):\n",
      "            self.segments.append(DirectedLineSegment(self.vertices[i], vertices[i+1]))\n",
      "            \n",
      "        self.segments.append(DirectedLineSegment(vertices[-1], vertices[0]))\n",
      "\n",
      "    def __repr__(self):\n",
      "        return self.segments.__repr__()\n",
      "    \n",
      "    def draw(self):\n",
      "        plt.fill(self.vertices[:,0], self.vertices[:,1], alpha=0.5)\n",
      "        "
     ],
     "language": "python",
     "metadata": {},
     "outputs": [],
     "prompt_number": 13
    },
    {
     "cell_type": "code",
     "collapsed": false,
     "input": [
      "unit_square = DirectedPolygon([(0.,0.), (1.,0.), (1.,1.), (0.,1.)])\n",
      "unit_square"
     ],
     "language": "python",
     "metadata": {},
     "outputs": [
      {
       "metadata": {},
       "output_type": "pyout",
       "prompt_number": 14,
       "text": [
        "[DirectedLineSegment([0, 0], [1, 0]), DirectedLineSegment([1, 0], [1, 1]), DirectedLineSegment([1, 1], [0, 1]), DirectedLineSegment([0, 1], [0, 0])]"
       ]
      }
     ],
     "prompt_number": 14
    },
    {
     "cell_type": "code",
     "collapsed": false,
     "input": [
      "%matplotlib\n",
      "from matplotlib import pyplot as plt"
     ],
     "language": "python",
     "metadata": {},
     "outputs": [
      {
       "output_type": "stream",
       "stream": "stdout",
       "text": [
        "Using matplotlib backend: MacOSX\n"
       ]
      }
     ],
     "prompt_number": 15
    },
    {
     "cell_type": "code",
     "collapsed": false,
     "input": [
      "unit_square.draw()\n",
      "plt.axis('scaled')\n",
      "plt.xlim(-0.3, 1.3)\n",
      "plt.ylim(-0.3, 1.3)\n",
      "plt.show()"
     ],
     "language": "python",
     "metadata": {},
     "outputs": [],
     "prompt_number": 16
    },
    {
     "cell_type": "code",
     "collapsed": false,
     "input": [
      "theta = np.pi / 4.\n",
      "R = np.array([np.cos(theta), np.sin(theta), -np.sin(theta), np.cos(theta)]).reshape((2,2) )\n",
      "\n",
      "rotated_square_vertices = [np.dot(R, vertex) for vertex in unit_square.vertices]\n",
      "rotated_square = DirectedPolygon(rotated_square_vertices)\n",
      "\n",
      "rotated_square.draw()"
     ],
     "language": "python",
     "metadata": {},
     "outputs": [],
     "prompt_number": 17
    },
    {
     "cell_type": "code",
     "collapsed": false,
     "input": [
      "def find_starting_point(polygon1, polygon2):\n",
      "    \"\"\"Find the starting point of the intersection of two polygons\n",
      "    Returns None if they do not intersect\"\"\"\n",
      "    \n",
      "    for i in range(len(polygon1.segments)):\n",
      "        for j in range(len(polygon2.segments)):\n",
      "            \n",
      "            segment1 = polygon1.segments[i]\n",
      "            segment2 = polygon2.segments[i]\n",
      "            \n",
      "            intersection = find_intersection_segments(segment1, segment2)\n",
      "            \n",
      "            if intersection:\n",
      "                return (intersection[1], i, j)  # don't need the intersection time\n",
      "            \n",
      "    return None\n",
      "            \n",
      "    \n",
      "\n",
      "def intersection_polygons(polygon1, polygon2):\n",
      "    \"\"\"Calculate intersection of two (convex) polygons\n",
      "    First find an intersection point.\n",
      "    Then follow this around by taking consecutive pieces of each polygon?\n",
      "    \"\"\"\"\n",
      "    \n",
      "    starting_point, i, j = find_starting_point(polygon1, polygon2)\n",
      "    \"\"\"i is the number of the segment of the first polygon, j of the second\"\"\"\n",
      "    \n",
      "    if starting_point is None:\n",
      "        return None\n",
      "    \n",
      "    intersection_path = [starting_point]\n",
      "    \n",
      "    current_segment = polygon1.segments[i]\n",
      "    \n",
      "    \n",
      "    \n",
      "    \n",
      "\n",
      "    "
     ],
     "language": "python",
     "metadata": {},
     "outputs": [],
     "prompt_number": 18
    },
    {
     "cell_type": "code",
     "collapsed": false,
     "input": [
      "def test_find_starting_point():\n",
      "    \n",
      "    unit_square = DirectedPolygon([(0.,0.), (1.,0.), (1.,1.), (0.,1.)])\n",
      "    \n",
      "    theta = np.pi / 4.\n",
      "    R = np.array([np.cos(theta), np.sin(theta), -np.sin(theta), np.cos(theta)]).reshape((2,2) )\n",
      "    \n",
      "    rotated_square_vertices = [np.dot(R, vertex) for vertex in unit_square.vertices]\n",
      "    rotated_square = DirectedPolygon(rotated_square_vertices)\n",
      "    \n",
      "    \n",
      "    starting_point = find_starting_point(unit_square, rotated_square)\n",
      "    \n",
      "    assert starting_point[0] == 0.0\n",
      "    assert all(starting_point[1] == np.array([0.0, 0.0]))\n",
      "    \n",
      "    \n",
      "    new_square = [vertex + np.array([10., 0.]) for vertex in unit_square.vertices]\n",
      "    \n",
      "    starting_point = find_starting_point(unit_square, new_square)\n",
      "    \n",
      "    assert starting_point == None"
     ],
     "language": "python",
     "metadata": {},
     "outputs": [],
     "prompt_number": 19
    },
    {
     "cell_type": "code",
     "collapsed": false,
     "input": [
      "new_square_vertices = [vertex + np.array([10., 0.]) for vertex in unit_square.vertices]\n",
      "new_square = DirectedPolygon(new_square_vertices)\n",
      "find_starting_point(unit_square, new_square)"
     ],
     "language": "python",
     "metadata": {},
     "outputs": [],
     "prompt_number": 20
    },
    {
     "cell_type": "code",
     "collapsed": false,
     "input": [
      "new_square"
     ],
     "language": "python",
     "metadata": {},
     "outputs": [
      {
       "metadata": {},
       "output_type": "pyout",
       "prompt_number": 21,
       "text": [
        "[DirectedLineSegment([10, 0], [11, 0]), DirectedLineSegment([11, 0], [11, 1]), DirectedLineSegment([11, 1], [10, 1]), DirectedLineSegment([10, 1], [10, 0])]"
       ]
      }
     ],
     "prompt_number": 21
    },
    {
     "cell_type": "code",
     "collapsed": false,
     "input": [
      "unit_square"
     ],
     "language": "python",
     "metadata": {},
     "outputs": [
      {
       "metadata": {},
       "output_type": "pyout",
       "prompt_number": 22,
       "text": [
        "[DirectedLineSegment([0, 0], [1, 0]), DirectedLineSegment([1, 0], [1, 1]), DirectedLineSegment([1, 1], [0, 1]), DirectedLineSegment([0, 1], [0, 0])]"
       ]
      }
     ],
     "prompt_number": 22
    },
    {
     "cell_type": "heading",
     "level": 2,
     "metadata": {},
     "source": [
      "Mapping vertices and polygons"
     ]
    },
    {
     "cell_type": "markdown",
     "metadata": {},
     "source": [
      "A *map* is a function\n",
      "$f : \\mathbb{R}^2 \\to \\mathbb{R}^2.$ \n",
      "Our first example is the map $\\mathbf{x} \\overset{f}{\\mapsto} \\mathsf{M} \\cdot \\mathbf{x}$, where\n",
      "\n",
      "$$\\mathsf{M} := \\begin{pmatrix} 2 & 1 \\\\ 1 & 1 \\end{pmatrix}:$$"
     ]
    },
    {
     "cell_type": "code",
     "collapsed": false,
     "input": [
      "M = np.array([[2, 1], [1, 1]])\n",
      "print M"
     ],
     "language": "python",
     "metadata": {},
     "outputs": [
      {
       "output_type": "stream",
       "stream": "stdout",
       "text": [
        "[[2 1]\n",
        " [1 1]]\n"
       ]
      }
     ],
     "prompt_number": 23
    },
    {
     "cell_type": "code",
     "collapsed": false,
     "input": [
      "def f(x):\n",
      "    return np.dot(M, x)"
     ],
     "language": "python",
     "metadata": {},
     "outputs": [],
     "prompt_number": 24
    },
    {
     "cell_type": "markdown",
     "metadata": {},
     "source": [
      "`f` applies the map to a single vertex. Now we need something to apply it to all the vertices of a polygon, creating a new \n",
      "polygon:"
     ]
    },
    {
     "cell_type": "code",
     "collapsed": false,
     "input": [
      "def map_poly(f, poly):\n",
      "    \"\"\"Apply the map f to each vertex of the Poygon poly, returning a new Polygon\"\"\"\n",
      "    \n",
      "    vertices = poly.vertices\n",
      "    new_vertices = [f(vertex) for vertex in vertices]\n",
      "    \n",
      "    return DirectedPolygon(new_vertices)"
     ],
     "language": "python",
     "metadata": {},
     "outputs": [],
     "prompt_number": 25
    },
    {
     "cell_type": "markdown",
     "metadata": {},
     "source": [
      "Let's apply our map `f` to the unit square, and then apply it again to get the second iterate $f^{(2)} := f \\circ f$:"
     ]
    },
    {
     "cell_type": "code",
     "collapsed": false,
     "input": [
      "unit_square = DirectedPolygon([(0.,0.), (1.,0.), (1.,1.), (0.,1.)])\n",
      "\n",
      "mapped_square = map_poly(f, unit_square)\n",
      "second_iterate = map_poly(f, mapped_square)"
     ],
     "language": "python",
     "metadata": {},
     "outputs": [],
     "prompt_number": 35
    },
    {
     "cell_type": "markdown",
     "metadata": {},
     "source": [
      "Let's see what that looks like:"
     ]
    },
    {
     "cell_type": "code",
     "collapsed": false,
     "input": [
      "plt.axis('scaled')\n",
      "\n",
      "plt.xticks(np.arange(10))\n",
      "plt.yticks(np.arange(10))\n",
      "\n",
      "plt.xlim(0, 8)\n",
      "plt.ylim(0, 5)\n",
      "\n",
      "plt.grid()\n",
      "\n",
      "unit_square.draw()\n",
      "mapped_square.draw()\n",
      "second_iterate.draw()"
     ],
     "language": "python",
     "metadata": {},
     "outputs": [],
     "prompt_number": 34
    },
    {
     "cell_type": "code",
     "collapsed": false,
     "input": [
      "help(plt.set)"
     ],
     "language": "python",
     "metadata": {},
     "outputs": []
    },
    {
     "cell_type": "code",
     "collapsed": false,
     "input": [],
     "language": "python",
     "metadata": {},
     "outputs": []
    }
   ],
   "metadata": {}
  }
 ]
}