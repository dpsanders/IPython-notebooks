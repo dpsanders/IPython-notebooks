{
 "metadata": {
  "name": ""
 },
 "nbformat": 3,
 "nbformat_minor": 0,
 "worksheets": [
  {
   "cells": [
    {
     "cell_type": "code",
     "collapsed": false,
     "input": [
      "import numpy as np\n"
     ],
     "language": "python",
     "metadata": {},
     "outputs": [],
     "prompt_number": 1
    },
    {
     "cell_type": "heading",
     "level": 1,
     "metadata": {},
     "source": [
      "Computational geometry"
     ]
    },
    {
     "cell_type": "code",
     "collapsed": false,
     "input": [
      "def norm(v):\n",
      "    return np.sqrt(np.dot(v, v))"
     ],
     "language": "python",
     "metadata": {},
     "outputs": [],
     "prompt_number": 2
    },
    {
     "cell_type": "code",
     "collapsed": false,
     "input": [
      "class DirectedLineSegment:\n",
      "    \"\"\"A directed line segment from `p0` to `p1`\n",
      "    v is the *non-normalized* vector p1-p0\n",
      "    It is non-normalized so that the segment is parametrized by p0 + t*v, \n",
      "    where t=0 gives p0 and t=1 gives p1\n",
      "    \n",
      "    The normal vector n is normalized.\n",
      "    \"\"\"\n",
      "\n",
      "    def __init__(self, p0, p1):\n",
      "        self.p0, self.p1 = np.asarray(p0, dtype=float), np.asarray(p1, dtype=float)\n",
      "        self.v = self.p1 - self.p0\n",
      "        \n",
      "        self.n = np.array([-self.v[1], self.v[0]])\n",
      "        self.n /= norm(self.n)\n",
      "        \n",
      "    def __repr__(self):\n",
      "        return \"DirectedLineSegment\" + self.__str__()\n",
      "    def __str__(self):\n",
      "        return \"([%g, %g], [%g, %g])\" % (self.p0[0], self.p0[1], self.p1[0], self.p1[1])\n",
      "    \n",
      "        "
     ],
     "language": "python",
     "metadata": {},
     "outputs": [],
     "prompt_number": 3
    },
    {
     "cell_type": "code",
     "collapsed": false,
     "input": [
      "class DirectedPolygon:\n",
      "    \"\"\"A directed polygon\n",
      "    \n",
      "    Parameters\n",
      "    ==========\n",
      "    vertices:\n",
      "        a list of vertices\n",
      "    \"\"\"\n",
      "        \n",
      "    \n",
      "    def __init__(self, vertices):\n",
      "        self.line_segments = []\n",
      "        \n",
      "        for i in range(len(vertices)-1):\n",
      "            self.line_segments.append(DirectedLineSegment(vertices[i], vertices[i+1]))\n",
      "            \n",
      "        self.line_segments.append(DirectedLineSegment(vertices[-1], vertices[0]))\n",
      "\n",
      "    def __repr__(self):\n",
      "        return self.line_segments.__repr__()"
     ],
     "language": "python",
     "metadata": {},
     "outputs": [],
     "prompt_number": 4
    },
    {
     "cell_type": "code",
     "collapsed": false,
     "input": [
      "def find_intersection_segments(segment1, segment2):\n",
      "    \"\"\"Find intersection of two line segments\n",
      "    \n",
      "    Returns the value of t corresponding to the parametrization of segment1 at the intersection point,\n",
      "    or None if they do not intersect within the segment ends\n",
      "    \n",
      "    Use representation with normal of ls2 for simplicity\n",
      "    \n",
      "    Parametrize segment1  as  p1 + t.v\n",
      "    Use representation of segment2 as {x:(x-c).n = 0}\n",
      "    \"\"\"\n",
      "    \n",
      "    n = segment2.n\n",
      "    c = segment2.p0\n",
      "    \n",
      "    x = segment1.p0\n",
      "    v = segment1.v\n",
      "    \n",
      "    \n",
      "    t_star = np.dot(c - x, n) / np.dot(v, n)  # intersection time\n",
      "    \n",
      "    if 0.0 <= t_star <= 1.0:\n",
      "        return (t_star, x + t_star * v)\n",
      "    \n",
      "    else:\n",
      "        return None"
     ],
     "language": "python",
     "metadata": {},
     "outputs": [],
     "prompt_number": 23
    },
    {
     "cell_type": "code",
     "collapsed": false,
     "input": [
      "segment = DirectedLineSegment(np.r_[0, 0], np.r_[2, 2])    "
     ],
     "language": "python",
     "metadata": {},
     "outputs": [],
     "prompt_number": 6
    },
    {
     "cell_type": "code",
     "collapsed": false,
     "input": [
      "segment.v"
     ],
     "language": "python",
     "metadata": {},
     "outputs": [
      {
       "metadata": {},
       "output_type": "pyout",
       "prompt_number": 7,
       "text": [
        "array([ 2.,  2.])"
       ]
      }
     ],
     "prompt_number": 7
    },
    {
     "cell_type": "code",
     "collapsed": false,
     "input": [
      "segment"
     ],
     "language": "python",
     "metadata": {},
     "outputs": [
      {
       "metadata": {},
       "output_type": "pyout",
       "prompt_number": 8,
       "text": [
        "DirectedLineSegment([0, 0], [2, 2])"
       ]
      }
     ],
     "prompt_number": 8
    },
    {
     "cell_type": "code",
     "collapsed": false,
     "input": [
      "unit_square = DirectedPolygon([(0,0), (1,0), (1,1), (0,1)])"
     ],
     "language": "python",
     "metadata": {},
     "outputs": [],
     "prompt_number": 9
    },
    {
     "cell_type": "code",
     "collapsed": false,
     "input": [
      "print unit_square"
     ],
     "language": "python",
     "metadata": {},
     "outputs": [
      {
       "output_type": "stream",
       "stream": "stdout",
       "text": [
        "[DirectedLineSegment([0, 0], [1, 0]), DirectedLineSegment([1, 0], [1, 1]), DirectedLineSegment([1, 1], [0, 1]), DirectedLineSegment([0, 1], [0, 0])]\n"
       ]
      }
     ],
     "prompt_number": 10
    },
    {
     "cell_type": "code",
     "collapsed": false,
     "input": [
      "unit_square.line_segments"
     ],
     "language": "python",
     "metadata": {},
     "outputs": [
      {
       "metadata": {},
       "output_type": "pyout",
       "prompt_number": 11,
       "text": [
        "[DirectedLineSegment([0, 0], [1, 0]),\n",
        " DirectedLineSegment([1, 0], [1, 1]),\n",
        " DirectedLineSegment([1, 1], [0, 1]),\n",
        " DirectedLineSegment([0, 1], [0, 0])]"
       ]
      }
     ],
     "prompt_number": 11
    },
    {
     "cell_type": "code",
     "collapsed": false,
     "input": [
      "segment1 = DirectedLineSegment([0, 0], [1, 1])\n",
      "segment2 = DirectedLineSegment([3, 3], [4, 4])\n",
      "\n",
      "print find_intersection_segments(segment1, segment2)"
     ],
     "language": "python",
     "metadata": {},
     "outputs": [
      {
       "output_type": "stream",
       "stream": "stdout",
       "text": [
        "None\n"
       ]
      }
     ],
     "prompt_number": 17
    },
    {
     "cell_type": "code",
     "collapsed": false,
     "input": [
      "def test_find_intersection_segments():\n",
      "\n",
      "    segment1 = DirectedLineSegment([0, 0], [1, 1])\n",
      "    segment2 = DirectedLineSegment([0, 1], [1, 0])\n",
      "    \n",
      "    t_star, intersection_point = find_intersection_segments(segment1, segment2)\n",
      "    assert t_star == 0.5\n",
      "    assert all(intersection_point == np.array([0.5, 0.5]))\n",
      "    \n",
      "    \n",
      "    segment1 = DirectedLineSegment([0, 0], [1, 1])\n",
      "    segment2 = DirectedLineSegment([3, 3], [4, 4])\n",
      "\n",
      "    assert find_intersection_segments(segment1, segment2) == None\n",
      "    \n",
      "    \n",
      "    segment1 = DirectedLineSegment([0, 0], [1, 1])\n",
      "    segment2 = DirectedLineSegment([1, 1], [1, 2])\n",
      "    \n",
      "    t_star, intersection_point = find_intersection_segments(segment1, segment2)\n",
      "    assert t_star == 1.0\n",
      "    assert all(intersection_point == np.array([1.0, 1.0]))\n",
      "    "
     ],
     "language": "python",
     "metadata": {},
     "outputs": [],
     "prompt_number": 26
    },
    {
     "cell_type": "code",
     "collapsed": false,
     "input": [],
     "language": "python",
     "metadata": {},
     "outputs": []
    }
   ],
   "metadata": {}
  }
 ]
}