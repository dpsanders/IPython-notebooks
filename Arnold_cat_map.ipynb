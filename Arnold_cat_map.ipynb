{
 "metadata": {
  "name": ""
 },
 "nbformat": 3,
 "nbformat_minor": 0,
 "worksheets": [
  {
   "cells": [
    {
     "cell_type": "heading",
     "level": 1,
     "metadata": {},
     "source": [
      "Calculating and visualising the Arnold cat map"
     ]
    },
    {
     "cell_type": "code",
     "collapsed": false,
     "input": [
      "%install_ext https://raw.github.com/minrk/ipython_extensions/master/nbtoc.py"
     ],
     "language": "python",
     "metadata": {},
     "outputs": []
    },
    {
     "cell_type": "code",
     "collapsed": false,
     "input": [
      "%reload_ext nbtoc"
     ],
     "language": "python",
     "metadata": {},
     "outputs": []
    },
    {
     "cell_type": "code",
     "collapsed": false,
     "input": [
      "%nbtoc"
     ],
     "language": "python",
     "metadata": {},
     "outputs": []
    },
    {
     "cell_type": "markdown",
     "metadata": {},
     "source": [
      "The Arnold cat map is a canonical example of a (uniformly) *hyperbolic* (\"*chaotic*\") dynamical system.\n",
      "In this notebook, we will use computational geometry to construct figures showing the action of the cat\n",
      "map."
     ]
    },
    {
     "cell_type": "code",
     "collapsed": false,
     "input": [
      "%nbtoc"
     ],
     "language": "python",
     "metadata": {},
     "outputs": []
    },
    {
     "cell_type": "code",
     "collapsed": false,
     "input": [
      "import numpy as np\n",
      "from Polygon_class import *"
     ],
     "language": "python",
     "metadata": {},
     "outputs": [],
     "prompt_number": 1
    },
    {
     "cell_type": "code",
     "collapsed": false,
     "input": [
      "%matplotlib"
     ],
     "language": "python",
     "metadata": {},
     "outputs": [
      {
       "output_type": "stream",
       "stream": "stdout",
       "text": [
        "Using matplotlib backend: MacOSX\n"
       ]
      }
     ],
     "prompt_number": 15
    },
    {
     "cell_type": "code",
     "collapsed": false,
     "input": [
      "from matplotlib import pyplot as plt"
     ],
     "language": "python",
     "metadata": {},
     "outputs": [],
     "prompt_number": 16
    },
    {
     "cell_type": "code",
     "collapsed": false,
     "input": [
      "def norm(v):\n",
      "    return np.sqrt(np.dot(v, v))"
     ],
     "language": "python",
     "metadata": {},
     "outputs": [],
     "prompt_number": 2
    },
    {
     "cell_type": "heading",
     "level": 2,
     "metadata": {},
     "source": [
      "Simple computational geometry"
     ]
    },
    {
     "cell_type": "markdown",
     "metadata": {},
     "source": [
      "It is first necessary to do define some simple concepts and functions from computational geometry."
     ]
    },
    {
     "cell_type": "heading",
     "level": 3,
     "metadata": {},
     "source": [
      "Line segments"
     ]
    },
    {
     "cell_type": "markdown",
     "metadata": {},
     "source": [
      "We first define an object to represent a\n",
      "directed line segment joining two points $\\mathbf{p}_0$ and $\\mathbf{p}_1$."
     ]
    },
    {
     "cell_type": "heading",
     "level": 2,
     "metadata": {},
     "source": [
      "Mapping vertices and polygons"
     ]
    },
    {
     "cell_type": "markdown",
     "metadata": {},
     "source": [
      "A *map* is a function\n",
      "$f : \\mathbb{R}^2 \\to \\mathbb{R}^2.$ \n",
      "Our first example is the map $\\mathbf{x} \\overset{f}{\\mapsto} \\mathsf{M} \\cdot \\mathbf{x}$, where\n",
      "\n",
      "$$\\mathsf{M} := \\begin{pmatrix} 2 & 1 \\\\ 1 & 1 \\end{pmatrix}:$$"
     ]
    },
    {
     "cell_type": "code",
     "collapsed": false,
     "input": [
      "M = np.array([[2, 1], [1, 1]])\n",
      "print M"
     ],
     "language": "python",
     "metadata": {},
     "outputs": [
      {
       "output_type": "stream",
       "stream": "stdout",
       "text": [
        "[[2 1]\n",
        " [1 1]]\n"
       ]
      }
     ],
     "prompt_number": 4
    },
    {
     "cell_type": "code",
     "collapsed": false,
     "input": [
      "def f(x):\n",
      "    return np.dot(M, x)"
     ],
     "language": "python",
     "metadata": {},
     "outputs": [],
     "prompt_number": 5
    },
    {
     "cell_type": "markdown",
     "metadata": {},
     "source": [
      "`f` applies the map to a single vertex. Now we need something to apply it to all the vertices of a polygon, creating a new \n",
      "polygon:"
     ]
    },
    {
     "cell_type": "code",
     "collapsed": false,
     "input": [
      "def map_poly(f, poly):\n",
      "    \"\"\"Apply the map f to each vertex of the Poygon poly, returning a new Polygon\"\"\"\n",
      "    \n",
      "    vertices = poly.vertices\n",
      "    new_vertices = [f(vertex) for vertex in vertices]\n",
      "    \n",
      "    return DirectedPolygon(new_vertices)"
     ],
     "language": "python",
     "metadata": {},
     "outputs": [],
     "prompt_number": 6
    },
    {
     "cell_type": "markdown",
     "metadata": {},
     "source": [
      "Let's apply our map `f` to the unit square, and then apply it again to get the second iterate $f^{(2)} := f \\circ f$:"
     ]
    },
    {
     "cell_type": "code",
     "collapsed": false,
     "input": [
      "unit_square = DirectedPolygon([(0.,0.), (1.,0.), (1.,1.), (0.,1.)])\n",
      "\n",
      "iterates = [unit_square]\n",
      "iterates.append(map_poly(f, iterates[-1]))"
     ],
     "language": "python",
     "metadata": {},
     "outputs": [],
     "prompt_number": 7
    },
    {
     "cell_type": "code",
     "collapsed": false,
     "input": [
      "iterates\n"
     ],
     "language": "python",
     "metadata": {},
     "outputs": [
      {
       "metadata": {},
       "output_type": "pyout",
       "prompt_number": 9,
       "text": [
        "[array([[ 0.,  0.],\n",
        "       [ 1.,  0.],\n",
        "       [ 1.,  1.],\n",
        "       [ 0.,  1.]]),\n",
        " array([[ 0.,  0.],\n",
        "       [ 2.,  1.],\n",
        "       [ 3.,  2.],\n",
        "       [ 1.,  1.]])]"
       ]
      }
     ],
     "prompt_number": 9
    },
    {
     "cell_type": "markdown",
     "metadata": {},
     "source": [
      "Let us draw the original unit square and its first iterate:"
     ]
    },
    {
     "cell_type": "code",
     "collapsed": false,
     "input": [
      "unit_square"
     ],
     "language": "python",
     "metadata": {},
     "outputs": [
      {
       "metadata": {},
       "output_type": "pyout",
       "prompt_number": 10,
       "text": [
        "array([[ 0.,  0.],\n",
        "       [ 1.,  0.],\n",
        "       [ 1.,  1.],\n",
        "       [ 0.,  1.]])"
       ]
      }
     ],
     "prompt_number": 10
    },
    {
     "cell_type": "code",
     "collapsed": false,
     "input": [
      "def draw_polygon(poly):\n",
      "    plt.fill(poly.vertices, alpha=0.5)"
     ],
     "language": "python",
     "metadata": {},
     "outputs": [],
     "prompt_number": 17
    },
    {
     "cell_type": "code",
     "collapsed": false,
     "input": [
      "for i in iterates[0:2]:\n",
      "    draw_polygon(i)\n",
      "\n",
      "plt.grid()\n",
      "\n",
      "plt.axis('scaled')\n",
      "\n",
      "plt.show()"
     ],
     "language": "python",
     "metadata": {},
     "outputs": [],
     "prompt_number": 18
    },
    {
     "cell_type": "code",
     "collapsed": false,
     "input": [
      "plt.clf()"
     ],
     "language": "python",
     "metadata": {},
     "outputs": [],
     "prompt_number": 20
    },
    {
     "cell_type": "code",
     "collapsed": false,
     "input": [
      "draw_polygon(unit_square)"
     ],
     "language": "python",
     "metadata": {},
     "outputs": [],
     "prompt_number": 21
    },
    {
     "cell_type": "code",
     "collapsed": false,
     "input": [
      "def draw_iterates(n):\n",
      "    \"\"\"Draw iterates up to and including the nth\"\"\"\n",
      "    \n",
      "    while len(iterates) < n+1:\n",
      "        iterates.append(map_poly(f, iterates[-1]))\n",
      "    \n",
      "    for i in iterates[0:n+1]:\n",
      "        i.draw()\n",
      "    \n",
      "    plt.grid()\n",
      "    \n",
      "    plt.axis('scaled')\n",
      "    \n",
      "    plt.show()"
     ],
     "language": "python",
     "metadata": {},
     "outputs": []
    },
    {
     "cell_type": "markdown",
     "metadata": {},
     "source": [
      "Let's make a function to draw higher iterates:"
     ]
    },
    {
     "cell_type": "markdown",
     "metadata": {},
     "source": [
      "We can add the second iterate to the mix:"
     ]
    },
    {
     "cell_type": "code",
     "collapsed": false,
     "input": [
      "draw_iterates(2)"
     ],
     "language": "python",
     "metadata": {},
     "outputs": []
    },
    {
     "cell_type": "markdown",
     "metadata": {},
     "source": [
      "And why not add the next as well, just for fun:"
     ]
    },
    {
     "cell_type": "code",
     "collapsed": false,
     "input": [
      "draw_iterates(3)"
     ],
     "language": "python",
     "metadata": {},
     "outputs": []
    },
    {
     "cell_type": "markdown",
     "metadata": {},
     "source": [
      "It is clear that the resulting parallelogram is aligning itself along a line. This line is the *unstable manifold* of the\n",
      "origin. Since the map is *linear*, the unstable manifold is equal to the unstable *subspace* of the linearization (which\n",
      "is just the map itself, since it is linear).\n",
      "\n",
      "The unstable subspace is given by the eigenvector whose eigenvalue is larger than $1$. Let's calculate these:"
     ]
    },
    {
     "cell_type": "code",
     "collapsed": false,
     "input": [
      "from numpy import linalg"
     ],
     "language": "python",
     "metadata": {},
     "outputs": []
    },
    {
     "cell_type": "code",
     "collapsed": false,
     "input": [
      "lamb, v = linalg.eig(M)\n",
      "lamb, v"
     ],
     "language": "python",
     "metadata": {},
     "outputs": []
    },
    {
     "cell_type": "markdown",
     "metadata": {},
     "source": [
      "Note that the eigenvectores are returned in the *columns* of the matrix. We can now add the eigenvector to our plot:"
     ]
    },
    {
     "cell_type": "code",
     "collapsed": false,
     "input": [
      "fig, (ax1) = plt.subplots()\n",
      "\n",
      "plt.plot([0, v[0,0]*8], [0, v[1,0]*8], 'k--', lw=0.5)\n",
      "plt.arrow(0, 0, v[0,0]*6, v[1, 0]*6, axes=ax1, head_width=0.2, head_length=0.1, fc=\"g\", ec=\"w\", width=0.05)\n",
      "\n",
      "draw_iterates(2)"
     ],
     "language": "python",
     "metadata": {},
     "outputs": []
    },
    {
     "cell_type": "code",
     "collapsed": false,
     "input": [
      "plt.plot([0, v[0,0]*15], [0, v[1,0]*15], 'k--', lw=0.5)\n",
      "plt.arrow(0, 0, v[0,0]*20, v[1, 0]*20, axes=ax1, head_width=0.2, head_length=0.1, fc=\"g\", ec=\"w\", width=0.05)\n",
      "\n",
      "draw_iterates(3)"
     ],
     "language": "python",
     "metadata": {},
     "outputs": []
    },
    {
     "cell_type": "code",
     "collapsed": false,
     "input": [
      "ax."
     ],
     "language": "python",
     "metadata": {},
     "outputs": []
    },
    {
     "cell_type": "heading",
     "level": 3,
     "metadata": {},
     "source": [
      "Interpolating the Arnold cat map"
     ]
    },
    {
     "cell_type": "markdown",
     "metadata": {},
     "source": [
      "To visualise a bit better the stretching action of the map, we could think about interpolating between the identity and the cat map. To look at that, we would like to do some symbolic computations, so we import the `sympy` package:"
     ]
    },
    {
     "cell_type": "code",
     "collapsed": false,
     "input": [
      "import sympy"
     ],
     "language": "python",
     "metadata": {},
     "outputs": []
    },
    {
     "cell_type": "code",
     "collapsed": false,
     "input": [
      "from sympy import init_printing\n",
      "init_printing()  # turn on pretty printing in the notebook"
     ],
     "language": "python",
     "metadata": {},
     "outputs": []
    },
    {
     "cell_type": "markdown",
     "metadata": {},
     "source": [
      "Let's define the cat map and the identity matrix:"
     ]
    },
    {
     "cell_type": "code",
     "collapsed": false,
     "input": [
      "Identity = sympy.Matrix([[1, 0], [0, 1]])\n",
      "CatMap = sympy.Matrix([[2, 1], [1, 1]])\n",
      "\n",
      "Identity, CatMap"
     ],
     "language": "python",
     "metadata": {},
     "outputs": []
    },
    {
     "cell_type": "markdown",
     "metadata": {},
     "source": [
      "(Strictly speaking, this is not the cat map, since we have not included the modulo-$1$ operation. However, we can \n",
      "think of this as a lift of the cat map.)"
     ]
    },
    {
     "cell_type": "markdown",
     "metadata": {},
     "source": [
      "Let's try a linear interpolation with a parameter $\\alpha$:"
     ]
    },
    {
     "cell_type": "code",
     "collapsed": false,
     "input": [
      "alpha = sympy.symbols('alpha')\n",
      "alpha"
     ],
     "language": "python",
     "metadata": {},
     "outputs": []
    },
    {
     "cell_type": "markdown",
     "metadata": {},
     "source": [
      "Let's define the interpolated matrix $\\mathsf{M}_\\alpha := \\alpha \\mathsf{I} + (1-\\alpha) \\mathsf{M}$:"
     ]
    },
    {
     "cell_type": "code",
     "collapsed": false,
     "input": [
      "M_interp = lambda alpha:  alpha*Identity + (1-alpha)*CatMap\n",
      "M_interp(alpha)"
     ],
     "language": "python",
     "metadata": {},
     "outputs": []
    },
    {
     "cell_type": "markdown",
     "metadata": {},
     "source": [
      "It's determinant is:"
     ]
    },
    {
     "cell_type": "code",
     "collapsed": false,
     "input": [
      "det = M_interp(alpha).det()\n",
      "det"
     ],
     "language": "python",
     "metadata": {},
     "outputs": []
    },
    {
     "cell_type": "markdown",
     "metadata": {},
     "source": [
      "To have an area-preserving map, we need the determinant to be $1$, so we solve the equation $\\det(\\mathsf{M}_\\alpha) = 1$ for $\\alpha$:"
     ]
    },
    {
     "cell_type": "code",
     "collapsed": false,
     "input": [
      "sympy.solve(det - 1, alpha)"
     ],
     "language": "python",
     "metadata": {},
     "outputs": []
    },
    {
     "cell_type": "markdown",
     "metadata": {},
     "source": [
      "The only solutions are $0$ and $1$, which correspond to the identity and the cat map, respectively. So we see that we *cannot* interpolate linearly between these two matrices in a way that preserves area."
     ]
    },
    {
     "cell_type": "markdown",
     "metadata": {},
     "source": [
      "This is because the area-preserving condition is very strong. Let's try a different approach: we fix the origin and linearly interpolate only *one* of the vertices, for example the furthest one, $(1, 1)$. Then the \n",
      "interpolation gives"
     ]
    },
    {
     "cell_type": "markdown",
     "metadata": {},
     "source": [
      "$$\\mathbf{x}_\\alpha = \n",
      "%\\alpha \\, \\mathsf{M} \\left[ \\begin{pmatrix} 0 \\\\ 0 \\end{pmatrix} \\right]\n",
      "%+ (1-\\alpha) \\, \\mathsf{M} \\left[ \\begin{pmatrix} 1 \\\\ 1 \\end{pmatrix} \\right] = \n",
      "\\mathsf{M}_\\alpha \\left[\\begin{pmatrix} 1 \\\\ 1 \\end{pmatrix} \\right]:$$"
     ]
    },
    {
     "cell_type": "code",
     "collapsed": false,
     "input": [
      "x = lambda alpha: M_interp(alpha) * sympy.Matrix([1,1])\n",
      "x(alpha)"
     ],
     "language": "python",
     "metadata": {},
     "outputs": []
    },
    {
     "cell_type": "markdown",
     "metadata": {},
     "source": [
      "Let's choose one other point to be along the line joining $(1,0)$ to its image. We have already seen that we\n",
      "can't use the same interpolation parameter, so we choose a different one, $\\beta$:"
     ]
    },
    {
     "cell_type": "code",
     "collapsed": false,
     "input": [
      "beta = sympy.symbols(\"beta\")\n",
      "beta"
     ],
     "language": "python",
     "metadata": {},
     "outputs": []
    },
    {
     "cell_type": "code",
     "collapsed": false,
     "input": [
      "y = lambda beta: M_interp(beta) * sympy.Matrix([1,0])\n",
      "z = lambda beta: M_interp(beta) * sympy.Matrix([0,1])\n",
      "\n",
      "y(beta), z(beta)"
     ],
     "language": "python",
     "metadata": {},
     "outputs": []
    },
    {
     "cell_type": "markdown",
     "metadata": {},
     "source": [
      "Let's calculate the area of the resulting shape; note that the shape is *not*  a parallelogram, but rather an arbitrary quadrilateral. This is given in terms of the vectors describing the diagonals (lines joining opposite vertices) of the qualidrateral, $\\mathbf{d}_1$ and $\\mathbf{d}_2$, by\n",
      "\n",
      "$$A = \\frac{1}{2} \\left| \\mathbf{d}_1 \\times \\mathbf{d}_2 \\right|; $$\n",
      "see [this Wikipedia page](http://en.wikipedia.org/wiki/Quadrilateral#Vector_formulas)."
     ]
    },
    {
     "cell_type": "code",
     "collapsed": false,
     "input": [
      "diag1 = lambda alpha: x(alpha)\n",
      "diag2 = lambda beta: y(beta) - z(beta)\n",
      "\n",
      "diag1(alpha), diag2(beta)"
     ],
     "language": "python",
     "metadata": {},
     "outputs": []
    },
    {
     "cell_type": "code",
     "collapsed": false,
     "input": [
      "def cross(v1, v2):\n",
      "    return v1[0]*v2[1] - v1[1]*v2[0]"
     ],
     "language": "python",
     "metadata": {},
     "outputs": []
    },
    {
     "cell_type": "code",
     "collapsed": false,
     "input": [
      "A = lambda alpha, beta: cross(diag1(alpha), diag2(beta)) / 2\n",
      "A(alpha, beta)"
     ],
     "language": "python",
     "metadata": {},
     "outputs": []
    },
    {
     "cell_type": "markdown",
     "metadata": {},
     "source": [
      "We wish this to be $1$ to have an area-preserving (*nonlinear*!) map, so we solve for $\\beta$ to satisfy\n",
      "this constraint:"
     ]
    },
    {
     "cell_type": "code",
     "collapsed": false,
     "input": [
      "beta = sympy.solve(A(alpha, beta)-1, beta)[0]\n",
      "beta"
     ],
     "language": "python",
     "metadata": {},
     "outputs": []
    },
    {
     "cell_type": "code",
     "collapsed": false,
     "input": [
      "beta.subs({alpha:0.5})"
     ],
     "language": "python",
     "metadata": {},
     "outputs": []
    },
    {
     "cell_type": "markdown",
     "metadata": {},
     "source": [
      "Since this is out of the allowed range $[0,1]$, there is no way to obtain an area-preserving map apparently."
     ]
    },
    {
     "cell_type": "markdown",
     "metadata": {},
     "source": [
      "So the new interpolating *nonlinear* map would be as follows:"
     ]
    },
    {
     "cell_type": "markdown",
     "metadata": {},
     "source": [
      "We now have the coordinates of the 4 vertices of the new quadrilateral, given by $(0,0)$, $\\mathbf{y}(\\beta)$, $\\mathbf{z}(\\beta)$ and $\\mathbf{x}(\\alpha)$."
     ]
    },
    {
     "cell_type": "code",
     "collapsed": false,
     "input": [
      "y(beta).subs({alpha:0.5})"
     ],
     "language": "python",
     "metadata": {},
     "outputs": []
    },
    {
     "cell_type": "code",
     "collapsed": false,
     "input": [
      "origin = sympy.Matrix([0, 0])\n",
      "origin"
     ],
     "language": "python",
     "metadata": {},
     "outputs": []
    },
    {
     "cell_type": "code",
     "collapsed": false,
     "input": [
      "new_vertices = lambda alpha, beta: [origin, y(beta), x(alpha), z(beta)]"
     ],
     "language": "python",
     "metadata": {},
     "outputs": []
    },
    {
     "cell_type": "code",
     "collapsed": false,
     "input": [
      "new_vertices_float = np.array([vertex.subs({alpha:0.5}).evalf() for vertex in new_vertices(alpha, beta)]) \n",
      "new_vertices_float"
     ],
     "language": "python",
     "metadata": {},
     "outputs": []
    },
    {
     "cell_type": "heading",
     "level": 3,
     "metadata": {},
     "source": [
      "Correct attempt"
     ]
    },
    {
     "cell_type": "markdown",
     "metadata": {},
     "source": [
      "Rather, we must recognise that if we stretch out the farthest corner, the other corners must be pulled *in*\n",
      "towards $y=x$ in order to maintain the area-preserving property. To obtain a parallelogram, we impose that \n",
      "$\\mathbf{yy}_\\alpha$ and $\\mathbf{zz}_\\alpha$ are reflection-symmetric around $y=x$."
     ]
    },
    {
     "cell_type": "code",
     "collapsed": false,
     "input": [
      "new_square_vertices = [vertex + np.array([10., 0.]) for vertex in unit_square.vertices]\n",
      "new_square = DirectedPolygon(new_square_vertices)\n",
      "find_starting_point(unit_square, new_square)"
     ],
     "language": "python",
     "metadata": {},
     "outputs": []
    }
   ],
   "metadata": {}
  }
 ]
}