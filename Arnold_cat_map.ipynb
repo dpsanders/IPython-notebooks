{
 "metadata": {
  "name": ""
 },
 "nbformat": 3,
 "nbformat_minor": 0,
 "worksheets": [
  {
   "cells": [
    {
     "cell_type": "code",
     "collapsed": false,
     "input": [
      "import numpy as np"
     ],
     "language": "python",
     "metadata": {},
     "outputs": [],
     "prompt_number": 3
    },
    {
     "cell_type": "code",
     "collapsed": false,
     "input": [
      "def norm(v):\n",
      "    return np.sqrt(np.dot(v, v))"
     ],
     "language": "python",
     "metadata": {},
     "outputs": [],
     "prompt_number": 4
    },
    {
     "cell_type": "heading",
     "level": 1,
     "metadata": {},
     "source": [
      "Computational geometry"
     ]
    },
    {
     "cell_type": "heading",
     "level": 2,
     "metadata": {},
     "source": [
      "Line segments"
     ]
    },
    {
     "cell_type": "code",
     "collapsed": false,
     "input": [
      "class DirectedLineSegment:\n",
      "    \"\"\"A directed line segment from `p0` to `p1`\n",
      "    v is the *non-normalized* vector p1-p0\n",
      "    It is non-normalized so that the segment is parametrized by p0 + t*v, \n",
      "    where t=0 gives p0 and t=1 gives p1\n",
      "    \n",
      "    The normal vector n is normalized.\n",
      "    \"\"\"\n",
      "\n",
      "    def __init__(self, p0, p1):\n",
      "        self.p0, self.p1 = np.asarray(p0, dtype=float), np.asarray(p1, dtype=float)\n",
      "        self.v = self.p1 - self.p0\n",
      "        \n",
      "        self.n = np.array([-self.v[1], self.v[0]])\n",
      "        self.n /= norm(self.n)\n",
      "        \n",
      "    def __repr__(self):\n",
      "        return \"DirectedLineSegment\" + self.__str__()\n",
      "    def __str__(self):\n",
      "        return \"([%g, %g], [%g, %g])\" % (self.p0[0], self.p0[1], self.p1[0], self.p1[1])"
     ],
     "language": "python",
     "metadata": {},
     "outputs": [],
     "prompt_number": 5
    },
    {
     "cell_type": "code",
     "collapsed": false,
     "input": [
      "def find_intersection_segments(segment1, segment2):\n",
      "    \"\"\"Find intersection of two line segments\n",
      "    \n",
      "    Returns the value of t corresponding to the parametrization of segment1 at the intersection point,\n",
      "    or None if they do not intersect within the segment ends\n",
      "    \n",
      "    Use representation with normal of ls2 for simplicity\n",
      "    \n",
      "    Parametrize segment1  as  p1 + t.v\n",
      "    Use representation of segment2 as {x:(x-c).n = 0}\n",
      "    \"\"\"\n",
      "    \n",
      "    n = segment2.n\n",
      "    c = segment2.p0\n",
      "    \n",
      "    x = segment1.p0\n",
      "    v = segment1.v\n",
      "    \n",
      "    # print \"dot(v,n) = \",  np.dot(v,n)\n",
      "    \n",
      "    \n",
      "    threshold = 1.e-15\n",
      "    \n",
      "    if abs(np.dot(v,n)) < threshold:  # 0: lines are parallel\n",
      "        return None\n",
      "    \n",
      "    \n",
      "    t_star = np.dot(c - x, n) / np.dot(v, n)  # intersection time\n",
      "    \n",
      "    if 0.0 <= t_star <= 1.0:\n",
      "        return (t_star, x + t_star * v)\n",
      "    \n",
      "    else:\n",
      "        return None"
     ],
     "language": "python",
     "metadata": {},
     "outputs": [],
     "prompt_number": 36
    },
    {
     "cell_type": "code",
     "collapsed": false,
     "input": [
      "segment = DirectedLineSegment(np.r_[0, 0], np.r_[2, 2])    "
     ],
     "language": "python",
     "metadata": {},
     "outputs": [],
     "prompt_number": 37
    },
    {
     "cell_type": "code",
     "collapsed": false,
     "input": [
      "segment"
     ],
     "language": "python",
     "metadata": {},
     "outputs": [
      {
       "metadata": {},
       "output_type": "pyout",
       "prompt_number": 38,
       "text": [
        "DirectedLineSegment([0, 0], [2, 2])"
       ]
      }
     ],
     "prompt_number": 38
    },
    {
     "cell_type": "code",
     "collapsed": false,
     "input": [
      "segment.v"
     ],
     "language": "python",
     "metadata": {},
     "outputs": [
      {
       "metadata": {},
       "output_type": "pyout",
       "prompt_number": 39,
       "text": [
        "array([ 2.,  2.])"
       ]
      }
     ],
     "prompt_number": 39
    },
    {
     "cell_type": "code",
     "collapsed": false,
     "input": [
      "segment1 = DirectedLineSegment([0, 0], [1, 1])\n",
      "segment2 = DirectedLineSegment([3, 3], [4, 4])\n",
      "\n",
      "print find_intersection_segments(segment1, segment2)"
     ],
     "language": "python",
     "metadata": {},
     "outputs": [
      {
       "output_type": "stream",
       "stream": "stdout",
       "text": [
        "dot(v,n) =  0.0\n",
        "None\n"
       ]
      }
     ],
     "prompt_number": 40
    },
    {
     "cell_type": "code",
     "collapsed": false,
     "input": [
      "def test_find_intersection_segments():\n",
      "\n",
      "    segment1 = DirectedLineSegment([0, 0], [1, 1])\n",
      "    segment2 = DirectedLineSegment([0, 1], [1, 0])\n",
      "    \n",
      "    t_star, intersection_point = find_intersection_segments(segment1, segment2)\n",
      "    assert t_star == 0.5\n",
      "    assert all(intersection_point == np.array([0.5, 0.5]))\n",
      "    \n",
      "    \n",
      "    # parallel lines:\n",
      "    segment1 = DirectedLineSegment([0, 0], [1, 1])\n",
      "    segment2 = DirectedLineSegment([3, 3], [4, 4])\n",
      "\n",
      "    assert find_intersection_segments(segment1, segment2) == None\n",
      "    \n",
      "    \n",
      "    segment1 = DirectedLineSegment([0, 0], [1, 1])\n",
      "    segment2 = DirectedLineSegment([1, 1], [1, 2])\n",
      "    \n",
      "    t_star, intersection_point = find_intersection_segments(segment1, segment2)\n",
      "    assert t_star == 1.0\n",
      "    assert all(intersection_point == np.array([1.0, 1.0]))\n",
      "    "
     ],
     "language": "python",
     "metadata": {},
     "outputs": [],
     "prompt_number": 41
    },
    {
     "cell_type": "heading",
     "level": 2,
     "metadata": {},
     "source": [
      "Polygons"
     ]
    },
    {
     "cell_type": "code",
     "collapsed": false,
     "input": [
      "class DirectedPolygon:\n",
      "    \"\"\"A directed polygon\n",
      "    \n",
      "    Parameters\n",
      "    ==========\n",
      "    vertices:\n",
      "        a list of vertices\n",
      "    \"\"\"\n",
      "        \n",
      "    \n",
      "    def __init__(self, vertices):\n",
      "        self.vertices = np.asarray(vertices)\n",
      "        \n",
      "        self.segments = []\n",
      "        \n",
      "        for i in range(len(self.vertices)-1):\n",
      "            self.segments.append(DirectedLineSegment(self.vertices[i], vertices[i+1]))\n",
      "            \n",
      "        self.segments.append(DirectedLineSegment(vertices[-1], vertices[0]))\n",
      "\n",
      "    def __repr__(self):\n",
      "        return self.segments.__repr__()\n",
      "    \n",
      "    def draw(self):\n",
      "        plt.fill(self.vertices[:,0], self.vertices[:,1], alpha=0.5)\n",
      "        "
     ],
     "language": "python",
     "metadata": {},
     "outputs": [],
     "prompt_number": 42
    },
    {
     "cell_type": "code",
     "collapsed": false,
     "input": [
      "unit_square = DirectedPolygon([(0.,0.), (1.,0.), (1.,1.), (0.,1.)])\n",
      "unit_square"
     ],
     "language": "python",
     "metadata": {},
     "outputs": [
      {
       "metadata": {},
       "output_type": "pyout",
       "prompt_number": 43,
       "text": [
        "[DirectedLineSegment([0, 0], [1, 0]), DirectedLineSegment([1, 0], [1, 1]), DirectedLineSegment([1, 1], [0, 1]), DirectedLineSegment([0, 1], [0, 0])]"
       ]
      }
     ],
     "prompt_number": 43
    },
    {
     "cell_type": "code",
     "collapsed": false,
     "input": [
      "%matplotlib\n",
      "from matplotlib import pyplot as plt"
     ],
     "language": "python",
     "metadata": {},
     "outputs": [
      {
       "output_type": "stream",
       "stream": "stdout",
       "text": [
        "Using matplotlib backend: MacOSX\n"
       ]
      }
     ],
     "prompt_number": 44
    },
    {
     "cell_type": "code",
     "collapsed": false,
     "input": [
      "unit_square.draw()\n",
      "plt.axis('scaled')\n",
      "plt.xlim(-0.3, 1.3)\n",
      "plt.ylim(-0.3, 1.3)\n",
      "plt.show()"
     ],
     "language": "python",
     "metadata": {},
     "outputs": [],
     "prompt_number": 45
    },
    {
     "cell_type": "code",
     "collapsed": false,
     "input": [
      "theta = np.pi / 4.\n",
      "R = np.array([np.cos(theta), np.sin(theta), -np.sin(theta), np.cos(theta)]).reshape((2,2) )\n",
      "\n",
      "rotated_square_vertices = [np.dot(R, vertex) for vertex in unit_square.vertices]\n",
      "rotated_square = DirectedPolygon(rotated_square_vertices)\n",
      "\n",
      "rotated_square.draw()"
     ],
     "language": "python",
     "metadata": {},
     "outputs": [],
     "prompt_number": 46
    },
    {
     "cell_type": "code",
     "collapsed": false,
     "input": [
      "def find_starting_point(polygon1, polygon2):\n",
      "    \"\"\"Find the starting point of the intersection of two polygons\n",
      "    Returns None if they do not intersect\"\"\"\n",
      "    \n",
      "    for segment1 in polygon1.segments:\n",
      "        for segment2 in polygon2.segments:\n",
      "            \n",
      "            intersection = find_intersection_segments(segment1, segment2)\n",
      "            \n",
      "            if intersection:\n",
      "                return intersection\n",
      "            \n",
      "    return None\n",
      "            \n",
      "    \n",
      "\n",
      "def intersection_polygons(polygon1, polygon2):\n",
      "    \"\"\"Calculate intersection of two (convex) polygons\n",
      "    \"\"\"\n",
      "    \n",
      "    intersection_path = []\n",
      "    \n",
      "    starting_point = find_starting_point(polygon1, polygon2)\n",
      "    \n",
      "    if starting_point is None:\n",
      "        return None\n",
      "    \n",
      "    "
     ],
     "language": "python",
     "metadata": {},
     "outputs": [],
     "prompt_number": 33
    },
    {
     "cell_type": "code",
     "collapsed": false,
     "input": [
      "def test_find_starting_point():\n",
      "    \n",
      "    unit_square = DirectedPolygon([(0.,0.), (1.,0.), (1.,1.), (0.,1.)])\n",
      "    \n",
      "    theta = np.pi / 4.\n",
      "    R = np.array([np.cos(theta), np.sin(theta), -np.sin(theta), np.cos(theta)]).reshape((2,2) )\n",
      "    \n",
      "    rotated_square_vertices = [np.dot(R, vertex) for vertex in unit_square.vertices]\n",
      "    rotated_square = DirectedPolygon(rotated_square_vertices)\n",
      "    \n",
      "    \n",
      "    starting_point = find_starting_point(unit_square, rotated_square)\n",
      "    \n",
      "    assert starting_point[0] == 0.0\n",
      "    assert all(starting_point[1] == np.array([0.0, 0.0]))\n",
      "    \n",
      "    \n",
      "    new_square = [vertex + np.array([10., 0.]) for vertex in unit_square.vertices]\n",
      "    \n",
      "    starting_point = find_starting_point(unit_square, new_square)\n",
      "    \n",
      "    assert starting_point == None"
     ],
     "language": "python",
     "metadata": {},
     "outputs": [],
     "prompt_number": 47
    },
    {
     "cell_type": "code",
     "collapsed": false,
     "input": [
      "new_square_vertices = [vertex + np.array([10., 0.]) for vertex in unit_square.vertices]\n",
      "new_square = DirectedPolygon(new_square_vertices)\n",
      "find_starting_point(unit_square, new_square)"
     ],
     "language": "python",
     "metadata": {},
     "outputs": [
      {
       "output_type": "stream",
       "stream": "stdout",
       "text": [
        "dot(v,n) =  0.0\n",
        "dot(v,n) =  -1.0\n",
        "dot(v,n) =  0.0\n",
        "dot(v,n) =  1.0\n",
        "dot(v,n) =  1.0\n"
       ]
      },
      {
       "metadata": {},
       "output_type": "pyout",
       "prompt_number": 48,
       "text": [
        "(0.0, array([ 1.,  0.]))"
       ]
      }
     ],
     "prompt_number": 48
    },
    {
     "cell_type": "code",
     "collapsed": false,
     "input": [
      "new_square"
     ],
     "language": "python",
     "metadata": {},
     "outputs": [
      {
       "metadata": {},
       "output_type": "pyout",
       "prompt_number": 44,
       "text": [
        "[DirectedLineSegment([10, 0], [11, 0]), DirectedLineSegment([11, 0], [11, 1]), DirectedLineSegment([11, 1], [10, 1]), DirectedLineSegment([10, 1], [10, 0])]"
       ]
      }
     ],
     "prompt_number": 44
    },
    {
     "cell_type": "code",
     "collapsed": false,
     "input": [
      "unit_square"
     ],
     "language": "python",
     "metadata": {},
     "outputs": [
      {
       "metadata": {},
       "output_type": "pyout",
       "prompt_number": 45,
       "text": [
        "[DirectedLineSegment([0, 0], [1, 0]), DirectedLineSegment([1, 0], [1, 1]), DirectedLineSegment([1, 1], [0, 1]), DirectedLineSegment([0, 1], [0, 0])]"
       ]
      }
     ],
     "prompt_number": 45
    },
    {
     "cell_type": "code",
     "collapsed": false,
     "input": [],
     "language": "python",
     "metadata": {},
     "outputs": []
    }
   ],
   "metadata": {}
  }
 ]
}