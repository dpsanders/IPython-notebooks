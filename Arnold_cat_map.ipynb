{
 "metadata": {
  "name": ""
 },
 "nbformat": 3,
 "nbformat_minor": 0,
 "worksheets": [
  {
   "cells": [
    {
     "cell_type": "code",
     "collapsed": false,
     "input": [
      "import numpy as np"
     ],
     "language": "python",
     "metadata": {},
     "outputs": [],
     "prompt_number": 99
    },
    {
     "cell_type": "code",
     "collapsed": false,
     "input": [
      "def norm(v):\n",
      "    return np.sqrt(np.dot(v, v))"
     ],
     "language": "python",
     "metadata": {},
     "outputs": [],
     "prompt_number": 100
    },
    {
     "cell_type": "heading",
     "level": 1,
     "metadata": {},
     "source": [
      "Computational geometry"
     ]
    },
    {
     "cell_type": "code",
     "collapsed": false,
     "input": [
      "class DirectedLineSegment:\n",
      "    \"\"\"A directed line segment from `p0` to `p1`\n",
      "    v is the *non-normalized* vector p1-p0\n",
      "    It is non-normalized so that the segment is parametrized by p0 + t*v, \n",
      "    where t=0 gives p0 and t=1 gives p1\n",
      "    \n",
      "    The normal vector n is normalized.\n",
      "    \"\"\"\n",
      "\n",
      "    def __init__(self, p0, p1):\n",
      "        self.p0, self.p1 = np.asarray(p0, dtype=float), np.asarray(p1, dtype=float)\n",
      "        self.v = self.p1 - self.p0\n",
      "        \n",
      "        self.n = np.array([-self.v[1], self.v[0]])\n",
      "        self.n /= norm(self.n)\n",
      "        \n",
      "    def __repr__(self):\n",
      "        return \"DirectedLineSegment\" + self.__str__()\n",
      "    def __str__(self):\n",
      "        return \"([%g, %g], [%g, %g])\" % (self.p0[0], self.p0[1], self.p1[0], self.p1[1])"
     ],
     "language": "python",
     "metadata": {},
     "outputs": [],
     "prompt_number": 101
    },
    {
     "cell_type": "code",
     "collapsed": false,
     "input": [
      "def find_intersection_segments(segment1, segment2):\n",
      "    \"\"\"Find intersection of two line segments\n",
      "    \n",
      "    Returns the value of t corresponding to the parametrization of segment1 at the intersection point,\n",
      "    or None if they do not intersect within the segment ends\n",
      "    \n",
      "    Use representation with normal of ls2 for simplicity\n",
      "    \n",
      "    Parametrize segment1  as  p1 + t.v\n",
      "    Use representation of segment2 as {x:(x-c).n = 0}\n",
      "    \"\"\"\n",
      "    \n",
      "    n = segment2.n\n",
      "    c = segment2.p0\n",
      "    \n",
      "    x = segment1.p0\n",
      "    v = segment1.v\n",
      "    \n",
      "    \n",
      "    t_star = np.dot(c - x, n) / np.dot(v, n)  # intersection time\n",
      "    \n",
      "    if 0.0 <= t_star <= 1.0:\n",
      "        return (t_star, x + t_star * v)\n",
      "    \n",
      "    else:\n",
      "        return None"
     ],
     "language": "python",
     "metadata": {},
     "outputs": [],
     "prompt_number": 102
    },
    {
     "cell_type": "code",
     "collapsed": false,
     "input": [
      "segment = DirectedLineSegment(np.r_[0, 0], np.r_[2, 2])    "
     ],
     "language": "python",
     "metadata": {},
     "outputs": [],
     "prompt_number": 103
    },
    {
     "cell_type": "code",
     "collapsed": false,
     "input": [
      "segment"
     ],
     "language": "python",
     "metadata": {},
     "outputs": [
      {
       "metadata": {},
       "output_type": "pyout",
       "prompt_number": 104,
       "text": [
        "DirectedLineSegment([0, 0], [2, 2])"
       ]
      }
     ],
     "prompt_number": 104
    },
    {
     "cell_type": "code",
     "collapsed": false,
     "input": [
      "segment.v"
     ],
     "language": "python",
     "metadata": {},
     "outputs": [
      {
       "metadata": {},
       "output_type": "pyout",
       "prompt_number": 105,
       "text": [
        "array([ 2.,  2.])"
       ]
      }
     ],
     "prompt_number": 105
    },
    {
     "cell_type": "code",
     "collapsed": false,
     "input": [
      "segment1 = DirectedLineSegment([0, 0], [1, 1])\n",
      "segment2 = DirectedLineSegment([3, 3], [4, 4])\n",
      "\n",
      "print find_intersection_segments(segment1, segment2)"
     ],
     "language": "python",
     "metadata": {},
     "outputs": [
      {
       "output_type": "stream",
       "stream": "stdout",
       "text": [
        "None\n"
       ]
      }
     ],
     "prompt_number": 106
    },
    {
     "cell_type": "code",
     "collapsed": false,
     "input": [
      "def test_find_intersection_segments():\n",
      "\n",
      "    segment1 = DirectedLineSegment([0, 0], [1, 1])\n",
      "    segment2 = DirectedLineSegment([0, 1], [1, 0])\n",
      "    \n",
      "    t_star, intersection_point = find_intersection_segments(segment1, segment2)\n",
      "    assert t_star == 0.5\n",
      "    assert all(intersection_point == np.array([0.5, 0.5]))\n",
      "    \n",
      "    \n",
      "    segment1 = DirectedLineSegment([0, 0], [1, 1])\n",
      "    segment2 = DirectedLineSegment([3, 3], [4, 4])\n",
      "\n",
      "    assert find_intersection_segments(segment1, segment2) == None\n",
      "    \n",
      "    \n",
      "    segment1 = DirectedLineSegment([0, 0], [1, 1])\n",
      "    segment2 = DirectedLineSegment([1, 1], [1, 2])\n",
      "    \n",
      "    t_star, intersection_point = find_intersection_segments(segment1, segment2)\n",
      "    assert t_star == 1.0\n",
      "    assert all(intersection_point == np.array([1.0, 1.0]))\n",
      "    "
     ],
     "language": "python",
     "metadata": {},
     "outputs": [],
     "prompt_number": 107
    },
    {
     "cell_type": "code",
     "collapsed": false,
     "input": [
      "class DirectedPolygon:\n",
      "    \"\"\"A directed polygon\n",
      "    \n",
      "    Parameters\n",
      "    ==========\n",
      "    vertices:\n",
      "        a list of vertices\n",
      "    \"\"\"\n",
      "        \n",
      "    \n",
      "    def __init__(self, vertices):\n",
      "        self.vertices = np.asarray(vertices)\n",
      "        \n",
      "        self.segments = []\n",
      "        \n",
      "        for i in range(len(self.vertices)-1):\n",
      "            self.segments.append(DirectedLineSegment(self.vertices[i], vertices[i+1]))\n",
      "            \n",
      "        self.segments.append(DirectedLineSegment(vertices[-1], vertices[0]))\n",
      "\n",
      "    def __repr__(self):\n",
      "        return self.segments.__repr__()\n",
      "    \n",
      "    def draw(self):\n",
      "        plt.fill(self.vertices[:,0], self.vertices[:,1], alpha=0.5)\n",
      "        "
     ],
     "language": "python",
     "metadata": {},
     "outputs": [],
     "prompt_number": 137
    },
    {
     "cell_type": "code",
     "collapsed": false,
     "input": [
      "unit_square = DirectedPolygon([(0.,0.), (1.,0.), (1.,1.), (0.,1.)])"
     ],
     "language": "python",
     "metadata": {},
     "outputs": [],
     "prompt_number": 138
    },
    {
     "cell_type": "code",
     "collapsed": false,
     "input": [
      "unit_square"
     ],
     "language": "python",
     "metadata": {},
     "outputs": [
      {
       "metadata": {},
       "output_type": "pyout",
       "prompt_number": 139,
       "text": [
        "[DirectedLineSegment([0, 0], [1, 0]), DirectedLineSegment([1, 0], [1, 1]), DirectedLineSegment([1, 1], [0, 1]), DirectedLineSegment([0, 1], [0, 0])]"
       ]
      }
     ],
     "prompt_number": 139
    },
    {
     "cell_type": "code",
     "collapsed": false,
     "input": [
      "%matplotlib"
     ],
     "language": "python",
     "metadata": {},
     "outputs": [
      {
       "output_type": "stream",
       "stream": "stdout",
       "text": [
        "Using matplotlib backend: MacOSX\n"
       ]
      }
     ],
     "prompt_number": 140
    },
    {
     "cell_type": "code",
     "collapsed": false,
     "input": [
      "from matplotlib import pyplot as plt"
     ],
     "language": "python",
     "metadata": {},
     "outputs": [],
     "prompt_number": 141
    },
    {
     "cell_type": "code",
     "collapsed": false,
     "input": [
      "unit_square.draw()\n",
      "plt.axis('scaled')\n",
      "plt.xlim(-0.3, 1.3)\n",
      "plt.ylim(-0.3, 1.3)\n",
      "plt.show()"
     ],
     "language": "python",
     "metadata": {},
     "outputs": [],
     "prompt_number": 146
    },
    {
     "cell_type": "code",
     "collapsed": false,
     "input": [
      "theta = np.pi / 4.\n",
      "\n",
      "R = np.array([np.cos(theta), np.sin(theta), -np.sin(theta), np.cos(theta)]).reshape((2,2) )"
     ],
     "language": "python",
     "metadata": {},
     "outputs": [
      {
       "output_type": "stream",
       "stream": "stdout",
       "text": [
        "Initial match list:  ['FutureWarning', 'RuntimeError', 'RuntimeWarning', 'unichr', 'unicode', 'unit_square']\n",
        "left_to_process =  ['FutureWarning', 'RuntimeError', 'RuntimeWarning', 'unichr', 'unicode', 'unit_square'] ; current_text = uni ; ordered_matches_list = []\n",
        "left_to_process =  ['FutureWarning', 'RuntimeError', 'RuntimeWarning', 'unicode'] ; current_text = un ; ordered_matches_list = ['unichr', 'unit_square']\n",
        "left_to_process =  ['FutureWarning', 'RuntimeError', 'RuntimeWarning'] ; current_text = u ; ordered_matches_list = ['unichr', 'unit_square', 'unicode']\n",
        "Initial match list: "
       ]
      },
      {
       "output_type": "stream",
       "stream": "stdout",
       "text": [
        " ['unit_square']\n",
        "left_to_process =  ['unit_square'] ; current_text = unit ; ordered_matches_list = []\n",
        "left_to_process =  [] ; current_text = uni ; ordered_matches_list = ['unit_square']\n",
        "left_to_process =  [] ; current_text = un ; ordered_matches_list = ['unit_square']\n",
        "left_to_process =  [] ; current_text = u ; ordered_matches_list = ['unit_square']\n",
        "Initial match list: "
       ]
      }
     ],
     "prompt_number": 149
    },
    {
     "cell_type": "code",
     "collapsed": false,
     "input": [
      "rotated_square_vertices = [np.dot(R, vertex) for vertex in unit_square.vertices]"
     ],
     "language": "python",
     "metadata": {},
     "outputs": [
      {
       "output_type": "stream",
       "stream": "stdout",
       "text": [
        "Initial match list:  ['DeprecationWarning', 'DirectedLineSegment', 'DirectedPolygon', 'PendingDeprecationWarning', 'UnicodeDecodeError', 'ZeroDivisionError']\n",
        "left_to_process =  ['DeprecationWarning', 'DirectedLineSegment', 'DirectedPolygon', 'PendingDeprecationWarning', 'UnicodeDecodeError', 'ZeroDivisionError'] ; current_text = D ; ordered_matches_list = []\n",
        "Initial match list: "
       ]
      },
      {
       "output_type": "stream",
       "stream": "stdout",
       "text": [
        " ['ArithmeticError', 'AssertionError', 'AttributeError', 'BufferError', 'DeprecationWarning', 'DirectedPolygon', 'EOFError', 'EnvironmentError', 'FloatingPointError', 'GeneratorExit', 'IOError', 'ImportError', 'IndentationError', 'IndexError', 'KeyError', 'LookupError', 'MemoryError', 'NameError', 'NotImplementedError', 'OSError', 'OverflowError', 'PendingDeprecationWarning', 'ReferenceError', 'RuntimeError', 'StandardError', 'StopIteration', 'SyntaxError', 'SystemError', 'TabError', 'TypeError', 'UnboundLocalError', 'UnicodeDecodeError', 'UnicodeEncodeError', 'UnicodeError', 'UnicodeTranslateError', 'ValueError', 'ZeroDivisionError', 'dreload', 'find_intersection', 'find_intersection_segments', 'from', 'frozenset', 'property', 'reload', 'rotated_square_vertices', 'round', 'test_find_intersection_segments']\n",
        "left_to_process =  ['ArithmeticError', 'AssertionError', 'AttributeError', 'BufferError', 'DeprecationWarning', 'DirectedPolygon', 'EOFError', 'EnvironmentError', 'FloatingPointError', 'GeneratorExit', 'IOError', 'ImportError', 'IndentationError', 'IndexError', 'KeyError', 'LookupError', 'MemoryError', 'NameError', 'NotImplementedError', 'OSError', 'OverflowError', 'PendingDeprecationWarning', 'ReferenceError', 'RuntimeError', 'StandardError', 'StopIteration', 'SyntaxError', 'SystemError', 'TabError', 'TypeError', 'UnboundLocalError', 'UnicodeDecodeError', 'UnicodeEncodeError', 'UnicodeError', 'UnicodeTranslateError', 'ValueError', 'ZeroDivisionError', 'dreload', 'find_intersection', 'find_intersection_segments', 'from', 'frozenset', 'property', 'reload', 'rotated_square_vertices', 'round', 'test_find_intersection_segments'] ; current_text = ro ; ordered_matches_list = []\n",
        "left_to_process =  ['ArithmeticError', 'AssertionError', 'AttributeError', 'BufferError', 'DeprecationWarning', 'DirectedPolygon', 'EOFError', 'EnvironmentError', 'FloatingPointError', 'GeneratorExit', 'IOError', 'ImportError', 'IndentationError', 'IndexError', 'KeyError', 'LookupError', 'MemoryError', 'NameError', 'NotImplementedError', 'OSError', 'OverflowError', 'PendingDeprecationWarning', 'ReferenceError', 'RuntimeError', 'StandardError', 'StopIteration', 'SyntaxError', 'SystemError', 'TabError', 'TypeError', 'UnboundLocalError', 'UnicodeDecodeError', 'UnicodeEncodeError', 'UnicodeError', 'UnicodeTranslateError', 'ValueError', 'ZeroDivisionError', 'dreload', 'find_intersection', 'find_intersection_segments', 'from', 'frozenset', 'property', 'reload', 'round', 'test_find_intersection_segments'] ; current_text = r ; ordered_matches_list = ['rotated_square_vertices']\n",
        "Initial match list: "
       ]
      }
     ],
     "prompt_number": 152
    },
    {
     "cell_type": "code",
     "collapsed": false,
     "input": [
      "rotated_square = DirectedPolygon(rotated_square_vertices)"
     ],
     "language": "python",
     "metadata": {},
     "outputs": [
      {
       "output_type": "stream",
       "stream": "stdout",
       "text": [
        " ['EnvironmentError', 'GeneratorExit', 'find_intersection_segments', 'frozenset', 'property', 'rotated_square_vertices', 'test_find_intersection_segments']\n",
        "left_to_process =  ['EnvironmentError', 'GeneratorExit', 'find_intersection_segments', 'frozenset', 'property', 'rotated_square_vertices', 'test_find_intersection_segments'] ; current_text = rot ; ordered_matches_list = []\n",
        "left_to_process =  ['EnvironmentError', 'GeneratorExit', 'find_intersection_segments', 'frozenset', 'property', 'test_find_intersection_segments'] ; current_text = ro ; ordered_matches_list = ['rotated_square_vertices']\n",
        "left_to_process =  ['EnvironmentError', 'GeneratorExit', 'find_intersection_segments', 'frozenset', 'property', 'test_find_intersection_segments'] ; current_text = r ; ordered_matches_list = ['rotated_square_vertices']\n"
       ]
      }
     ],
     "prompt_number": 153
    },
    {
     "cell_type": "code",
     "collapsed": false,
     "input": [
      "rotated_square.draw()"
     ],
     "language": "python",
     "metadata": {},
     "outputs": [
      {
       "output_type": "stream",
       "stream": "stdout",
       "text": [
        "Initial match list:  ['EnvironmentError', 'GeneratorExit', 'find_intersection_segments', 'frozenset', 'property', 'rotated_square', 'rotated_square_vertices', 'test_find_intersection_segments']\n",
        "left_to_process =  ['EnvironmentError', 'GeneratorExit', 'find_intersection_segments', 'frozenset', 'property', 'rotated_square', 'rotated_square_vertices', 'test_find_intersection_segments'] ; current_text = rot ; ordered_matches_list = []\n",
        "left_to_process =  ['EnvironmentError', 'GeneratorExit', 'find_intersection_segments', 'frozenset', 'property', 'rotated_square_vertices', 'test_find_intersection_segments'] ; current_text = ro ; ordered_matches_list = ['rotated_square']\n",
        "left_to_process =  ['EnvironmentError', 'GeneratorExit', 'find_intersection_segments', 'frozenset', 'property', 'test_find_intersection_segments'] ; current_text = r ; ordered_matches_list = ['rotated_square', 'rotated_square_vertices']\n"
       ]
      }
     ],
     "prompt_number": 154
    },
    {
     "cell_type": "code",
     "collapsed": false,
     "input": [],
     "language": "python",
     "metadata": {},
     "outputs": []
    }
   ],
   "metadata": {}
  }
 ]
}