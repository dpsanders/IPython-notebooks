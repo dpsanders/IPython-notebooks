{
 "metadata": {
  "name": ""
 },
 "nbformat": 3,
 "nbformat_minor": 0,
 "worksheets": [
  {
   "cells": [
    {
     "cell_type": "heading",
     "level": 1,
     "metadata": {},
     "source": [
      "New markup in the IPython Notebook: LaTeX and references"
     ]
    },
    {
     "cell_type": "markdown",
     "metadata": {},
     "source": [
      "The use of Markdown corresponds to an idea of *lightweight* markup.\n",
      "This document presents two suggestions in this direction:\n",
      "\n",
      "1. Simplifying LaTeX markup\n",
      "\n",
      "2. General cross-references with lightweight markup"
     ]
    },
    {
     "cell_type": "heading",
     "level": 2,
     "metadata": {},
     "source": [
      "Simplifying LaTeX markup"
     ]
    },
    {
     "cell_type": "markdown",
     "metadata": {},
     "source": [
      "We use LaTeX for two purposes, for which it is a \"killer\" application:\n",
      "\n",
      "1. Markup of mathematical equations\n",
      "\n",
      "2. Sophisticated document layout algorithms"
     ]
    },
    {
     "cell_type": "markdown",
     "metadata": {},
     "source": [
      "*__All__* other uses of LaTeX are *__obsolete__*, i.e. the great majority of LaTeX packages on CTAN, `.sty` files,\n",
      "`.cls` files etc. These all involve *__text processing__*, formatting, etc. which is, to put it mildly, *not* a strong point of\n",
      "LaTeX, as anybody who has had the misfortune to look at the LaTeX source code of a LaTeX package will testify!\n"
     ]
    },
    {
     "cell_type": "markdown",
     "metadata": {},
     "source": [
      "From the point of view of the *user*, they see LaTeX only in the form of textual markup  written with `$...$`, `$$...$$` and standard LaTeX and AMSmath environments such as `\\begin{equation}...\\end{equation}` and `\\begin{align}...\\end{align}`, written inside Markdown cells. This LaTeX markup can effectively be thought of as\n",
      "an extension of the Markdown language."
     ]
    },
    {
     "cell_type": "markdown",
     "metadata": {},
     "source": [
      "However, there is an obvious inconsistency here with respect to the term \"lightweight\". The original TeX markup\n",
      "given by `$...$` and `$$...$$` fits very nicely with lightweight Markdown markup. However, the LaTeX macros grown\n",
      "on top of these, starting with `\\begin` and ending with `\\end`, are big, bloated and uncomfortable to use.\n"
     ]
    },
    {
     "cell_type": "markdown",
     "metadata": {},
     "source": [
      "A simple solution is to recognise that since we are now using LaTeX *only* for mathematics, the `\\begin` and `\\end` will mark the beginning and end of a LaTeX snippet.\n",
      "\n",
      "So let's take advantage of this, and extend the use of `$` to mark the beginning and end of snippets. The `\\begin` and `\\end` become redundant, so we drop them, leaving the following syntax for an equation, for example:\n",
      "\n",
      "    ` \\$equation y = x^2 \\$ `\n",
      "    \n",
      "Effectively, the whole string `$equation$` becomes a new LaTeX tag.\n",
      "Of course, it would also be sensible, as done in many LaTeX editors, to provide abbreviations, so that we could write\n",
      "\n",
      "    ` \\$eqn y=x^2 \\$`\n",
      "\n",
      "Similarly we would have\n",
      "\n",
      "    ` \\$align y &= x^2 \\\\ `\n",
      "    `         z &= y^3 $ ` \n",
      "\n",
      "This is the proposed new lightweight, agile LaTeX markup. (Of course, the full syntax will still be available via\n",
      "the `\\` symbol).\n",
      "\n",
      "\n",
      "    \n",
      "\n",
      "\n",
      "    "
     ]
    },
    {
     "cell_type": "heading",
     "level": 2,
     "metadata": {},
     "source": [
      "References"
     ]
    },
    {
     "cell_type": "markdown",
     "metadata": {},
     "source": [
      "A crucial part of any technical writing is the use of cross-references, which for brevity we will refer\n",
      "to simply as *references*."
     ]
    },
    {
     "cell_type": "heading",
     "level": 3,
     "metadata": {},
     "source": [
      "Standard types of references"
     ]
    },
    {
     "cell_type": "markdown",
     "metadata": {},
     "source": [
      "Some standard use-cases of references in text or LaTeX documents are:"
     ]
    },
    {
     "cell_type": "markdown",
     "metadata": {},
     "source": [
      "- Reference to another labelled hierarchical region (section, sub-section, etc.) in the same document\n",
      "\n",
      "- Reference to an equation\n",
      "\n",
      "- Reference to a figure\n",
      "\n",
      "- Reference to a table\n",
      "\n",
      "- Reference to a code block\n",
      "\n",
      "- Citation of a bibliographic item\n"
     ]
    },
    {
     "cell_type": "markdown",
     "metadata": {},
     "source": [
      "To this we can add the following from the online world:"
     ]
    },
    {
     "cell_type": "markdown",
     "metadata": {},
     "source": [
      "- External link to a webpage or other document (e.g. a YouTube video) given by a URL\n",
      "\n",
      "- External link a labelled point inside a webpage, given by the HTML `#` construct\n",
      "\n",
      "- Use of Digital Object Identifiers to refer to external digital objects "
     ]
    },
    {
     "cell_type": "heading",
     "level": 3,
     "metadata": {},
     "source": [
      "Less common reference use-cases"
     ]
    },
    {
     "cell_type": "markdown",
     "metadata": {},
     "source": [
      "We could also, for example, think of the following examples. They occur less frequently, but *__only because there has not been, until now, a suitable syntax for them__*!"
     ]
    },
    {
     "cell_type": "markdown",
     "metadata": {},
     "source": [
      "- Refer to a particular line of code in a particular code block. This is a common action required in technical\n",
      "writing, which has no current good solution: the reference currently would usually be by line number, with the \n",
      "code lines being numbered in the document. However, these line numbers will easily be corrupted when the code is\n",
      "edited!\n",
      "\n",
      "- Reference *from within* a (comment inside a) code block to the same or another code block, or a line inside it\n",
      "\n",
      "- Reference to another IPython notebook document, or to a particular cell or (labelled) line within that document\n",
      "\n",
      "- Reference to a certain bar (measure) in a musical score\n",
      "\n",
      "- Reference to a time-stamped location in an audio file or video object.\n"
     ]
    },
    {
     "cell_type": "heading",
     "level": 3,
     "metadata": {},
     "source": [
      "Abstraction to a general reference / label syntax"
     ]
    },
    {
     "cell_type": "markdown",
     "metadata": {},
     "source": [
      "There is a clear abstraction of *__all__* of the above use cases, as is obvious from the syntax of, e.g., the\n",
      "LaTeX, reST and HTML markup languages: we need a way of *labelling* a position in an *object* (code block,\n",
      "equation etc.), and then *referring* to it with a pointer. "
     ]
    },
    {
     "cell_type": "markdown",
     "metadata": {},
     "source": [
      "Thus all we need is a *uniform* syntax for creating a label, and for referring to that label."
     ]
    },
    {
     "cell_type": "markdown",
     "metadata": {},
     "source": [
      "A reference in this sense can be thought of as a uni-directional pointer, or arrow, with a *head* at the *referee*\n",
      "(the object referred *to*) and a *tail* at the *referrer* (the object doing the referring). Pictorially, this can\n",
      "be denoted as follows:"
     ]
    },
    {
     "cell_type": "markdown",
     "metadata": {},
     "source": [
      "referrer |-------------> referee"
     ]
    },
    {
     "cell_type": "markdown",
     "metadata": {},
     "source": [
      "It just remains to invent a lightweight, agile syntax for this structure. There is a *very* lightweight syntax for this in reST, as follows. To refer to an object with the label `object` from another position, we use:\n",
      "\n",
      "`object_`\n",
      "\n",
      "...\n",
      "\n",
      "`_object:`\n"
     ]
    },
    {
     "cell_type": "markdown",
     "metadata": {},
     "source": [
      "The underscores (`_`) thus denote part of the horizontal part of the arrow, and we can think of this syntax as\n",
      "labelling the *arrow itself* with the name `object`:"
     ]
    },
    {
     "cell_type": "markdown",
     "metadata": {},
     "source": [
      "referrer $\\over{\\longrightarrow}{\\text{object}}$  referee"
     ]
    },
    {
     "cell_type": "markdown",
     "metadata": {},
     "source": [
      "However, the underscore is not visually obvious and does not remind us of its function. Instead, we propose the\n",
      "following notation:\n",
      "\n",
      "`.` :  Current location\n",
      "\n",
      "`->` :\n",
      "    Reference\n",
      "\n",
      "`:` :\n",
      "    Label"
     ]
    },
    {
     "cell_type": "markdown",
     "metadata": {},
     "source": [
      "A reference from a position in the file to a label `object` is thus written as follows:\n",
      "\n",
      "```\n",
      ".->object\n",
      "\n",
      "...\n",
      "\n",
      ".:object:\n",
      "``` "
     ]
    },
    {
     "cell_type": "markdown",
     "metadata": {},
     "source": [
      "We may omit the dots and the final colon:\n",
      "\n",
      "\n",
      "```\n",
      "->object\n",
      "\n",
      "...\n",
      "\n",
      ":object\n",
      "``` "
     ]
    },
    {
     "cell_type": "markdown",
     "metadata": {},
     "source": [
      "These labels may be included in a LaTeX snippet (`$...$`) or a code block by using the respective comment symbol:\n",
      "\n",
      "- LaTeX:\n",
      "\n",
      "Trying to solve the equation .->general_quadratic led 16th-century mathematicians to the concept of a *complex number*.\n",
      "`$eq ax^2 +bx + c = 0 %:general_quadratic:`\n",
      "which will be automatically translated to\n",
      "\\begin{equation} ax^2 +bx + c = 0 %:general_quadratic: \n",
      "\\end{equation}\n",
      "Note that using the comment automatically hides the label in this case (but only if we insert a new line after the label).\n",
      "\n",
      "- Python code:\n",
      "\n",
      "In ->settings_import, we see a useful way of changing the name of an imported variable whose original name we do\n",
      "not like.\n",
      "```\n",
      "import matplotlib\n",
      "from matplotlib import rcParams as settings  #:settings_import:\n",
      "```\n"
     ]
    },
    {
     "cell_type": "markdown",
     "metadata": {},
     "source": [
      "These links will be rendered in the Notebook (upon execution of the cell) as normal HTML-type links.\n",
      "In editing mode, syntax highlighting and code completion will be provided: on typing `->`, the color will be\n",
      "changed to the link color, and a list of currently-known labels will be provided."
     ]
    },
    {
     "cell_type": "markdown",
     "metadata": {},
     "source": [
      "It may happen that you are writing, say, a text cell and wish to insert a reference to a label of an object which\n",
      "is not yet known. In this case, once the label is created later, all the cells with references to this label will\n",
      "be *automatically* rerun to include the correct reference. (Of course, this automatic re-running may be turned off by a suitable `%config` parameter.)"
     ]
    },
    {
     "cell_type": "heading",
     "level": 3,
     "metadata": {},
     "source": [
      "Implementation of reference structure"
     ]
    },
    {
     "cell_type": "markdown",
     "metadata": {},
     "source": [
      "References and labels can naturally be thought of in terms of *graphs* (or *networks*), consisting of *vertices* \n",
      "and *edges*. The vertices of the graph represent the objects in the notebook, such as code cells, lines in code\n",
      "cells, LaTeX snippets, etc., and the edges represent the references between them.\n",
      "\n",
      "Such graphs are standard objects in computer science and mathematics, and it is well understood how to implement\n",
      "them efficiently, for example as a list of lists. Note that various tails may link to the same head, i.e. the\n",
      "structure is many-to-one. It need not be either *surjective* (every label is referred to), nor *injective* (one\n",
      "label cannot be referred to by more than one reference)."
     ]
    },
    {
     "cell_type": "heading",
     "level": 3,
     "metadata": {},
     "source": [
      "Conversion of notebook references to output formats"
     ]
    },
    {
     "cell_type": "markdown",
     "metadata": {},
     "source": [
      "When the notebook is exported, the references in the notebook must be converted into suitable code to implement\n",
      "the reference in each output type (HTML, LaTeX) etc.\n",
      "\n",
      "The *context* of the reference should (usually, at least) be sufficient to determine how it is exported. For\n",
      "example, if the reference is inside a LaTeX snippet, it should be translated as being an equation reference,\n",
      "and given the appropriate syntax. If it is a reference "
     ]
    },
    {
     "cell_type": "heading",
     "level": 2,
     "metadata": {},
     "source": [
      "Figures"
     ]
    },
    {
     "cell_type": "markdown",
     "metadata": {},
     "source": [
      "There needs to be a way to add a *caption* to a *plot output* in order to produce a new object, called (as in\n",
      "LaTeX), a *figure*. Such a figure must then also be able to be *labelled*, as above.\n",
      "\n",
      "A solution for this is to be able \n"
     ]
    },
    {
     "cell_type": "heading",
     "level": 2,
     "metadata": {},
     "source": [
      "External references"
     ]
    },
    {
     "cell_type": "markdown",
     "metadata": {},
     "source": [
      "An *external reference* is a reference to an external document, i.e. to any object which is not inside the current notebook. To specify an external reference, it is thus necessary to specify at least the file name / URL / DOI /\n",
      "etc. of the external object. For example, to refer to a webpage, we can do:\n",
      "\n",
      "    One of the most famous websites in the world is .->url:wikipedia.org "
     ]
    },
    {
     "cell_type": "markdown",
     "metadata": {},
     "source": [
      "If we want to refer to a point labelled using `<a>`, we must make a reference to an object *inside* the page.\n",
      "To do so, we use either `.` or `:` to dereference:\n",
      "\n",
      "    At .->url:wikipedia.org:\"Today's news\""
     ]
    },
    {
     "cell_type": "markdown",
     "metadata": {},
     "source": [
      "But this can now be extended as the completely *general* syntax for references to sub-objects of external objects. For example, to refer to the `.:sec_quadratics:` label inside the IPython notebook document `polynomials.ipynb`\n",
      "located in the `../book` directory, \n",
      "we write:\n",
      "\n",
      "    The well-known solution of quadratic equations is described in .->../my_book/polynomials.ipynb:sec_quadratics:\n",
      "    \n",
      "To refer to an equation in that section would use exactly the *same* syntax!"
     ]
    },
    {
     "cell_type": "markdown",
     "metadata": {},
     "source": [
      "Of course, we will often need several different references pointing to the *same* external resource. As in reST,\n",
      "we can then provide a *resource table* as a dictionary object, represented as key-value pairs:\n",
      "\n",
      "    .book: ../my_book\n",
      "    .booksite: github.io/book_site\n",
      "    \n",
      "Then the links become simple!:\n",
      "\n",
      "    Quadratics are discussed in our textbook ->.book:chap_quadratics. \n",
      "    For additional examples, see the book's website ->.booksite:examples"
     ]
    },
    {
     "cell_type": "heading",
     "level": 2,
     "metadata": {},
     "source": [
      "Bibliographic references"
     ]
    },
    {
     "cell_type": "code",
     "collapsed": false,
     "input": [
      "Bibliographic references are a key part of a "
     ],
     "language": "python",
     "metadata": {},
     "outputs": []
    }
   ],
   "metadata": {}
  }
 ]
}