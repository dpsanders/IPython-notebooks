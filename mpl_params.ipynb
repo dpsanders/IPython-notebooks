{
 "metadata": {
  "name": ""
 },
 "nbformat": 3,
 "nbformat_minor": 0,
 "worksheets": [
  {
   "cells": [
    {
     "cell_type": "heading",
     "level": 1,
     "metadata": {},
     "source": [
      "Interrogating and modifying matplotlib parameter settings via matplotlib.mpl_params\n"
     ]
    },
    {
     "cell_type": "markdown",
     "metadata": {},
     "source": [
      "The styling of `matplotlib` plots is highly configurable. In this mini-tutorial, we will see how *any* parameter that contributes to the look and design of a `matplotlib` plot may be changed at any time, with an *immediate* and *striking* influence on how the plot looks!"
     ]
    },
    {
     "cell_type": "heading",
     "level": 2,
     "metadata": {},
     "source": [
      "The `mpl_params` data structure for parameter settings"
     ]
    },
    {
     "cell_type": "markdown",
     "metadata": {},
     "source": [
      " The configuration is done via parameter settings stored in a data\n",
      "structure called `mpl_params`. This lives inside the `matplotlib` namespace, \n",
      "so we can import it using:"
     ]
    },
    {
     "cell_type": "code",
     "collapsed": false,
     "input": [
      "from matplotlib import rcParams\n",
      "mpl_params = rcParams\n"
     ],
     "language": "python",
     "metadata": {},
     "outputs": [],
     "prompt_number": 1
    },
    {
     "cell_type": "markdown",
     "metadata": {},
     "source": [
      "In future versions of `matplotlib`, we will be able to use simply\n",
      "\n",
      "    from matplotlib import mpl_params\n",
      "    \n",
      "but at the moment we must rather create the name `mpl_params` as an alias of the current name `rcParams` for the structure"
     ]
    },
    {
     "cell_type": "markdown",
     "metadata": {},
     "source": [
      "`mpl_params` behaves like a dictionary, i.e. it is a collection of key-value pairs. But it also has *validation*,\n",
      "which means that the possible values associated to a given key may be restricted to a certain set.\n",
      "\n",
      "For a key `key`, querying `mpl_params[key]` returns the current value associated to the key `key`, while\n",
      "\n",
      "    mpl_params[key] = value\n",
      "    \n",
      "associates the new value `value` to the key `key`. For example:"
     ]
    },
    {
     "cell_type": "code",
     "collapsed": false,
     "input": [
      "print mpl_params['font.size']"
     ],
     "language": "python",
     "metadata": {},
     "outputs": [
      {
       "output_type": "stream",
       "stream": "stdout",
       "text": [
        "12\n"
       ]
      }
     ],
     "prompt_number": 2
    },
    {
     "cell_type": "code",
     "collapsed": false,
     "input": [
      "mpl_params['font.size'] = 20\n",
      "print mpl_params['font.size']"
     ],
     "language": "python",
     "metadata": {},
     "outputs": [
      {
       "output_type": "stream",
       "stream": "stdout",
       "text": [
        "20.0\n"
       ]
      }
     ],
     "prompt_number": 3
    },
    {
     "cell_type": "heading",
     "level": 2,
     "metadata": {},
     "source": [
      "Example of styling a plot"
     ]
    },
    {
     "cell_type": "markdown",
     "metadata": {},
     "source": [
      "To see what effect changing these values has on a `matplotlib` plot, let's make a simple plot twice, changing the font size in between. Firstly we initialize the plotting environment in the IPython notebook:"
     ]
    },
    {
     "cell_type": "code",
     "collapsed": false,
     "input": [
      "%matplotlib inline"
     ],
     "language": "python",
     "metadata": {},
     "outputs": [],
     "prompt_number": 4
    },
    {
     "cell_type": "markdown",
     "metadata": {},
     "source": [
      "Now we import the parts of `matplotlib` and `numpy` that we will use:"
     ]
    },
    {
     "cell_type": "code",
     "collapsed": false,
     "input": [
      "from matplotlib import pyplot as plt\n",
      "import numpy as np"
     ],
     "language": "python",
     "metadata": {},
     "outputs": [],
     "prompt_number": 5
    },
    {
     "cell_type": "markdown",
     "metadata": {},
     "source": [
      "Since we will be repeating the same operation, instead of duplicating the code, it is cleaner to create a function to do the plotting:"
     ]
    },
    {
     "cell_type": "code",
     "collapsed": false,
     "input": [
      "def simple_plot():\n",
      "    x = np.arange(-5, 5, 0.01)\n",
      "    y = x * x\n",
      "    \n",
      "    plt.plot(x,y)"
     ],
     "language": "python",
     "metadata": {},
     "outputs": [],
     "prompt_number": 6
    },
    {
     "cell_type": "markdown",
     "metadata": {},
     "source": [
      "Now we can do the plotting, firstly with the `matplotlib` defaults, and then with the new font size:"
     ]
    },
    {
     "cell_type": "code",
     "collapsed": false,
     "input": [
      "simple_plot()  # with default values since we have not changed anything yet"
     ],
     "language": "python",
     "metadata": {},
     "outputs": [
      {
       "metadata": {},
       "output_type": "display_data",
       "png": "[encoded data removed]",
       "text": [
        "<matplotlib.figure.Figure at 0x11596f190>"
       ]
      }
     ],
     "prompt_number": 7
    },
    {
     "cell_type": "code",
     "collapsed": false,
     "input": [
      "mpl_params['font.size'] = 20\n",
      "simple_plot()  # rerun the plot, now with the new font size"
     ],
     "language": "python",
     "metadata": {},
     "outputs": [
      {
       "metadata": {},
       "output_type": "display_data",
       "png": "[encoded data removed]",
       "text": [
        "<matplotlib.figure.Figure at 0x115981310>"
       ]
      }
     ],
     "prompt_number": 8
    },
    {
     "cell_type": "markdown",
     "metadata": {},
     "source": [
      "Hey presto! The fonts are now much more readable for this small size of figure."
     ]
    },
    {
     "cell_type": "heading",
     "level": 2,
     "metadata": {},
     "source": [
      "Great! What can I change?"
     ]
    },
    {
     "cell_type": "markdown",
     "metadata": {},
     "source": [
      "*All* of the parameters of a plot are modifiable in this simple way. Here is a list (actually, a dictionary), of the entire contents of `mpl_params`. Note how the IPython notebook automatically creates a scrolling region when the output is too long."
     ]
    },
    {
     "cell_type": "code",
     "collapsed": false,
     "input": [
      "print mpl_params"
     ],
     "language": "python",
     "metadata": {},
     "outputs": [
      {
       "output_type": "stream",
       "stream": "stdout",
       "text": [
        "agg.path.chunksize: 0\n",
        "animation.avconv_args: \n",
        "animation.avconv_path: avconv\n",
        "animation.bitrate: -1\n",
        "animation.codec: mpeg4\n",
        "animation.convert_args: \n",
        "animation.convert_path: convert\n",
        "animation.ffmpeg_args: \n",
        "animation.ffmpeg_path: ffmpeg\n",
        "animation.frame_format: png\n",
        "animation.mencoder_args: \n",
        "animation.mencoder_path: mencoder\n",
        "animation.writer: ffmpeg\n",
        "axes.axisbelow: False\n",
        "axes.color_cycle: ['b', 'g', 'r', 'c', 'm', 'y', 'k']\n",
        "axes.edgecolor: k\n",
        "axes.facecolor: w\n",
        "axes.formatter.limits: [-7, 7]\n",
        "axes.formatter.use_locale: False\n",
        "axes.formatter.use_mathtext: False\n",
        "axes.grid: False\n",
        "axes.hold: True\n",
        "axes.labelcolor: k\n",
        "axes.labelsize: medium\n",
        "axes.labelweight: normal\n",
        "axes.linewidth: 1.0\n",
        "axes.titlesize: large\n",
        "axes.unicode_minus: True\n",
        "axes.xmargin: 0\n",
        "axes.ymargin: 0\n",
        "axes3d.grid: True\n",
        "backend: module://IPython.kernel.zmq.pylab.backend_inline\n",
        "backend.qt4: PyQt4\n",
        "backend_fallback: True\n",
        "contour.negative_linestyle: dashed\n",
        "datapath: /usr/local/Cellar/python/2.7.5/Frameworks/Python.framework/Versions/2.7/lib/python2.7/site-packages/matplotlib-1.4.x-py2.7-macosx-10.8-x86_64.egg/matplotlib/mpl-data\n",
        "docstring.hardcopy: False\n",
        "examples.directory: \n",
        "figure.autolayout: False\n",
        "figure.dpi: 80\n",
        "figure.edgecolor: white\n",
        "figure.facecolor: white\n",
        "figure.figsize: (6.0, 4.0)\n",
        "figure.frameon: True\n",
        "figure.max_open_warning: 20\n",
        "figure.subplot.bottom: 0.125\n",
        "figure.subplot.hspace: 0.2\n",
        "figure.subplot.left: 0.125\n",
        "figure.subplot.right: 0.9\n",
        "figure.subplot.top: 0.9\n",
        "figure.subplot.wspace: 0.2\n",
        "font.cursive: ['Apple Chancery', 'Textile', 'Zapf Chancery', 'Sand', 'cursive']\n",
        "font.family: sans-serif\n",
        "font.fantasy: ['Comic Sans MS', 'Chicago', 'Charcoal', 'ImpactWestern', 'fantasy']\n",
        "font.monospace: ['Bitstream Vera Sans Mono', 'DejaVu Sans Mono', 'Andale Mono', 'Nimbus Mono L', 'Courier New', 'Courier', 'Fixed', 'Terminal', 'monospace']\n",
        "font.sans-serif: ['Bitstream Vera Sans', 'DejaVu Sans', 'Lucida Grande', 'Verdana', 'Geneva', 'Lucid', 'Arial', 'Helvetica', 'Avant Garde', 'sans-serif']\n",
        "font.serif: ['Bitstream Vera Serif', 'DejaVu Serif', 'New Century Schoolbook', 'Century Schoolbook L', 'Utopia', 'ITC Bookman', 'Bookman', 'Nimbus Roman No9 L', 'Times New Roman', 'Times', 'Palatino', 'Charter', 'serif']\n",
        "font.size: 20.0\n",
        "font.stretch: normal\n",
        "font.style: normal\n",
        "font.variant: normal\n",
        "font.weight: normal\n",
        "grid.alpha: 1.0\n",
        "grid.color: k\n",
        "grid.linestyle: :\n",
        "grid.linewidth: 0.5\n",
        "image.aspect: equal\n",
        "image.cmap: jet\n",
        "image.interpolation: bilinear\n",
        "image.lut: 256\n",
        "image.origin: upper\n",
        "image.resample: False\n",
        "interactive: True\n",
        "keymap.all_axes: a\n",
        "keymap.back: ['left', 'c', 'backspace']\n",
        "keymap.forward: ['right', 'v']\n",
        "keymap.fullscreen: ('f', 'ctrl+f')\n",
        "keymap.grid: g\n",
        "keymap.home: ['h', 'r', 'home']\n",
        "keymap.pan: p\n",
        "keymap.quit: ('ctrl+w', 'cmd+w')\n",
        "keymap.save: ('s', 'ctrl+s')\n",
        "keymap.xscale: ['k', 'L']\n",
        "keymap.yscale: l\n",
        "keymap.zoom: o\n",
        "legend.borderaxespad: 0.5\n",
        "legend.borderpad: 0.4\n",
        "legend.columnspacing: 2.0\n",
        "legend.fancybox: False\n",
        "legend.fontsize: large\n",
        "legend.frameon: True\n",
        "legend.handleheight: 0.7\n",
        "legend.handlelength: 2.0\n",
        "legend.handletextpad: 0.8\n",
        "legend.isaxes: True\n",
        "legend.labelspacing: 0.5\n",
        "legend.loc: upper right\n",
        "legend.markerscale: 1.0\n",
        "legend.numpoints: 2\n",
        "legend.scatterpoints: 3\n",
        "legend.shadow: False\n",
        "lines.antialiased: True\n",
        "lines.color: b\n",
        "lines.dash_capstyle: butt\n",
        "lines.dash_joinstyle: round\n",
        "lines.linestyle: -\n",
        "lines.linewidth: 1.0\n",
        "lines.marker: None\n",
        "lines.markeredgewidth: 0.5\n",
        "lines.markersize: 6\n",
        "lines.solid_capstyle: projecting\n",
        "lines.solid_joinstyle: round\n",
        "mathtext.bf: serif:bold\n",
        "mathtext.cal: cursive\n",
        "mathtext.default: it\n",
        "mathtext.fallback_to_cm: True\n",
        "mathtext.fontset: cm\n",
        "mathtext.it: serif:italic\n",
        "mathtext.rm: serif\n",
        "mathtext.sf: sans\\-serif\n",
        "mathtext.tt: monospace\n",
        "patch.antialiased: True\n",
        "patch.edgecolor: k\n",
        "patch.facecolor: b\n",
        "patch.linewidth: 1.0\n",
        "path.effects: []\n",
        "path.simplify: True\n",
        "path.simplify_threshold: 0.111111111111\n",
        "path.sketch: None\n",
        "path.snap: True\n",
        "pdf.compression: 6\n",
        "pdf.fonttype: 3\n",
        "pdf.inheritcolor: False\n",
        "pdf.use14corefonts: False\n",
        "pgf.debug: False\n",
        "pgf.preamble: ['']\n",
        "pgf.rcfonts: True\n",
        "pgf.texsystem: xelatex\n",
        "plugins.directory: .matplotlib_plugins\n",
        "polaraxes.grid: True\n",
        "ps.distiller.res: 6000\n",
        "ps.fonttype: 3\n",
        "ps.papersize: letter\n",
        "ps.useafm: False\n",
        "ps.usedistiller: False\n",
        "savefig.bbox: None\n",
        "savefig.directory: ~\n",
        "savefig.dpi: 72\n",
        "savefig.edgecolor: w\n",
        "savefig.extension: png\n",
        "savefig.facecolor: w\n",
        "savefig.format: png\n",
        "savefig.frameon: True\n",
        "savefig.jpeg_quality: 95\n",
        "savefig.orientation: portrait\n",
        "savefig.pad_inches: 0.1\n",
        "svg.embed_char_paths: True\n",
        "svg.fonttype: path\n",
        "svg.image_inline: True\n",
        "svg.image_noscale: False\n",
        "text.antialiased: True\n",
        "text.color: k\n",
        "text.dvipnghack: None\n",
        "text.hinting: True\n",
        "text.hinting_factor: 8\n",
        "text.latex.preamble: ['']\n",
        "text.latex.preview: False\n",
        "text.latex.unicode: False\n",
        "text.usetex: False\n",
        "timezone: UTC\n",
        "tk.pythoninspect: False\n",
        "tk.window_focus: False\n",
        "toolbar: toolbar2\n",
        "verbose.fileo: sys.stdout\n",
        "verbose.level: silent\n",
        "webagg.open_in_browser: True\n",
        "webagg.port: 8988\n",
        "webagg.port_retries: 50\n",
        "xtick.color: k\n",
        "xtick.direction: in\n",
        "xtick.labelsize: medium\n",
        "xtick.major.pad: 4\n",
        "xtick.major.size: 4\n",
        "xtick.major.width: 0.5\n",
        "xtick.minor.pad: 4\n",
        "xtick.minor.size: 2\n",
        "xtick.minor.width: 0.5\n",
        "ytick.color: k\n",
        "ytick.direction: in\n",
        "ytick.labelsize: medium\n",
        "ytick.major.pad: 4\n",
        "ytick.major.size: 4\n",
        "ytick.major.width: 0.5\n",
        "ytick.minor.pad: 4\n",
        "ytick.minor.size: 2\n",
        "ytick.minor.width: 0.5\n"
       ]
      }
     ],
     "prompt_number": 9
    },
    {
     "cell_type": "markdown",
     "metadata": {},
     "source": [
      "That can be a bit unwieldy to manage! Suppose I want to know what I can change about `axes`. It's easy enough to find all of the keys which *begin*  with the word `axes`, but what about those containing the character string `axes` elsewhere? Here is a utility function to extract all of those keys containing a certain character string:"
     ]
    },
    {
     "cell_type": "code",
     "collapsed": false,
     "input": [
      "def get_keys_containing(word):\n",
      "    ''' \n",
      "    Returns those keys in `mpl_params` which contain the string `word`.\n",
      "    '''\n",
      "    \n",
      "    keys = [k for k in mpl_params.keys() if word in k]\n",
      "    return keys\n",
      "\n",
      "\n",
      "def format_key_value_pairs(word):\n",
      "    '''\n",
      "    Returns a list, formatted as a string, of all key-value pairs in `mpl_params` whose keys contain the string `word`\n",
      "    '''\n",
      "    \n",
      "    output = \"\"\n",
      "    \n",
      "    keys = get_keys_containing(word)\n",
      "    \n",
      "    for item in keys:\n",
      "        key = \"'{}'\".format(item)\n",
      "        value = mpl_params[item]\n",
      "    \n",
      "        pair = (\"{:>40}:{}\".format(key, value))\n",
      "        \n",
      "        output += pair + \"\\n\"\n",
      "    \n",
      "    return output"
     ],
     "language": "python",
     "metadata": {},
     "outputs": [],
     "prompt_number": 10
    },
    {
     "cell_type": "code",
     "collapsed": false,
     "input": [
      "font_keys = format_key_value_pairs(\"font\")\n",
      "edge_keys = format_key_value_pairs(\"edge\")\n",
      "\n",
      "print font_keys, edge_keys\n"
     ],
     "language": "python",
     "metadata": {},
     "outputs": [
      {
       "output_type": "stream",
       "stream": "stdout",
       "text": [
        "                          'font.cursive':['Apple Chancery', 'Textile', 'Zapf Chancery', 'Sand', 'cursive']\n",
        "                           'font.family':sans-serif\n",
        "                          'font.fantasy':['Comic Sans MS', 'Chicago', 'Charcoal', 'ImpactWestern', 'fantasy']\n",
        "                        'font.monospace':['Bitstream Vera Sans Mono', 'DejaVu Sans Mono', 'Andale Mono', 'Nimbus Mono L', 'Courier New', 'Courier', 'Fixed', 'Terminal', 'monospace']\n",
        "                       'font.sans-serif':['Bitstream Vera Sans', 'DejaVu Sans', 'Lucida Grande', 'Verdana', 'Geneva', 'Lucid', 'Arial', 'Helvetica', 'Avant Garde', 'sans-serif']\n",
        "                            'font.serif':['Bitstream Vera Serif', 'DejaVu Serif', 'New Century Schoolbook', 'Century Schoolbook L', 'Utopia', 'ITC Bookman', 'Bookman', 'Nimbus Roman No9 L', 'Times New Roman', 'Times', 'Palatino', 'Charter', 'serif']\n",
        "                             'font.size':20.0\n",
        "                          'font.stretch':normal\n",
        "                            'font.style':normal\n",
        "                          'font.variant':normal\n",
        "                           'font.weight':normal\n",
        "                       'legend.fontsize':large\n",
        "                      'mathtext.fontset':cm\n",
        "                          'pdf.fonttype':3\n",
        "                    'pdf.use14corefonts':False\n",
        "                           'pgf.rcfonts':True\n",
        "                           'ps.fonttype':3\n",
        "                          'svg.fonttype':path\n",
        "                        'axes.edgecolor':k\n",
        "                      'figure.edgecolor':white\n",
        "                 'lines.markeredgewidth':0.5\n",
        "                       'patch.edgecolor':k\n",
        "                     'savefig.edgecolor':w\n",
        "\n"
       ]
      }
     ],
     "prompt_number": 11
    },
    {
     "cell_type": "heading",
     "level": 2,
     "metadata": {},
     "source": [
      "What's next?"
     ]
    },
    {
     "cell_type": "markdown",
     "metadata": {},
     "source": [
      "That's all there is to it. Now just sit down and play around. Remember that since we are working in the IPython Notebook (where else?!), we can play around and tweak to our heart's content, running the same cell over and over again by executing the cell with `Ctrl-Enter`, instead of `Shift-Enter`.\n"
     ]
    },
    {
     "cell_type": "markdown",
     "metadata": {},
     "source": [
      "Happy style hunting!"
     ]
    }
   ],
   "metadata": {}
  }
 ]
}